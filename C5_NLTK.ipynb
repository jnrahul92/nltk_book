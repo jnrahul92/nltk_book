{
  "nbformat": 4,
  "nbformat_minor": 0,
  "metadata": {
    "colab": {
      "name": "C5_NLTK.ipynb",
      "provenance": [],
      "authorship_tag": "ABX9TyOliWKTqdllzZK0ajqbKlky",
      "include_colab_link": true
    },
    "kernelspec": {
      "name": "python3",
      "display_name": "Python 3"
    },
    "language_info": {
      "name": "python"
    }
  },
  "cells": [
    {
      "cell_type": "markdown",
      "metadata": {
        "id": "view-in-github",
        "colab_type": "text"
      },
      "source": [
        "<a href=\"https://colab.research.google.com/github/jnrahul92/nltk_book/blob/main/C5_NLTK.ipynb\" target=\"_parent\"><img src=\"https://colab.research.google.com/assets/colab-badge.svg\" alt=\"Open In Colab\"/></a>"
      ]
    },
    {
      "cell_type": "code",
      "execution_count": 1,
      "metadata": {
        "id": "XQaP3M9ACXf7"
      },
      "outputs": [],
      "source": [
        "import nltk"
      ]
    },
    {
      "cell_type": "code",
      "source": [
        "from nltk import word_tokenize"
      ],
      "metadata": {
        "id": "K1c2ny5SChD_"
      },
      "execution_count": 2,
      "outputs": []
    },
    {
      "cell_type": "code",
      "source": [
        "nltk.download('punkt')"
      ],
      "metadata": {
        "colab": {
          "base_uri": "https://localhost:8080/"
        },
        "id": "wtO9rsbmCmJU",
        "outputId": "d65ea782-d6b9-437a-b992-0e3d8602ec19"
      },
      "execution_count": 4,
      "outputs": [
        {
          "output_type": "stream",
          "name": "stderr",
          "text": [
            "[nltk_data] Downloading package punkt to /root/nltk_data...\n",
            "[nltk_data]   Unzipping tokenizers/punkt.zip.\n"
          ]
        },
        {
          "output_type": "execute_result",
          "data": {
            "text/plain": [
              "True"
            ]
          },
          "metadata": {},
          "execution_count": 4
        }
      ]
    },
    {
      "cell_type": "code",
      "source": [
        "text = word_tokenize(\"And now for something completely different\")"
      ],
      "metadata": {
        "id": "heDj6pnoCc44"
      },
      "execution_count": 5,
      "outputs": []
    },
    {
      "cell_type": "code",
      "source": [
        "nltk.download('averaged_perceptron_tagger')\n",
        "nltk.pos_tag(text)"
      ],
      "metadata": {
        "colab": {
          "base_uri": "https://localhost:8080/"
        },
        "id": "7Ar-3yjGCjop",
        "outputId": "c1543948-679e-44f0-9782-d446ee4759c7"
      },
      "execution_count": 7,
      "outputs": [
        {
          "output_type": "stream",
          "name": "stderr",
          "text": [
            "[nltk_data] Downloading package averaged_perceptron_tagger to\n",
            "[nltk_data]     /root/nltk_data...\n",
            "[nltk_data]   Unzipping taggers/averaged_perceptron_tagger.zip.\n"
          ]
        },
        {
          "output_type": "execute_result",
          "data": {
            "text/plain": [
              "[('And', 'CC'),\n",
              " ('now', 'RB'),\n",
              " ('for', 'IN'),\n",
              " ('something', 'NN'),\n",
              " ('completely', 'RB'),\n",
              " ('different', 'JJ')]"
            ]
          },
          "metadata": {},
          "execution_count": 7
        }
      ]
    },
    {
      "cell_type": "code",
      "source": [
        "text = word_tokenize(\"They refuse to permit us to obtain the refuse permit\")\n",
        "nltk.pos_tag(text)"
      ],
      "metadata": {
        "colab": {
          "base_uri": "https://localhost:8080/"
        },
        "id": "aGRRtq59Cq38",
        "outputId": "8201a92b-1617-4850-b7b7-ad43793dc32c"
      },
      "execution_count": 8,
      "outputs": [
        {
          "output_type": "execute_result",
          "data": {
            "text/plain": [
              "[('They', 'PRP'),\n",
              " ('refuse', 'VBP'),\n",
              " ('to', 'TO'),\n",
              " ('permit', 'VB'),\n",
              " ('us', 'PRP'),\n",
              " ('to', 'TO'),\n",
              " ('obtain', 'VB'),\n",
              " ('the', 'DT'),\n",
              " ('refuse', 'NN'),\n",
              " ('permit', 'NN')]"
            ]
          },
          "metadata": {},
          "execution_count": 8
        }
      ]
    },
    {
      "cell_type": "code",
      "source": [
        "text = word_tokenize(\"to resume\")\n",
        "nltk.pos_tag(text)"
      ],
      "metadata": {
        "colab": {
          "base_uri": "https://localhost:8080/"
        },
        "id": "CIJ7uwXuC4um",
        "outputId": "fa383f8d-f739-46c6-948d-7ff6727eb3b0"
      },
      "execution_count": 9,
      "outputs": [
        {
          "output_type": "execute_result",
          "data": {
            "text/plain": [
              "[('to', 'TO'), ('resume', 'VB')]"
            ]
          },
          "metadata": {},
          "execution_count": 9
        }
      ]
    },
    {
      "cell_type": "code",
      "source": [
        "text = word_tokenize(\"my resume\")\n",
        "nltk.pos_tag(text)"
      ],
      "metadata": {
        "colab": {
          "base_uri": "https://localhost:8080/"
        },
        "id": "0Cbon0xODJYH",
        "outputId": "e9e8579a-ae0b-4fb3-8cd1-20a8154d661d"
      },
      "execution_count": 10,
      "outputs": [
        {
          "output_type": "execute_result",
          "data": {
            "text/plain": [
              "[('my', 'PRP$'), ('resume', 'NN')]"
            ]
          },
          "metadata": {},
          "execution_count": 10
        }
      ]
    },
    {
      "cell_type": "code",
      "source": [
        "nltk.download('brown')\n",
        "text = nltk.Text(word.lower() for word in nltk.corpus.brown.words())"
      ],
      "metadata": {
        "colab": {
          "base_uri": "https://localhost:8080/"
        },
        "id": "RZVQGmf6DMLY",
        "outputId": "154b60aa-8e93-43a2-9f98-29ec009c55cd"
      },
      "execution_count": 12,
      "outputs": [
        {
          "output_type": "stream",
          "name": "stderr",
          "text": [
            "[nltk_data] Downloading package brown to /root/nltk_data...\n",
            "[nltk_data]   Unzipping corpora/brown.zip.\n"
          ]
        }
      ]
    },
    {
      "cell_type": "code",
      "source": [
        "text.similar('woman')"
      ],
      "metadata": {
        "colab": {
          "base_uri": "https://localhost:8080/"
        },
        "id": "xPxQl1HoDVtf",
        "outputId": "0acbc40d-6ae4-41b3-e418-0c79a98ff718"
      },
      "execution_count": 13,
      "outputs": [
        {
          "output_type": "stream",
          "name": "stdout",
          "text": [
            "man time day year car moment world house family child country boy\n",
            "state job place way war girl work word\n"
          ]
        }
      ]
    },
    {
      "cell_type": "code",
      "source": [
        "text.similar(\"bought\")"
      ],
      "metadata": {
        "colab": {
          "base_uri": "https://localhost:8080/"
        },
        "id": "O2ZxBANxDeCf",
        "outputId": "135744b8-6f9d-468d-d059-9a8d5acd38ca"
      },
      "execution_count": 14,
      "outputs": [
        {
          "output_type": "stream",
          "name": "stdout",
          "text": [
            "made said done put had seen found given left heard was been brought\n",
            "set got that took in told felt\n"
          ]
        }
      ]
    },
    {
      "cell_type": "code",
      "source": [
        "tagged_token = nltk.tag.str2tuple('fly/NN')"
      ],
      "metadata": {
        "id": "qRAKqrLtDi29"
      },
      "execution_count": 15,
      "outputs": []
    },
    {
      "cell_type": "code",
      "source": [
        "tagged_token"
      ],
      "metadata": {
        "colab": {
          "base_uri": "https://localhost:8080/"
        },
        "id": "835HjyxWDydE",
        "outputId": "3b096dd6-d814-4169-c1d5-965ee4b55ad5"
      },
      "execution_count": 16,
      "outputs": [
        {
          "output_type": "execute_result",
          "data": {
            "text/plain": [
              "('fly', 'NN')"
            ]
          },
          "metadata": {},
          "execution_count": 16
        }
      ]
    },
    {
      "cell_type": "code",
      "source": [
        "nltk.corpus.brown.tagged_words()"
      ],
      "metadata": {
        "colab": {
          "base_uri": "https://localhost:8080/"
        },
        "id": "ZHzoWxvOD0v7",
        "outputId": "24acd4d2-f62a-4009-eb46-1f037f94fd48"
      },
      "execution_count": 17,
      "outputs": [
        {
          "output_type": "execute_result",
          "data": {
            "text/plain": [
              "[('The', 'AT'), ('Fulton', 'NP-TL'), ...]"
            ]
          },
          "metadata": {},
          "execution_count": 17
        }
      ]
    },
    {
      "cell_type": "code",
      "source": [
        "nltk.download('universal_tagset')\n",
        "nltk.corpus.brown.tagged_words(tagset = \"universal\")"
      ],
      "metadata": {
        "colab": {
          "base_uri": "https://localhost:8080/"
        },
        "id": "e7GJvS85EDUi",
        "outputId": "6556663d-51ae-4bf2-abad-62df8473674c"
      },
      "execution_count": 19,
      "outputs": [
        {
          "output_type": "stream",
          "name": "stderr",
          "text": [
            "[nltk_data] Downloading package universal_tagset to /root/nltk_data...\n",
            "[nltk_data]   Unzipping taggers/universal_tagset.zip.\n"
          ]
        },
        {
          "output_type": "execute_result",
          "data": {
            "text/plain": [
              "[('The', 'DET'), ('Fulton', 'NOUN'), ...]"
            ]
          },
          "metadata": {},
          "execution_count": 19
        }
      ]
    },
    {
      "cell_type": "code",
      "source": [
        "nltk.download('indian')\n",
        "nltk.corpus.indian.tagged_words()"
      ],
      "metadata": {
        "colab": {
          "base_uri": "https://localhost:8080/"
        },
        "id": "DplUGSlNEMK-",
        "outputId": "5bc06bd5-b0b6-4ac4-cd5b-9d3ed870f451"
      },
      "execution_count": 22,
      "outputs": [
        {
          "output_type": "stream",
          "name": "stderr",
          "text": [
            "[nltk_data] Downloading package indian to /root/nltk_data...\n",
            "[nltk_data]   Unzipping corpora/indian.zip.\n"
          ]
        },
        {
          "output_type": "execute_result",
          "data": {
            "text/plain": [
              "[('মহিষের', 'NN'), ('সন্তান', 'NN'), (':', 'SYM'), ...]"
            ]
          },
          "metadata": {},
          "execution_count": 22
        }
      ]
    },
    {
      "cell_type": "code",
      "source": [
        "from nltk.corpus import brown"
      ],
      "metadata": {
        "id": "ty_4lA3KEaCK"
      },
      "execution_count": 23,
      "outputs": []
    },
    {
      "cell_type": "code",
      "source": [
        "brown_news_tagged = brown.tagged_words(categories='news', tagset='universal')"
      ],
      "metadata": {
        "id": "3UjS2atdExsl"
      },
      "execution_count": 24,
      "outputs": []
    },
    {
      "cell_type": "code",
      "source": [
        "tag_fd = nltk.FreqDist(tag for (word, tag) in brown_news_tagged)\n",
        "tag_fd.most_common()"
      ],
      "metadata": {
        "colab": {
          "base_uri": "https://localhost:8080/"
        },
        "id": "v0FIYgXREz3W",
        "outputId": "e893bf6b-6e67-4ae3-bfbb-d66e6523cd42"
      },
      "execution_count": 25,
      "outputs": [
        {
          "output_type": "execute_result",
          "data": {
            "text/plain": [
              "[('NOUN', 30654),\n",
              " ('VERB', 14399),\n",
              " ('ADP', 12355),\n",
              " ('.', 11928),\n",
              " ('DET', 11389),\n",
              " ('ADJ', 6706),\n",
              " ('ADV', 3349),\n",
              " ('CONJ', 2717),\n",
              " ('PRON', 2535),\n",
              " ('PRT', 2264),\n",
              " ('NUM', 2166),\n",
              " ('X', 92)]"
            ]
          },
          "metadata": {},
          "execution_count": 25
        }
      ]
    },
    {
      "cell_type": "code",
      "source": [
        "tag_fd.plot(cumulative = True)"
      ],
      "metadata": {
        "colab": {
          "base_uri": "https://localhost:8080/",
          "height": 316
        },
        "id": "1UhdfL_HE4_e",
        "outputId": "adae2e5f-3bac-4c27-93fd-0cc32143c642"
      },
      "execution_count": 27,
      "outputs": [
        {
          "output_type": "display_data",
          "data": {
            "text/plain": [
              "<Figure size 432x288 with 1 Axes>"
            ],
            "image/png": "[encoded data removed]"
          },
          "metadata": {
            "needs_background": "light"
          }
        },
        {
          "output_type": "execute_result",
          "data": {
            "text/plain": [
              "<matplotlib.axes._subplots.AxesSubplot at 0x7f97fbecfa10>"
            ]
          },
          "metadata": {},
          "execution_count": 27
        }
      ]
    },
    {
      "cell_type": "code",
      "source": [
        "word_tag_pairs = nltk.bigrams(brown_news_tagged)\n",
        "noun_preceders = [a[1] for (a, b) in word_tag_pairs if b[1] == 'NOUN']\n",
        "fdist = nltk.FreqDist(noun_preceders)\n",
        "[tag for (tag, _) in fdist.most_common()]"
      ],
      "metadata": {
        "colab": {
          "base_uri": "https://localhost:8080/"
        },
        "id": "R_jP5URFE_3r",
        "outputId": "3187736c-170b-42fa-8611-8c0c60d8a865"
      },
      "execution_count": 28,
      "outputs": [
        {
          "output_type": "execute_result",
          "data": {
            "text/plain": [
              "['NOUN',\n",
              " 'DET',\n",
              " 'ADJ',\n",
              " 'ADP',\n",
              " '.',\n",
              " 'VERB',\n",
              " 'CONJ',\n",
              " 'NUM',\n",
              " 'ADV',\n",
              " 'PRT',\n",
              " 'PRON',\n",
              " 'X']"
            ]
          },
          "metadata": {},
          "execution_count": 28
        }
      ]
    },
    {
      "cell_type": "code",
      "source": [
        "nltk.download('treebank')\n",
        "wsj = nltk.corpus.treebank.tagged_words(tagset='universal')\n",
        "word_tag_fd = nltk.FreqDist(wsj)\n",
        "[wt[0] for (wt, _) in word_tag_fd.most_common() if wt[1] == 'VERB']"
      ],
      "metadata": {
        "colab": {
          "base_uri": "https://localhost:8080/"
        },
        "id": "0DRl-lPzFZHB",
        "outputId": "408d0a5d-b833-4418-e8b9-a7b8ab642416"
      },
      "execution_count": 29,
      "outputs": [
        {
          "output_type": "stream",
          "name": "stderr",
          "text": [
            "[nltk_data] Downloading package treebank to /root/nltk_data...\n",
            "[nltk_data]   Unzipping corpora/treebank.zip.\n"
          ]
        },
        {
          "output_type": "execute_result",
          "data": {
            "text/plain": [
              "['is',\n",
              " 'said',\n",
              " 'was',\n",
              " 'are',\n",
              " 'be',\n",
              " 'has',\n",
              " 'have',\n",
              " 'will',\n",
              " 'says',\n",
              " 'would',\n",
              " 'were',\n",
              " 'had',\n",
              " 'been',\n",
              " 'could',\n",
              " \"'s\",\n",
              " 'can',\n",
              " 'do',\n",
              " 'say',\n",
              " 'make',\n",
              " 'may',\n",
              " 'did',\n",
              " 'rose',\n",
              " 'made',\n",
              " 'does',\n",
              " 'expected',\n",
              " 'buy',\n",
              " 'take',\n",
              " 'get',\n",
              " 'might',\n",
              " 'sell',\n",
              " 'added',\n",
              " 'sold',\n",
              " 'help',\n",
              " 'including',\n",
              " 'should',\n",
              " 'reported',\n",
              " 'according',\n",
              " 'pay',\n",
              " 'compared',\n",
              " 'being',\n",
              " 'fell',\n",
              " 'began',\n",
              " 'based',\n",
              " 'used',\n",
              " 'closed',\n",
              " \"'re\",\n",
              " 'want',\n",
              " 'see',\n",
              " 'took',\n",
              " 'yield',\n",
              " 'offered',\n",
              " 'set',\n",
              " 'priced',\n",
              " 'approved',\n",
              " 'come',\n",
              " 'noted',\n",
              " 'cut',\n",
              " 'ended',\n",
              " 'found',\n",
              " 'increased',\n",
              " 'become',\n",
              " 'think',\n",
              " 'named',\n",
              " 'go',\n",
              " 'trying',\n",
              " 'proposed',\n",
              " 'received',\n",
              " 'growing',\n",
              " 'declined',\n",
              " 'held',\n",
              " 'give',\n",
              " 'came',\n",
              " 'use',\n",
              " 'put',\n",
              " 'making',\n",
              " 'continue',\n",
              " 'raise',\n",
              " 'estimated',\n",
              " 'called',\n",
              " 'paid',\n",
              " 'designed',\n",
              " 'going',\n",
              " 'expects',\n",
              " 'seeking',\n",
              " 'must',\n",
              " 'plans',\n",
              " 'wo',\n",
              " 'increasing',\n",
              " 'saying',\n",
              " 'got',\n",
              " 'owns',\n",
              " 'trading',\n",
              " 'acquired',\n",
              " 'gained',\n",
              " 'fined',\n",
              " 'reached',\n",
              " 'holding',\n",
              " 'announced',\n",
              " 'filed',\n",
              " 'became',\n",
              " 'seek',\n",
              " 'included',\n",
              " 'using',\n",
              " 'led',\n",
              " 'decided',\n",
              " 'keep',\n",
              " 'disclosed',\n",
              " 'agreed',\n",
              " 'find',\n",
              " 'failed',\n",
              " 'run',\n",
              " 'taken',\n",
              " 'know',\n",
              " 'coming',\n",
              " \"'ve\",\n",
              " 'completed',\n",
              " 'built',\n",
              " 'raised',\n",
              " 'traded',\n",
              " 'lost',\n",
              " 'continued',\n",
              " 'paying',\n",
              " 'include',\n",
              " 'believe',\n",
              " 'receive',\n",
              " 'posted',\n",
              " 'wants',\n",
              " 'scheduled',\n",
              " 'went',\n",
              " 'indicated',\n",
              " 'provide',\n",
              " 'helped',\n",
              " 'needed',\n",
              " 'goes',\n",
              " 'told',\n",
              " 'result',\n",
              " 'need',\n",
              " 'caused',\n",
              " 'continues',\n",
              " 'dropped',\n",
              " 'showed',\n",
              " 'ordered',\n",
              " 'changed',\n",
              " 'face',\n",
              " 'continuing',\n",
              " 'launched',\n",
              " 'gives',\n",
              " 'reduce',\n",
              " \"'m\",\n",
              " 'lead',\n",
              " 'planned',\n",
              " 'wanted',\n",
              " 'following',\n",
              " 'remains',\n",
              " 'followed',\n",
              " 'remain',\n",
              " 'meet',\n",
              " 'believes',\n",
              " 'trade',\n",
              " 'includes',\n",
              " 'improve',\n",
              " 'buying',\n",
              " 'issued',\n",
              " 'rise',\n",
              " 'leading',\n",
              " 'ca',\n",
              " 'involved',\n",
              " 'known',\n",
              " 'like',\n",
              " 'makes',\n",
              " 'having',\n",
              " 'rejected',\n",
              " 'rising',\n",
              " 'increase',\n",
              " 'turned',\n",
              " 'operating',\n",
              " 'read',\n",
              " 'feel',\n",
              " 'win',\n",
              " 'given',\n",
              " 'prevent',\n",
              " 'offset',\n",
              " 'barred',\n",
              " 'earned',\n",
              " 'consented',\n",
              " 'support',\n",
              " 'gave',\n",
              " 'totaled',\n",
              " 'acquire',\n",
              " 'required',\n",
              " 'begin',\n",
              " 'require',\n",
              " 'offer',\n",
              " 'preferred',\n",
              " 'produced',\n",
              " 'bought',\n",
              " 'offering',\n",
              " 'asked',\n",
              " 'carry',\n",
              " 'build',\n",
              " 'takes',\n",
              " 'seem',\n",
              " 'introduced',\n",
              " 'taking',\n",
              " 'won',\n",
              " 'aimed',\n",
              " 'hurt',\n",
              " 'adds',\n",
              " 'cited',\n",
              " 'sought',\n",
              " 'bring',\n",
              " 'remaining',\n",
              " 'considered',\n",
              " 'suspended',\n",
              " 'prove',\n",
              " 'looking',\n",
              " 'doing',\n",
              " 'involving',\n",
              " 'opened',\n",
              " 'working',\n",
              " 'close',\n",
              " 'own',\n",
              " 'report',\n",
              " 'left',\n",
              " 'boosted',\n",
              " 'giving',\n",
              " 'fixed',\n",
              " 'listed',\n",
              " 'runs',\n",
              " 'purchasing',\n",
              " 'consider',\n",
              " 'prepared',\n",
              " 'hit',\n",
              " 'getting',\n",
              " 'alleged',\n",
              " 'look',\n",
              " 'allowed',\n",
              " 'approve',\n",
              " 'wrote',\n",
              " 'reduced',\n",
              " 'fall',\n",
              " 'advanced',\n",
              " 'appears',\n",
              " 'mixed',\n",
              " 'described',\n",
              " 'expect',\n",
              " 'manufacturing',\n",
              " 'spent',\n",
              " 'According',\n",
              " 'hopes',\n",
              " 'underlying',\n",
              " 'produce',\n",
              " 'work',\n",
              " 'placed',\n",
              " 'allow',\n",
              " 'sells',\n",
              " 'operate',\n",
              " 'extend',\n",
              " 'surged',\n",
              " 'jumped',\n",
              " 'boost',\n",
              " 'slowing',\n",
              " 'provided',\n",
              " 'seems',\n",
              " 'ending',\n",
              " 'selling',\n",
              " 'opposed',\n",
              " 'created',\n",
              " 'move',\n",
              " 'seen',\n",
              " 'comment',\n",
              " 'valued',\n",
              " 'losing',\n",
              " 'mature',\n",
              " 'provides',\n",
              " 'let',\n",
              " 'stopped',\n",
              " 'worked',\n",
              " 'thought',\n",
              " 'watch',\n",
              " 'introduce',\n",
              " 'related',\n",
              " 'improved',\n",
              " 'raising',\n",
              " 'seemed',\n",
              " 'force',\n",
              " 'beginning',\n",
              " 'leave',\n",
              " 'believed',\n",
              " 'stand',\n",
              " 'developed',\n",
              " 'decline',\n",
              " 'expire',\n",
              " 'managing',\n",
              " 'hold',\n",
              " 'invested',\n",
              " 'suggests',\n",
              " 'represent',\n",
              " 'settle',\n",
              " 'change',\n",
              " 'contributed',\n",
              " 'indicates',\n",
              " 'asking',\n",
              " 'elaborate',\n",
              " 'shows',\n",
              " 'refused',\n",
              " 'quoted',\n",
              " 'comes',\n",
              " 'ease',\n",
              " 'passed',\n",
              " 'Says',\n",
              " 'avoid',\n",
              " 'threatened',\n",
              " 'cause',\n",
              " 'end',\n",
              " 'violate',\n",
              " 'operates',\n",
              " 'kept',\n",
              " \"'ll\",\n",
              " 'soared',\n",
              " 'eliminated',\n",
              " 'becomes',\n",
              " 'create',\n",
              " 'print',\n",
              " 'shall',\n",
              " 'show',\n",
              " 'replaced',\n",
              " 'owned',\n",
              " 'argue',\n",
              " 'beat',\n",
              " 'elected',\n",
              " 'complete',\n",
              " 'issue',\n",
              " 'act',\n",
              " 'return',\n",
              " 'registered',\n",
              " 'suffer',\n",
              " 'worried',\n",
              " 'succeed',\n",
              " 'block',\n",
              " 'contain',\n",
              " 'occur',\n",
              " 'pursue',\n",
              " 'combined',\n",
              " 'requires',\n",
              " 'met',\n",
              " 'brought',\n",
              " 'started',\n",
              " 'covered',\n",
              " 'turn',\n",
              " 'running',\n",
              " 'eliminate',\n",
              " 'file',\n",
              " 'plunged',\n",
              " 'fallen',\n",
              " 'ran',\n",
              " 'fired',\n",
              " 'becoming',\n",
              " 'contained',\n",
              " 'managed',\n",
              " 'Take',\n",
              " 'suggested',\n",
              " 'accused',\n",
              " 'appeared',\n",
              " 'slow',\n",
              " 'helping',\n",
              " 'discovered',\n",
              " 'add',\n",
              " 'referred',\n",
              " 'oppose',\n",
              " 'stop',\n",
              " 'claim',\n",
              " 'sent',\n",
              " 'formed',\n",
              " 'resulting',\n",
              " 'turning',\n",
              " 'limited',\n",
              " 'shipped',\n",
              " 'forced',\n",
              " 'send',\n",
              " 'attract',\n",
              " 'admitting',\n",
              " 'denying',\n",
              " 'disgorge',\n",
              " 'attributed',\n",
              " 'causing',\n",
              " 'studied',\n",
              " 'resigned',\n",
              " 'cutting',\n",
              " 'voted',\n",
              " 'settled',\n",
              " 'expand',\n",
              " 'stood',\n",
              " 'retired',\n",
              " 'moved',\n",
              " 'pending',\n",
              " 'providing',\n",
              " 'anticipated',\n",
              " 'decide',\n",
              " 'creating',\n",
              " 'prompted',\n",
              " 'developing',\n",
              " 'start',\n",
              " 'maintained',\n",
              " 'expanding',\n",
              " 'follows',\n",
              " 'ranged',\n",
              " 'focused',\n",
              " 'climbed',\n",
              " 'reflect',\n",
              " 'insist',\n",
              " 'owed',\n",
              " 'happen',\n",
              " 'adjusted',\n",
              " 'awarded',\n",
              " 'reporting',\n",
              " 'talk',\n",
              " 'offers',\n",
              " 'written',\n",
              " 'urged',\n",
              " 'carried',\n",
              " 'identified',\n",
              " 'confirmed',\n",
              " 'playing',\n",
              " 'thinking',\n",
              " 'calls',\n",
              " 'means',\n",
              " 'tried',\n",
              " 'lying',\n",
              " 'asks',\n",
              " 'building',\n",
              " 'suggest',\n",
              " 'falling',\n",
              " 'discuss',\n",
              " 'matched',\n",
              " 'concluded',\n",
              " 'keeping',\n",
              " \"'d\",\n",
              " 'returned',\n",
              " 'withdrawn',\n",
              " 'bid',\n",
              " 'saw',\n",
              " 'signed',\n",
              " 'financing',\n",
              " 'assuming',\n",
              " 'adopted',\n",
              " 'attempting',\n",
              " 'accepted',\n",
              " 'cover',\n",
              " 'facing',\n",
              " 'risk',\n",
              " 'expanded',\n",
              " 'leaving',\n",
              " 'raises',\n",
              " 'declared',\n",
              " 'exercise',\n",
              " 'finished',\n",
              " 'regarding',\n",
              " 'finance',\n",
              " 'charge',\n",
              " 'starting',\n",
              " 'realize',\n",
              " 'felt',\n",
              " 'remained',\n",
              " 'expressed',\n",
              " 'done',\n",
              " 'replace',\n",
              " 'veto',\n",
              " 'stay',\n",
              " 'delivered',\n",
              " 'join',\n",
              " 'publishing',\n",
              " 'enters',\n",
              " 'appear',\n",
              " 'talking',\n",
              " 'heard',\n",
              " 'dumped',\n",
              " 'imported',\n",
              " 'assume',\n",
              " 'declining',\n",
              " 'capture',\n",
              " 'grew',\n",
              " 'holds',\n",
              " 'lift',\n",
              " 'treat',\n",
              " 'receiving',\n",
              " 'joined',\n",
              " 'reflecting',\n",
              " 'released',\n",
              " 'maintaining',\n",
              " 'cost',\n",
              " 'lowered',\n",
              " 'costs',\n",
              " 'exceed',\n",
              " 'gaining',\n",
              " 'considering',\n",
              " 'determined',\n",
              " 'ruled',\n",
              " 'hope',\n",
              " 'located',\n",
              " 'tied',\n",
              " 'heads',\n",
              " 'applied',\n",
              " 'failing',\n",
              " 'showing',\n",
              " 'apply',\n",
              " 'protecting',\n",
              " 'tells',\n",
              " 'complained',\n",
              " 'ask',\n",
              " 'triggered',\n",
              " 'entered',\n",
              " 'total',\n",
              " 'producing',\n",
              " 'denied',\n",
              " 'reducing',\n",
              " 'reflects',\n",
              " 'account',\n",
              " 'predicting',\n",
              " 'intended',\n",
              " 'purchased',\n",
              " 'blamed',\n",
              " 'worry',\n",
              " 'broken',\n",
              " 'carries',\n",
              " 'learned',\n",
              " 'renewed',\n",
              " 'walk',\n",
              " 'viewed',\n",
              " 'die',\n",
              " 'speculated',\n",
              " 'needs',\n",
              " 'gets',\n",
              " 'wait',\n",
              " 'caught',\n",
              " 'claims',\n",
              " 'choose',\n",
              " 'fail',\n",
              " 'insists',\n",
              " 'knows',\n",
              " 'pass',\n",
              " 'grown',\n",
              " 'gotten',\n",
              " 'grows',\n",
              " 'responded',\n",
              " 'play',\n",
              " 'try',\n",
              " 'mean',\n",
              " 'encourage',\n",
              " 'chosen',\n",
              " 'admits',\n",
              " 'Do',\n",
              " 'dismissed',\n",
              " 'realized',\n",
              " 'serve',\n",
              " 'associated',\n",
              " 'slipped',\n",
              " 'argued',\n",
              " 'citing',\n",
              " 'seeks',\n",
              " 'preventing',\n",
              " 'sparked',\n",
              " 'review',\n",
              " 'opening',\n",
              " 'fueled',\n",
              " 'negotiate',\n",
              " 'drop',\n",
              " 'pleased',\n",
              " 'spend',\n",
              " 'care',\n",
              " 'represents',\n",
              " 'spread',\n",
              " 'explains',\n",
              " 'push',\n",
              " 'divided',\n",
              " 'proposing',\n",
              " 'gain',\n",
              " 'representing',\n",
              " 'financed',\n",
              " 'execute',\n",
              " 'existing',\n",
              " 'discussed',\n",
              " 'uses',\n",
              " 'live',\n",
              " 'ring',\n",
              " 'signal',\n",
              " 'focus',\n",
              " 'hired',\n",
              " 'limit',\n",
              " 'begins',\n",
              " 'reflected',\n",
              " 'hear',\n",
              " 'determine',\n",
              " 'profit',\n",
              " 'marketed',\n",
              " 'warned',\n",
              " 'qualified',\n",
              " 'died',\n",
              " 'surviving',\n",
              " 'study',\n",
              " 'explained',\n",
              " 'imposed',\n",
              " 'recognize',\n",
              " 'eased',\n",
              " 'indicate',\n",
              " 'permit',\n",
              " 'retain',\n",
              " 'yielding',\n",
              " 'boosts',\n",
              " 'obtain',\n",
              " 'employs',\n",
              " 'banned',\n",
              " 'pointed',\n",
              " 'leaves',\n",
              " 'withdraw',\n",
              " 'refund',\n",
              " 'collected',\n",
              " 'upheld',\n",
              " 'benefited',\n",
              " 'doubled',\n",
              " 'attached',\n",
              " 'jump',\n",
              " 'compete',\n",
              " 'incurred',\n",
              " 'removed',\n",
              " 'honor',\n",
              " 'varying',\n",
              " 'marketing',\n",
              " 'protect',\n",
              " 'reach',\n",
              " 'share',\n",
              " 'requested',\n",
              " 'grant',\n",
              " 'stepping',\n",
              " 'direct',\n",
              " 'curb',\n",
              " 'controlling',\n",
              " 'snapped',\n",
              " 'tend',\n",
              " 'cast',\n",
              " 'clear',\n",
              " 'permitted',\n",
              " 'remove',\n",
              " 'revive',\n",
              " 'draw',\n",
              " 'predicted',\n",
              " 'suspect',\n",
              " 'coupled',\n",
              " 'belong',\n",
              " 'call',\n",
              " 'describes',\n",
              " 'played',\n",
              " 'committed',\n",
              " 'advertising',\n",
              " 'tested',\n",
              " 'revived',\n",
              " 'earns',\n",
              " 'feeling',\n",
              " 'turns',\n",
              " 'executed',\n",
              " 'killed',\n",
              " 'presented',\n",
              " 'deserve',\n",
              " 'mention',\n",
              " 'seeing',\n",
              " 'discussing',\n",
              " 'convicted',\n",
              " 'telling',\n",
              " 'agree',\n",
              " 'denies',\n",
              " 'pursued',\n",
              " 'spurred',\n",
              " 'accommodate',\n",
              " 'surrendered',\n",
              " 'gone',\n",
              " 'teach',\n",
              " 'booming',\n",
              " 'serving',\n",
              " 'restore',\n",
              " 'restructured',\n",
              " 'taught',\n",
              " 'feared',\n",
              " 'meant',\n",
              " 'adding',\n",
              " 'publishes',\n",
              " 'improving',\n",
              " 'ignoring',\n",
              " 'represented',\n",
              " 'funded',\n",
              " 'involve',\n",
              " 'charged',\n",
              " 'fared',\n",
              " 'eliminates',\n",
              " 'tumbled',\n",
              " 'redeemed',\n",
              " 'resolve',\n",
              " 'stem',\n",
              " 'hire',\n",
              " 'obtained',\n",
              " 'develop',\n",
              " 'employed',\n",
              " 'prohibits',\n",
              " 'promote',\n",
              " 'impose',\n",
              " 'consist',\n",
              " 'investigating',\n",
              " 'accepting',\n",
              " 'plan',\n",
              " 'insisted',\n",
              " 'contacted',\n",
              " 'note',\n",
              " 'driving',\n",
              " 'contends',\n",
              " 'cites',\n",
              " 'point',\n",
              " 'sign',\n",
              " 'printed',\n",
              " 'advertise',\n",
              " 'breaks',\n",
              " 'damaged',\n",
              " 'check',\n",
              " 'thinks',\n",
              " 'looming',\n",
              " 'expecting',\n",
              " 'exercised',\n",
              " 'auctioned',\n",
              " 'disappointed',\n",
              " 'subordinated',\n",
              " 'respond',\n",
              " 'secured',\n",
              " 'integrated',\n",
              " 'performed',\n",
              " 'targeting',\n",
              " 'stepped',\n",
              " 'moving',\n",
              " 'split',\n",
              " 'Buy',\n",
              " 'stemming',\n",
              " 'executing',\n",
              " 'shut',\n",
              " 'writing',\n",
              " 'regulated',\n",
              " 'stands',\n",
              " 'attend',\n",
              " 'reopen',\n",
              " 'drawn',\n",
              " 'Put',\n",
              " 'notes',\n",
              " 'weaken',\n",
              " 'trailed',\n",
              " 'deliver',\n",
              " 'occurred',\n",
              " 'changing',\n",
              " 'accept',\n",
              " 'expelled',\n",
              " 'amounted',\n",
              " 'scrutinizing',\n",
              " 'suspend',\n",
              " 'compares',\n",
              " 'backed',\n",
              " 'vote',\n",
              " 'covers',\n",
              " 'knew',\n",
              " 'joining',\n",
              " 'record',\n",
              " 'regarded',\n",
              " 'copy',\n",
              " 'conclude',\n",
              " 'ought',\n",
              " 'dominated',\n",
              " 'pushed',\n",
              " 'closing',\n",
              " 'rumored',\n",
              " 'respected',\n",
              " 'specified',\n",
              " 'understand',\n",
              " 'supported',\n",
              " 'perform',\n",
              " 'declaring',\n",
              " 'struggling',\n",
              " 'abandoned',\n",
              " 'considers',\n",
              " 'warning',\n",
              " 'offsetting',\n",
              " 'break',\n",
              " 'follow',\n",
              " 'figure',\n",
              " 'increases',\n",
              " 'proving',\n",
              " 'edged',\n",
              " 'Buying',\n",
              " 'forecast',\n",
              " 'specify',\n",
              " 'extended',\n",
              " 'tendered',\n",
              " 'unveiled',\n",
              " 'treating',\n",
              " 'exposed',\n",
              " 'industrialized',\n",
              " 'regulate',\n",
              " 'contracted',\n",
              " 'blip',\n",
              " 'vary',\n",
              " 'slid',\n",
              " 'succeeds',\n",
              " 'lifted',\n",
              " 'acts',\n",
              " 'welcomed',\n",
              " 'squeezed',\n",
              " 'fed',\n",
              " 'casting',\n",
              " 'prolonged',\n",
              " 'recorded',\n",
              " 'announce',\n",
              " 'reward',\n",
              " 'bowed',\n",
              " 'justify',\n",
              " 'asserted',\n",
              " 'appealing',\n",
              " 'faces',\n",
              " 'rule',\n",
              " 'inched',\n",
              " 'manufacture',\n",
              " 'fund',\n",
              " 'anticipates',\n",
              " 'link',\n",
              " 'describe',\n",
              " 'roll',\n",
              " 'calculate',\n",
              " 'transferring',\n",
              " 'favored',\n",
              " 'claiming',\n",
              " 'hurting',\n",
              " 'investing',\n",
              " 'trained',\n",
              " 'instituted',\n",
              " 'introducing',\n",
              " 'vowed',\n",
              " 'deemed',\n",
              " 'pose',\n",
              " 'concerned',\n",
              " 'accelerated',\n",
              " 'feels',\n",
              " 'solved',\n",
              " 'forgiven',\n",
              " 'stored',\n",
              " 'assembled',\n",
              " 'totaling',\n",
              " 'linked',\n",
              " 'forces',\n",
              " 'attempts',\n",
              " 'advertised',\n",
              " 'marks',\n",
              " 'sweeping',\n",
              " 'invest',\n",
              " 'kicked',\n",
              " 'brings',\n",
              " 'scrambled',\n",
              " 'diversify',\n",
              " 'swing',\n",
              " 'skyrocketed',\n",
              " 'targeted',\n",
              " 'repaid',\n",
              " 'open',\n",
              " 'crippled',\n",
              " 'lent',\n",
              " 'belongs',\n",
              " 'stressed',\n",
              " 'leveling',\n",
              " 'manufactured',\n",
              " 'pick',\n",
              " 'cite',\n",
              " 'provoke',\n",
              " 'last',\n",
              " 'climbing',\n",
              " 'Excluding',\n",
              " 'adjusting',\n",
              " 'counts',\n",
              " 'handle',\n",
              " 'polled',\n",
              " 'drink',\n",
              " 'sets',\n",
              " 'sidestep',\n",
              " 'fare',\n",
              " 'letting',\n",
              " 'entering',\n",
              " 'ban',\n",
              " 'visiting',\n",
              " 'endorsed',\n",
              " 'balked',\n",
              " 'compensate',\n",
              " 'terminated',\n",
              " 'modify',\n",
              " 'operated',\n",
              " 'entitles',\n",
              " 'romanticized',\n",
              " 'spends',\n",
              " 'condemned',\n",
              " 'competing',\n",
              " 'returning',\n",
              " 'murdered',\n",
              " 'load',\n",
              " 'lives',\n",
              " 'recommend',\n",
              " 'fighting',\n",
              " 'fills',\n",
              " 'charges',\n",
              " 'exist',\n",
              " 'Stung',\n",
              " 'banning',\n",
              " 'admitted',\n",
              " 'talks',\n",
              " 'launch',\n",
              " 'attracted',\n",
              " 'featured',\n",
              " 'devote',\n",
              " 'featuring',\n",
              " 'suing',\n",
              " 'shrinks',\n",
              " 'tripled',\n",
              " 'pumping',\n",
              " 'contributing',\n",
              " 'spur',\n",
              " 'concentrated',\n",
              " 'export',\n",
              " 'pull',\n",
              " 'approach',\n",
              " 'step',\n",
              " 'regard',\n",
              " 'breach',\n",
              " 'pleaded',\n",
              " 'inspired',\n",
              " 'defended',\n",
              " 'treated',\n",
              " 'casts',\n",
              " 'violated',\n",
              " 'enforce',\n",
              " 'surfaced',\n",
              " 'concentrate',\n",
              " 'stressing',\n",
              " 'suffered',\n",
              " 'loved',\n",
              " 'advised',\n",
              " 'studying',\n",
              " 'pushing',\n",
              " 'earn',\n",
              " 'save',\n",
              " 'interviewed',\n",
              " 'explain',\n",
              " 'gauge',\n",
              " 'measured',\n",
              " 'deny',\n",
              " 'hampered',\n",
              " 'fill',\n",
              " 'nominated',\n",
              " 'assured',\n",
              " 'finding',\n",
              " 'conducting',\n",
              " 'tracks',\n",
              " 'merge',\n",
              " 'merged',\n",
              " 'banking',\n",
              " 'achieve',\n",
              " 'acquiring',\n",
              " 'post',\n",
              " 'wish',\n",
              " 'retained',\n",
              " 'spark',\n",
              " 'chaired',\n",
              " 'deal',\n",
              " 'submit',\n",
              " 'sending',\n",
              " 'test',\n",
              " 'relegated',\n",
              " 'alleging',\n",
              " 'mounted',\n",
              " 'harass',\n",
              " 'crossing',\n",
              " 'involves',\n",
              " 'assist',\n",
              " 'killing',\n",
              " 'served',\n",
              " 'understood',\n",
              " 'touch',\n",
              " 'Asked',\n",
              " 'design',\n",
              " 'retaining',\n",
              " 'belonging',\n",
              " 'compiled',\n",
              " 'Guaranteed',\n",
              " 'positioned',\n",
              " 'plunging',\n",
              " 'locked',\n",
              " 'starts',\n",
              " 'waiting',\n",
              " 'rolled',\n",
              " 'lock',\n",
              " 'drifted',\n",
              " 'measures',\n",
              " 'Estimated',\n",
              " ...]"
            ]
          },
          "metadata": {},
          "execution_count": 29
        }
      ]
    },
    {
      "cell_type": "code",
      "source": [
        "cfd1 = nltk.ConditionalFreqDist(wsj)"
      ],
      "metadata": {
        "id": "iAzkbiSpFvpr"
      },
      "execution_count": 30,
      "outputs": []
    },
    {
      "cell_type": "code",
      "source": [
        "cfd1['yield'].most_common()"
      ],
      "metadata": {
        "colab": {
          "base_uri": "https://localhost:8080/"
        },
        "id": "CnGj6FiuF5Vn",
        "outputId": "3a21c70a-daf8-4346-8354-042e0884d447"
      },
      "execution_count": 32,
      "outputs": [
        {
          "output_type": "execute_result",
          "data": {
            "text/plain": [
              "[('VERB', 28), ('NOUN', 20)]"
            ]
          },
          "metadata": {},
          "execution_count": 32
        }
      ]
    },
    {
      "cell_type": "code",
      "source": [
        "cfd1['cut'].most_common()"
      ],
      "metadata": {
        "colab": {
          "base_uri": "https://localhost:8080/"
        },
        "id": "iZBuLu-RF7wi",
        "outputId": "5358b5bc-f612-4a00-f69e-0ea24497803d"
      },
      "execution_count": 33,
      "outputs": [
        {
          "output_type": "execute_result",
          "data": {
            "text/plain": [
              "[('VERB', 25), ('NOUN', 3)]"
            ]
          },
          "metadata": {},
          "execution_count": 33
        }
      ]
    },
    {
      "cell_type": "code",
      "source": [
        "wsj = nltk.corpus.treebank.tagged_words()\n",
        "cfd2 = nltk.ConditionalFreqDist((tag, word) for (word, tag) in wsj)\n",
        "list(cfd2['VBN'])[:5]"
      ],
      "metadata": {
        "colab": {
          "base_uri": "https://localhost:8080/"
        },
        "id": "aqvHNTyhGD3T",
        "outputId": "62512432-b756-4c72-8f7a-1f572be68e40"
      },
      "execution_count": 36,
      "outputs": [
        {
          "output_type": "execute_result",
          "data": {
            "text/plain": [
              "['been', 'expected', 'made', 'compared', 'based']"
            ]
          },
          "metadata": {},
          "execution_count": 36
        }
      ]
    },
    {
      "cell_type": "code",
      "source": [
        "def findtags(tag_prefix, tagged_text):\n",
        "    cfd = nltk.ConditionalFreqDist((tag, word) for (word, tag) in tagged_text\n",
        "                                  if tag.startswith(tag_prefix))\n",
        "    return dict((tag, cfd[tag].most_common(5)) for tag in cfd.conditions())"
      ],
      "metadata": {
        "id": "Te0t5ZCyGL57"
      },
      "execution_count": 37,
      "outputs": []
    },
    {
      "cell_type": "code",
      "source": [
        "tagdict = findtags('NN', nltk.corpus.brown.tagged_words(categories='news'))"
      ],
      "metadata": {
        "id": "tFQp4khaGRh-"
      },
      "execution_count": 38,
      "outputs": []
    },
    {
      "cell_type": "code",
      "source": [
        "for tag in sorted(tagdict):\n",
        "  print(tag, tagdict[tag])"
      ],
      "metadata": {
        "colab": {
          "base_uri": "https://localhost:8080/"
        },
        "id": "xpmpWu-3G0Fr",
        "outputId": "2f402460-6127-4f3c-fb31-ef5dfd15bae7"
      },
      "execution_count": 39,
      "outputs": [
        {
          "output_type": "stream",
          "name": "stdout",
          "text": [
            "NN [('year', 137), ('time', 97), ('state', 88), ('week', 85), ('man', 72)]\n",
            "NN$ [(\"year's\", 13), (\"world's\", 8), (\"state's\", 7), (\"nation's\", 6), (\"city's\", 6)]\n",
            "NN$-HL [(\"Golf's\", 1), (\"Navy's\", 1)]\n",
            "NN$-TL [(\"President's\", 11), (\"Administration's\", 3), (\"Army's\", 3), (\"League's\", 3), (\"University's\", 3)]\n",
            "NN-HL [('sp.', 2), ('problem', 2), ('Question', 2), ('cut', 2), ('party', 2)]\n",
            "NN-NC [('ova', 1), ('eva', 1), ('aya', 1)]\n",
            "NN-TL [('President', 88), ('House', 68), ('State', 59), ('University', 42), ('City', 41)]\n",
            "NN-TL-HL [('Fort', 2), ('Mayor', 1), ('Commissioner', 1), ('City', 1), ('Oak', 1)]\n",
            "NNS [('years', 101), ('members', 69), ('people', 52), ('sales', 51), ('men', 46)]\n",
            "NNS$ [(\"children's\", 7), (\"women's\", 5), (\"men's\", 3), (\"janitors'\", 3), (\"taxpayers'\", 2)]\n",
            "NNS$-HL [(\"Dealers'\", 1), (\"Idols'\", 1)]\n",
            "NNS$-TL [(\"Women's\", 4), (\"States'\", 3), (\"Giants'\", 2), (\"Princes'\", 1), (\"Bombers'\", 1)]\n",
            "NNS-HL [('Wards', 1), ('deputies', 1), ('bonds', 1), ('aspects', 1), ('Decisions', 1)]\n",
            "NNS-TL [('States', 38), ('Nations', 11), ('Masters', 10), ('Communists', 9), ('Rules', 9)]\n",
            "NNS-TL-HL [('Nations', 1)]\n"
          ]
        }
      ]
    },
    {
      "cell_type": "code",
      "source": [
        "brown_learned_text = brown.words(categories='learned')"
      ],
      "metadata": {
        "id": "Sl3DBPnQG9PF"
      },
      "execution_count": 40,
      "outputs": []
    },
    {
      "cell_type": "code",
      "source": [
        "sorted(set(b for (a, b) in nltk.bigrams(brown_learned_text) if a == 'often'))"
      ],
      "metadata": {
        "colab": {
          "base_uri": "https://localhost:8080/"
        },
        "id": "zxz7fTVJHJxA",
        "outputId": "07f12f0d-27fe-42dc-ee5a-65d26c25e072"
      },
      "execution_count": 41,
      "outputs": [
        {
          "output_type": "execute_result",
          "data": {
            "text/plain": [
              "[',',\n",
              " '.',\n",
              " 'accomplished',\n",
              " 'analytically',\n",
              " 'appear',\n",
              " 'apt',\n",
              " 'associated',\n",
              " 'assuming',\n",
              " 'became',\n",
              " 'become',\n",
              " 'been',\n",
              " 'began',\n",
              " 'call',\n",
              " 'called',\n",
              " 'carefully',\n",
              " 'chose',\n",
              " 'classified',\n",
              " 'colorful',\n",
              " 'composed',\n",
              " 'contain',\n",
              " 'differed',\n",
              " 'difficult',\n",
              " 'encountered',\n",
              " 'enough',\n",
              " 'equate',\n",
              " 'extremely',\n",
              " 'found',\n",
              " 'happens',\n",
              " 'have',\n",
              " 'ignored',\n",
              " 'in',\n",
              " 'involved',\n",
              " 'more',\n",
              " 'needed',\n",
              " 'nightly',\n",
              " 'observed',\n",
              " 'of',\n",
              " 'on',\n",
              " 'out',\n",
              " 'quite',\n",
              " 'represent',\n",
              " 'responsible',\n",
              " 'revamped',\n",
              " 'seclude',\n",
              " 'set',\n",
              " 'shortened',\n",
              " 'sing',\n",
              " 'sounded',\n",
              " 'stated',\n",
              " 'still',\n",
              " 'sung',\n",
              " 'supported',\n",
              " 'than',\n",
              " 'to',\n",
              " 'when',\n",
              " 'work']"
            ]
          },
          "metadata": {},
          "execution_count": 41
        }
      ]
    },
    {
      "cell_type": "code",
      "source": [
        "brown_lrnd_tagged = brown.tagged_words(categories='learned', tagset='universal')\n",
        "tags = [b[1] for (a, b) in nltk.bigrams(brown_lrnd_tagged) if a[0] == 'often']\n",
        "fd = nltk.FreqDist(tags)\n",
        "fd.tabulate()"
      ],
      "metadata": {
        "colab": {
          "base_uri": "https://localhost:8080/"
        },
        "id": "EnAVphO2HMBf",
        "outputId": "1206ed48-bf15-4bea-b619-c63a3b977b90"
      },
      "execution_count": 42,
      "outputs": [
        {
          "output_type": "stream",
          "name": "stdout",
          "text": [
            "VERB  ADV  ADP  ADJ    .  PRT \n",
            "  37    8    7    6    4    2 \n"
          ]
        }
      ]
    },
    {
      "cell_type": "code",
      "source": [
        "from collections import defaultdict\n",
        "nltk.download('gutenberg')\n",
        "alice = nltk.corpus.gutenberg.words('carroll-alice.txt')\n",
        "vocab = nltk.FreqDist(alice)\n",
        "v1000 = [word for (word, _) in vocab.most_common(1000)]\n",
        "mapping = defaultdict(lambda: 'UNK')\n",
        "for v in v1000:\n",
        "  mapping[v] = v"
      ],
      "metadata": {
        "colab": {
          "base_uri": "https://localhost:8080/"
        },
        "id": "pmZIILlOHZtw",
        "outputId": "2bfeb2a0-da08-4cfe-a624-7da4cd3c49d8"
      },
      "execution_count": 43,
      "outputs": [
        {
          "output_type": "stream",
          "name": "stderr",
          "text": [
            "[nltk_data] Downloading package gutenberg to /root/nltk_data...\n",
            "[nltk_data]   Unzipping corpora/gutenberg.zip.\n"
          ]
        }
      ]
    },
    {
      "cell_type": "code",
      "source": [
        "alice2 = [mapping[v] for v in alice]\n",
        "alice2[:10]"
      ],
      "metadata": {
        "colab": {
          "base_uri": "https://localhost:8080/"
        },
        "id": "Um_CHts5ImOL",
        "outputId": "70f984c5-7a22-4529-a9a3-2ae0936ee568"
      },
      "execution_count": 45,
      "outputs": [
        {
          "output_type": "execute_result",
          "data": {
            "text/plain": [
              "['[', 'Alice', \"'\", 's', 'Adventures', 'in', 'Wonderland', 'by', 'UNK', 'UNK']"
            ]
          },
          "metadata": {},
          "execution_count": 45
        }
      ]
    },
    {
      "cell_type": "code",
      "source": [
        "brown_tagged_sents = brown.tagged_sents(categories='news')\n",
        "brown_sents = brown.sents(categories='news')"
      ],
      "metadata": {
        "id": "cW7OOHNPI5CB"
      },
      "execution_count": 47,
      "outputs": []
    },
    {
      "cell_type": "code",
      "source": [
        "tags = [tag for (word, tag) in brown.tagged_words(categories='news')]\n",
        "nltk.FreqDist(tags).max()"
      ],
      "metadata": {
        "colab": {
          "base_uri": "https://localhost:8080/",
          "height": 36
        },
        "id": "Hxzd8x1lJcrX",
        "outputId": "84289887-9a60-4387-e8b9-b3a087ee0ae1"
      },
      "execution_count": 48,
      "outputs": [
        {
          "output_type": "execute_result",
          "data": {
            "text/plain": [
              "'NN'"
            ],
            "application/vnd.google.colaboratory.intrinsic+json": {
              "type": "string"
            }
          },
          "metadata": {},
          "execution_count": 48
        }
      ]
    },
    {
      "cell_type": "code",
      "source": [
        "raw = 'I do not like green eggs and ham, I do not like them Sam I am!'\n",
        "tokens = nltk.word_tokenize(raw)\n",
        "default_tagger = nltk.DefaultTagger('NN')\n",
        "default_tagger.tag(tokens)"
      ],
      "metadata": {
        "colab": {
          "base_uri": "https://localhost:8080/"
        },
        "id": "dguOSva_Jk4B",
        "outputId": "ab878822-704b-40f2-f16a-9c886d5293c5"
      },
      "execution_count": 49,
      "outputs": [
        {
          "output_type": "execute_result",
          "data": {
            "text/plain": [
              "[('I', 'NN'),\n",
              " ('do', 'NN'),\n",
              " ('not', 'NN'),\n",
              " ('like', 'NN'),\n",
              " ('green', 'NN'),\n",
              " ('eggs', 'NN'),\n",
              " ('and', 'NN'),\n",
              " ('ham', 'NN'),\n",
              " (',', 'NN'),\n",
              " ('I', 'NN'),\n",
              " ('do', 'NN'),\n",
              " ('not', 'NN'),\n",
              " ('like', 'NN'),\n",
              " ('them', 'NN'),\n",
              " ('Sam', 'NN'),\n",
              " ('I', 'NN'),\n",
              " ('am', 'NN'),\n",
              " ('!', 'NN')]"
            ]
          },
          "metadata": {},
          "execution_count": 49
        }
      ]
    },
    {
      "cell_type": "code",
      "source": [
        "default_tagger.evaluate(brown_tagged_sents)"
      ],
      "metadata": {
        "colab": {
          "base_uri": "https://localhost:8080/"
        },
        "id": "6w4Hw_wOJtco",
        "outputId": "cbf621c6-18c0-4f1d-f2c3-cc8c3935c5ee"
      },
      "execution_count": 50,
      "outputs": [
        {
          "output_type": "stream",
          "name": "stderr",
          "text": [
            "/usr/local/lib/python3.7/dist-packages/ipykernel_launcher.py:1: DeprecationWarning: \n",
            "  Function evaluate() has been deprecated.  Use accuracy(gold)\n",
            "  instead.\n",
            "  \"\"\"Entry point for launching an IPython kernel.\n"
          ]
        },
        {
          "output_type": "execute_result",
          "data": {
            "text/plain": [
              "0.13089484257215028"
            ]
          },
          "metadata": {},
          "execution_count": 50
        }
      ]
    },
    {
      "cell_type": "code",
      "source": [
        "patterns = [(r'.*ing$', 'VBG'),                # gerunds\n",
        "(r'.*ed$', 'VBD'),                 # simple past\n",
        "(r'.*es$', 'VBZ'),                 # 3rd singular present\n",
        "(r'.*ould$', 'MD'),                # modals\n",
        "(r'.*\\'s$', 'NN$'),                # possessive nouns\n",
        "(r'.*s$', 'NNS'),                  # plural nouns\n",
        "(r'^-?[0-9]+(\\.[0-9]+)?$', 'CD'),  # cardinal numbers\n",
        "(r'.*', 'NN')                      # nouns (default)\n",
        "]"
      ],
      "metadata": {
        "id": "PRHXi6gRJwbt"
      },
      "execution_count": 52,
      "outputs": []
    },
    {
      "cell_type": "code",
      "source": [
        "regexp_tagger = nltk.RegexpTagger(patterns)"
      ],
      "metadata": {
        "id": "9EwSTo54KGWC"
      },
      "execution_count": 53,
      "outputs": []
    },
    {
      "cell_type": "code",
      "source": [
        "regexp_tagger.evaluate(brown_tagged_sents)"
      ],
      "metadata": {
        "colab": {
          "base_uri": "https://localhost:8080/"
        },
        "id": "JFwGbI0YKM5R",
        "outputId": "a6f71018-4aee-4ff0-a9cc-2ddfbb7015c2"
      },
      "execution_count": 57,
      "outputs": [
        {
          "output_type": "stream",
          "name": "stderr",
          "text": [
            "/usr/local/lib/python3.7/dist-packages/ipykernel_launcher.py:1: DeprecationWarning: \n",
            "  Function evaluate() has been deprecated.  Use accuracy(gold)\n",
            "  instead.\n",
            "  \"\"\"Entry point for launching an IPython kernel.\n"
          ]
        },
        {
          "output_type": "execute_result",
          "data": {
            "text/plain": [
              "0.20186168625812995"
            ]
          },
          "metadata": {},
          "execution_count": 57
        }
      ]
    },
    {
      "cell_type": "code",
      "source": [
        "fd = nltk.FreqDist(brown.words(categories='news'))\n",
        "cfd = nltk.ConditionalFreqDist(brown.tagged_words(categories='news'))\n",
        "most_freq_words = fd.most_common(100)\n",
        "likely_tags = dict((word, cfd[word].max()) for (word, _) in most_freq_words)\n",
        "baseline_tagger = nltk.UnigramTagger(model=likely_tags)\n",
        "baseline_tagger.evaluate(brown_tagged_sents)"
      ],
      "metadata": {
        "colab": {
          "base_uri": "https://localhost:8080/"
        },
        "id": "f8oy6_qiKO46",
        "outputId": "41ad74f1-6ea6-46e8-cfaf-5afee6c9a280"
      },
      "execution_count": 58,
      "outputs": [
        {
          "output_type": "stream",
          "name": "stderr",
          "text": [
            "/usr/local/lib/python3.7/dist-packages/ipykernel_launcher.py:6: DeprecationWarning: \n",
            "  Function evaluate() has been deprecated.  Use accuracy(gold)\n",
            "  instead.\n",
            "  \n"
          ]
        },
        {
          "output_type": "execute_result",
          "data": {
            "text/plain": [
              "0.45578495136941344"
            ]
          },
          "metadata": {},
          "execution_count": 58
        }
      ]
    },
    {
      "cell_type": "code",
      "source": [
        "sent = brown.sents(categories='news')[3]\n",
        "baseline_tagger.tag(sent)"
      ],
      "metadata": {
        "colab": {
          "base_uri": "https://localhost:8080/"
        },
        "id": "pY09YEmSKwyA",
        "outputId": "53967b6f-1b37-45e9-a3c5-18e4f94c837a"
      },
      "execution_count": 61,
      "outputs": [
        {
          "output_type": "execute_result",
          "data": {
            "text/plain": [
              "[('``', '``'),\n",
              " ('Only', None),\n",
              " ('a', 'AT'),\n",
              " ('relative', None),\n",
              " ('handful', None),\n",
              " ('of', 'IN'),\n",
              " ('such', None),\n",
              " ('reports', None),\n",
              " ('was', 'BEDZ'),\n",
              " ('received', None),\n",
              " (\"''\", \"''\"),\n",
              " (',', ','),\n",
              " ('the', 'AT'),\n",
              " ('jury', None),\n",
              " ('said', 'VBD'),\n",
              " (',', ','),\n",
              " ('``', '``'),\n",
              " ('considering', None),\n",
              " ('the', 'AT'),\n",
              " ('widespread', None),\n",
              " ('interest', None),\n",
              " ('in', 'IN'),\n",
              " ('the', 'AT'),\n",
              " ('election', None),\n",
              " (',', ','),\n",
              " ('the', 'AT'),\n",
              " ('number', None),\n",
              " ('of', 'IN'),\n",
              " ('voters', None),\n",
              " ('and', 'CC'),\n",
              " ('the', 'AT'),\n",
              " ('size', None),\n",
              " ('of', 'IN'),\n",
              " ('this', 'DT'),\n",
              " ('city', None),\n",
              " (\"''\", \"''\"),\n",
              " ('.', '.')]"
            ]
          },
          "metadata": {},
          "execution_count": 61
        }
      ]
    },
    {
      "cell_type": "code",
      "source": [
        "baseline_tagger = nltk.UnigramTagger(model = likely_tags,\n",
        "                                     backoff = nltk.DefaultTagger('NN'))"
      ],
      "metadata": {
        "id": "jiPCtQHdLDnp"
      },
      "execution_count": 62,
      "outputs": []
    },
    {
      "cell_type": "code",
      "source": [
        "def performance(cfd, wordlist):\n",
        "    lt = dict((word, cfd[word].max()) for word in wordlist)\n",
        "    baseline_tagger = nltk.UnigramTagger(model=lt, backoff=nltk.DefaultTagger('NN'))\n",
        "    return baseline_tagger.evaluate(brown.tagged_sents(categories='news'))\n"
      ],
      "metadata": {
        "id": "wkTNaui_LVLO"
      },
      "execution_count": 63,
      "outputs": []
    },
    {
      "cell_type": "code",
      "source": [
        "def display():\n",
        "    import pylab\n",
        "    word_freqs = nltk.FreqDist(brown.words(categories='news')).most_common()\n",
        "    words_by_freq = [w for (w, _) in word_freqs]\n",
        "    cfd = nltk.ConditionalFreqDist(brown.tagged_words(categories='news'))\n",
        "    sizes = 2 ** pylab.arange(15)\n",
        "    perfs = [performance(cfd, words_by_freq[:size]) for size in sizes]\n",
        "    pylab.plot(sizes, perfs, '-bo')\n",
        "    pylab.title('Lookup Tagger Performance with Varying Model Size')\n",
        "    pylab.xlabel('Model Size')\n",
        "    pylab.ylabel('Performance')\n",
        "    pylab.show()"
      ],
      "metadata": {
        "id": "9V74f-JYLY4W"
      },
      "execution_count": 64,
      "outputs": []
    },
    {
      "cell_type": "code",
      "source": [
        "display()"
      ],
      "metadata": {
        "colab": {
          "base_uri": "https://localhost:8080/",
          "height": 364
        },
        "id": "s9ki7n5RLbGx",
        "outputId": "899e8c0e-70d5-4f53-ad17-e0a0a15906fa"
      },
      "execution_count": 65,
      "outputs": [
        {
          "output_type": "stream",
          "name": "stderr",
          "text": [
            "/usr/local/lib/python3.7/dist-packages/ipykernel_launcher.py:4: DeprecationWarning: \n",
            "  Function evaluate() has been deprecated.  Use accuracy(gold)\n",
            "  instead.\n",
            "  after removing the cwd from sys.path.\n"
          ]
        },
        {
          "output_type": "display_data",
          "data": {
            "text/plain": [
              "<Figure size 432x288 with 1 Axes>"
            ],
            "image/png": "[encoded data removed]"
          },
          "metadata": {
            "needs_background": "light"
          }
        }
      ]
    },
    {
      "cell_type": "code",
      "source": [
        "brown_tagged_sents = brown.tagged_sents(categories='news')\n",
        "brown_sents = brown.sents(categories='news')\n",
        "unigram_tagger = nltk.UnigramTagger(brown_tagged_sents)\n",
        "unigram_tagger.tag(brown_sents[2007])"
      ],
      "metadata": {
        "colab": {
          "base_uri": "https://localhost:8080/"
        },
        "id": "Dko5RP3yLcdp",
        "outputId": "d4dcf4d2-322f-4090-aee6-a6a9e63fbd19"
      },
      "execution_count": 66,
      "outputs": [
        {
          "output_type": "execute_result",
          "data": {
            "text/plain": [
              "[('Various', 'JJ'),\n",
              " ('of', 'IN'),\n",
              " ('the', 'AT'),\n",
              " ('apartments', 'NNS'),\n",
              " ('are', 'BER'),\n",
              " ('of', 'IN'),\n",
              " ('the', 'AT'),\n",
              " ('terrace', 'NN'),\n",
              " ('type', 'NN'),\n",
              " (',', ','),\n",
              " ('being', 'BEG'),\n",
              " ('on', 'IN'),\n",
              " ('the', 'AT'),\n",
              " ('ground', 'NN'),\n",
              " ('floor', 'NN'),\n",
              " ('so', 'QL'),\n",
              " ('that', 'CS'),\n",
              " ('entrance', 'NN'),\n",
              " ('is', 'BEZ'),\n",
              " ('direct', 'JJ'),\n",
              " ('.', '.')]"
            ]
          },
          "metadata": {},
          "execution_count": 66
        }
      ]
    },
    {
      "cell_type": "code",
      "source": [
        "unigram_tagger.evaluate(brown_tagged_sents)"
      ],
      "metadata": {
        "colab": {
          "base_uri": "https://localhost:8080/"
        },
        "id": "-NA3tiuoL1Oh",
        "outputId": "c99e4bd4-6b4c-4929-ca69-1705564bfb15"
      },
      "execution_count": 67,
      "outputs": [
        {
          "output_type": "stream",
          "name": "stderr",
          "text": [
            "/usr/local/lib/python3.7/dist-packages/ipykernel_launcher.py:1: DeprecationWarning: \n",
            "  Function evaluate() has been deprecated.  Use accuracy(gold)\n",
            "  instead.\n",
            "  \"\"\"Entry point for launching an IPython kernel.\n"
          ]
        },
        {
          "output_type": "execute_result",
          "data": {
            "text/plain": [
              "0.9349006503968017"
            ]
          },
          "metadata": {},
          "execution_count": 67
        }
      ]
    },
    {
      "cell_type": "code",
      "source": [
        "size = int(len(brown_tagged_sents) * 0.9)\n",
        "train_sents = brown_tagged_sents[:size]\n",
        "test_sents = brown_tagged_sents[size:]\n",
        "unigram_tagger = nltk.UnigramTagger(train_sents)\n",
        "unigram_tagger.evaluate(test_sents)"
      ],
      "metadata": {
        "colab": {
          "base_uri": "https://localhost:8080/"
        },
        "id": "IUKYzr-oL5FC",
        "outputId": "9065d358-99b0-4bef-b926-b8e7e6165c9e"
      },
      "execution_count": 68,
      "outputs": [
        {
          "output_type": "stream",
          "name": "stderr",
          "text": [
            "/usr/local/lib/python3.7/dist-packages/ipykernel_launcher.py:5: DeprecationWarning: \n",
            "  Function evaluate() has been deprecated.  Use accuracy(gold)\n",
            "  instead.\n",
            "  \"\"\"\n"
          ]
        },
        {
          "output_type": "execute_result",
          "data": {
            "text/plain": [
              "0.8121200039868434"
            ]
          },
          "metadata": {},
          "execution_count": 68
        }
      ]
    },
    {
      "cell_type": "code",
      "source": [
        "bigram_tagger = nltk.BigramTagger(train_sents)\n",
        "unseen_sent = brown_sents[4203]\n",
        "bigram_tagger.tag(unseen_sent)"
      ],
      "metadata": {
        "colab": {
          "base_uri": "https://localhost:8080/"
        },
        "id": "7lbtUoGQMIsK",
        "outputId": "0328b898-46b1-435b-9f7d-e68fae127fc9"
      },
      "execution_count": 69,
      "outputs": [
        {
          "output_type": "execute_result",
          "data": {
            "text/plain": [
              "[('The', 'AT'),\n",
              " ('population', 'NN'),\n",
              " ('of', 'IN'),\n",
              " ('the', 'AT'),\n",
              " ('Congo', 'NP'),\n",
              " ('is', 'BEZ'),\n",
              " ('13.5', None),\n",
              " ('million', None),\n",
              " (',', None),\n",
              " ('divided', None),\n",
              " ('into', None),\n",
              " ('at', None),\n",
              " ('least', None),\n",
              " ('seven', None),\n",
              " ('major', None),\n",
              " ('``', None),\n",
              " ('culture', None),\n",
              " ('clusters', None),\n",
              " (\"''\", None),\n",
              " ('and', None),\n",
              " ('innumerable', None),\n",
              " ('tribes', None),\n",
              " ('speaking', None),\n",
              " ('400', None),\n",
              " ('separate', None),\n",
              " ('dialects', None),\n",
              " ('.', None)]"
            ]
          },
          "metadata": {},
          "execution_count": 69
        }
      ]
    },
    {
      "cell_type": "code",
      "source": [
        "bigram_tagger.evaluate(test_sents)"
      ],
      "metadata": {
        "colab": {
          "base_uri": "https://localhost:8080/"
        },
        "id": "300gEeg8McYV",
        "outputId": "42d0690b-bbaf-4b9b-a300-56bb1e8ba1ff"
      },
      "execution_count": 70,
      "outputs": [
        {
          "output_type": "stream",
          "name": "stderr",
          "text": [
            "/usr/local/lib/python3.7/dist-packages/ipykernel_launcher.py:1: DeprecationWarning: \n",
            "  Function evaluate() has been deprecated.  Use accuracy(gold)\n",
            "  instead.\n",
            "  \"\"\"Entry point for launching an IPython kernel.\n"
          ]
        },
        {
          "output_type": "execute_result",
          "data": {
            "text/plain": [
              "0.10206319146815508"
            ]
          },
          "metadata": {},
          "execution_count": 70
        }
      ]
    },
    {
      "cell_type": "code",
      "source": [
        "t0 = nltk.DefaultTagger('NN')\n",
        "t1 = nltk.UnigramTagger(train_sents, backoff=t0)\n",
        "t2 = nltk.BigramTagger(train_sents, backoff=t1)\n",
        "t2.evaluate(test_sents)"
      ],
      "metadata": {
        "colab": {
          "base_uri": "https://localhost:8080/"
        },
        "id": "nke4K6NNMine",
        "outputId": "0268d1e3-3f03-40dc-88df-bce137984220"
      },
      "execution_count": 71,
      "outputs": [
        {
          "output_type": "stream",
          "name": "stderr",
          "text": [
            "/usr/local/lib/python3.7/dist-packages/ipykernel_launcher.py:4: DeprecationWarning: \n",
            "  Function evaluate() has been deprecated.  Use accuracy(gold)\n",
            "  instead.\n",
            "  after removing the cwd from sys.path.\n"
          ]
        },
        {
          "output_type": "execute_result",
          "data": {
            "text/plain": [
              "0.8452108043456593"
            ]
          },
          "metadata": {},
          "execution_count": 71
        }
      ]
    },
    {
      "cell_type": "code",
      "source": [
        "t0 = nltk.DefaultTagger('NN')\n",
        "t1 = nltk.UnigramTagger(train_sents, backoff=t0)\n",
        "t2 = nltk.BigramTagger(train_sents, backoff=t1)\n",
        "t3 = nltk.TrigramTagger(train_sents, backoff = t2)\n",
        "t3.evaluate(test_sents)"
      ],
      "metadata": {
        "colab": {
          "base_uri": "https://localhost:8080/"
        },
        "id": "2bE-jSmEM4ZQ",
        "outputId": "b4e3f4e2-dee9-43a1-9e4c-d0310760c210"
      },
      "execution_count": 72,
      "outputs": [
        {
          "output_type": "stream",
          "name": "stderr",
          "text": [
            "/usr/local/lib/python3.7/dist-packages/ipykernel_launcher.py:5: DeprecationWarning: \n",
            "  Function evaluate() has been deprecated.  Use accuracy(gold)\n",
            "  instead.\n",
            "  \"\"\"\n"
          ]
        },
        {
          "output_type": "execute_result",
          "data": {
            "text/plain": [
              "0.843317053722715"
            ]
          },
          "metadata": {},
          "execution_count": 72
        }
      ]
    },
    {
      "cell_type": "code",
      "source": [
        ""
      ],
      "metadata": {
        "id": "JEReJgZUNAwE"
      },
      "execution_count": null,
      "outputs": []
    }
  ]
}