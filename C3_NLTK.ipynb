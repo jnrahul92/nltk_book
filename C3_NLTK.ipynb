{
  "nbformat": 4,
  "nbformat_minor": 0,
  "metadata": {
    "colab": {
      "name": "C3_NLTK.ipynb",
      "provenance": [],
      "authorship_tag": "ABX9TyNT2ojl9sOL4nD9bVyoQ6J2",
      "include_colab_link": true
    },
    "kernelspec": {
      "name": "python3",
      "display_name": "Python 3"
    },
    "language_info": {
      "name": "python"
    }
  },
  "cells": [
    {
      "cell_type": "markdown",
      "metadata": {
        "id": "view-in-github",
        "colab_type": "text"
      },
      "source": [
        "<a href=\"https://colab.research.google.com/github/jnrahul92/nltk_book/blob/main/C3_NLTK.ipynb\" target=\"_parent\"><img src=\"https://colab.research.google.com/assets/colab-badge.svg\" alt=\"Open In Colab\"/></a>"
      ]
    },
    {
      "cell_type": "code",
      "execution_count": 1,
      "metadata": {
        "id": "_rOUQgQGsnZk"
      },
      "outputs": [],
      "source": [
        "import nltk, re, pprint"
      ]
    },
    {
      "cell_type": "code",
      "source": [
        "from nltk import word_tokenize"
      ],
      "metadata": {
        "id": "SANd_WzUs6T3"
      },
      "execution_count": 2,
      "outputs": []
    },
    {
      "cell_type": "code",
      "source": [
        "from urllib import request"
      ],
      "metadata": {
        "id": "0nFwBWCCs_0p"
      },
      "execution_count": 3,
      "outputs": []
    },
    {
      "cell_type": "code",
      "source": [
        "url = \"http://www.gutenberg.org/files/2554/2554-0.txt\""
      ],
      "metadata": {
        "id": "QiUop_UMtHen"
      },
      "execution_count": 82,
      "outputs": []
    },
    {
      "cell_type": "code",
      "source": [
        "response = request.urlopen(url)"
      ],
      "metadata": {
        "id": "rexOrjxqtK5X"
      },
      "execution_count": 83,
      "outputs": []
    },
    {
      "cell_type": "code",
      "source": [
        "raw = response.read().decode(\"UTF-8\")"
      ],
      "metadata": {
        "id": "Umfn9-BgtSkq"
      },
      "execution_count": 84,
      "outputs": []
    },
    {
      "cell_type": "code",
      "source": [
        "type(raw)"
      ],
      "metadata": {
        "colab": {
          "base_uri": "https://localhost:8080/"
        },
        "id": "VPDOTypjtZTg",
        "outputId": "ad0405ff-54cf-4e8b-a4bd-24d851b900c7"
      },
      "execution_count": 85,
      "outputs": [
        {
          "output_type": "execute_result",
          "data": {
            "text/plain": [
              "str"
            ]
          },
          "metadata": {},
          "execution_count": 85
        }
      ]
    },
    {
      "cell_type": "code",
      "source": [
        "len(raw)"
      ],
      "metadata": {
        "colab": {
          "base_uri": "https://localhost:8080/"
        },
        "id": "6x7k1BLItpPw",
        "outputId": "9f02c06b-d5a7-4f72-c62d-863ea1b54c19"
      },
      "execution_count": 86,
      "outputs": [
        {
          "output_type": "execute_result",
          "data": {
            "text/plain": [
              "1176812"
            ]
          },
          "metadata": {},
          "execution_count": 86
        }
      ]
    },
    {
      "cell_type": "code",
      "source": [
        "raw[:75]"
      ],
      "metadata": {
        "colab": {
          "base_uri": "https://localhost:8080/",
          "height": 36
        },
        "id": "q28zwv5mtbJ-",
        "outputId": "616a248f-a0b2-458c-85ee-56600e6abaf1"
      },
      "execution_count": 87,
      "outputs": [
        {
          "output_type": "execute_result",
          "data": {
            "text/plain": [
              "'\\ufeffThe Project Gutenberg eBook of Crime and Punishment, by Fyodor Dostoevsky\\r'"
            ],
            "application/vnd.google.colaboratory.intrinsic+json": {
              "type": "string"
            }
          },
          "metadata": {},
          "execution_count": 87
        }
      ]
    },
    {
      "cell_type": "code",
      "source": [
        "nltk.download('punkt')\n",
        "tokens = word_tokenize(raw)"
      ],
      "metadata": {
        "colab": {
          "base_uri": "https://localhost:8080/"
        },
        "id": "RDr4BjWTtc9b",
        "outputId": "bd840554-3ed7-46fb-cc9e-bbacf0508cd4"
      },
      "execution_count": 24,
      "outputs": [
        {
          "output_type": "stream",
          "name": "stdout",
          "text": [
            "[nltk_data] Downloading package punkt to /root/nltk_data...\n",
            "[nltk_data]   Unzipping tokenizers/punkt.zip.\n"
          ]
        }
      ]
    },
    {
      "cell_type": "code",
      "source": [
        "type(tokens)"
      ],
      "metadata": {
        "colab": {
          "base_uri": "https://localhost:8080/"
        },
        "id": "eMlYI4TsuAdo",
        "outputId": "6ce0dd58-948a-4753-9ff9-2d654c24c2ae"
      },
      "execution_count": 25,
      "outputs": [
        {
          "output_type": "execute_result",
          "data": {
            "text/plain": [
              "list"
            ]
          },
          "metadata": {},
          "execution_count": 25
        }
      ]
    },
    {
      "cell_type": "code",
      "source": [
        "len(tokens)"
      ],
      "metadata": {
        "colab": {
          "base_uri": "https://localhost:8080/"
        },
        "id": "6nUXOY0FuJKl",
        "outputId": "c17bd8eb-7295-4b3b-f46d-aae1e7330a55"
      },
      "execution_count": 26,
      "outputs": [
        {
          "output_type": "execute_result",
          "data": {
            "text/plain": [
              "257712"
            ]
          },
          "metadata": {},
          "execution_count": 26
        }
      ]
    },
    {
      "cell_type": "code",
      "source": [
        "tokens[:10]"
      ],
      "metadata": {
        "colab": {
          "base_uri": "https://localhost:8080/"
        },
        "id": "EaTBn6puuKp5",
        "outputId": "d8d2f445-7d72-4c14-cc73-97c2ba109af8"
      },
      "execution_count": 27,
      "outputs": [
        {
          "output_type": "execute_result",
          "data": {
            "text/plain": [
              "['\\ufeffThe',\n",
              " 'Project',\n",
              " 'Gutenberg',\n",
              " 'eBook',\n",
              " 'of',\n",
              " 'Crime',\n",
              " 'and',\n",
              " 'Punishment',\n",
              " ',',\n",
              " 'by']"
            ]
          },
          "metadata": {},
          "execution_count": 27
        }
      ]
    },
    {
      "cell_type": "code",
      "source": [
        "text = nltk.Text(tokens)"
      ],
      "metadata": {
        "id": "Zicfp0C4uNII"
      },
      "execution_count": 29,
      "outputs": []
    },
    {
      "cell_type": "code",
      "source": [
        "type(text)"
      ],
      "metadata": {
        "colab": {
          "base_uri": "https://localhost:8080/"
        },
        "id": "Pn7BQKzsuXxP",
        "outputId": "8d3381ff-acf0-4a2b-df27-90cc13cc1fa9"
      },
      "execution_count": 30,
      "outputs": [
        {
          "output_type": "execute_result",
          "data": {
            "text/plain": [
              "nltk.text.Text"
            ]
          },
          "metadata": {},
          "execution_count": 30
        }
      ]
    },
    {
      "cell_type": "code",
      "source": [
        "text[1024:1062]"
      ],
      "metadata": {
        "colab": {
          "base_uri": "https://localhost:8080/"
        },
        "id": "g3F345RAucqr",
        "outputId": "96f9a7f8-e5b2-4ae3-c73a-4da6d6b03e5a"
      },
      "execution_count": 32,
      "outputs": [
        {
          "output_type": "execute_result",
          "data": {
            "text/plain": [
              "['wisdom',\n",
              " '...',\n",
              " 'that',\n",
              " 'wisdom',\n",
              " 'of',\n",
              " 'the',\n",
              " 'heart',\n",
              " 'which',\n",
              " 'we',\n",
              " 'seek',\n",
              " 'that',\n",
              " 'we',\n",
              " 'may',\n",
              " 'learn',\n",
              " 'from',\n",
              " 'it',\n",
              " 'how',\n",
              " 'to',\n",
              " 'live',\n",
              " '.',\n",
              " 'All',\n",
              " 'his',\n",
              " 'other',\n",
              " 'gifts',\n",
              " 'came',\n",
              " 'to',\n",
              " 'him',\n",
              " 'from',\n",
              " 'nature',\n",
              " ',',\n",
              " 'this',\n",
              " 'he',\n",
              " 'won',\n",
              " 'for',\n",
              " 'himself',\n",
              " 'and',\n",
              " 'through',\n",
              " 'it']"
            ]
          },
          "metadata": {},
          "execution_count": 32
        }
      ]
    },
    {
      "cell_type": "code",
      "source": [
        "nltk.download('stopwords')\n",
        "text.collocations()"
      ],
      "metadata": {
        "colab": {
          "base_uri": "https://localhost:8080/"
        },
        "id": "2hHcAWT7ufdT",
        "outputId": "16329336-e758-48fe-b21c-7b12de3b622c"
      },
      "execution_count": 34,
      "outputs": [
        {
          "output_type": "stream",
          "name": "stdout",
          "text": [
            "[nltk_data] Downloading package stopwords to /root/nltk_data...\n",
            "[nltk_data]   Unzipping corpora/stopwords.zip.\n",
            "Katerina Ivanovna; Pyotr Petrovitch; Pulcheria Alexandrovna; Avdotya\n",
            "Romanovna; Rodion Romanovitch; Marfa Petrovna; Sofya Semyonovna; old\n",
            "woman; Project Gutenberg-tm; Porfiry Petrovitch; Amalia Ivanovna;\n",
            "great deal; young man; Nikodim Fomitch; Project Gutenberg; Ilya\n",
            "Petrovitch; Andrey Semyonovitch; Hay Market; Dmitri Prokofitch; Good\n",
            "heavens\n"
          ]
        }
      ]
    },
    {
      "cell_type": "code",
      "source": [
        "raw.find('PART I')"
      ],
      "metadata": {
        "colab": {
          "base_uri": "https://localhost:8080/"
        },
        "id": "3r2q_pCUuqee",
        "outputId": "ea8956fa-9763-4cc3-d521-5c861dbbb4c6"
      },
      "execution_count": 36,
      "outputs": [
        {
          "output_type": "execute_result",
          "data": {
            "text/plain": [
              "5575"
            ]
          },
          "metadata": {},
          "execution_count": 36
        }
      ]
    },
    {
      "cell_type": "code",
      "source": [
        "raw.rfind(\"END OF THE PROJECT GUTENBERG EBOOK CRIME\")"
      ],
      "metadata": {
        "colab": {
          "base_uri": "https://localhost:8080/"
        },
        "id": "tT_CFMFCu5r0",
        "outputId": "e6cb3b20-4d80-4ce5-e248-1ee6bc2524c0"
      },
      "execution_count": 45,
      "outputs": [
        {
          "output_type": "execute_result",
          "data": {
            "text/plain": [
              "1158053"
            ]
          },
          "metadata": {},
          "execution_count": 45
        }
      ]
    },
    {
      "cell_type": "code",
      "source": [
        "raw = raw[5575:1158053]"
      ],
      "metadata": {
        "id": "SR7FxE0WvIHr"
      },
      "execution_count": 46,
      "outputs": []
    },
    {
      "cell_type": "code",
      "source": [
        "raw.find('PART I')"
      ],
      "metadata": {
        "colab": {
          "base_uri": "https://localhost:8080/"
        },
        "id": "18U3odwFvX7j",
        "outputId": "91a1c458-3629-43bd-9637-cafa1314b19c"
      },
      "execution_count": 47,
      "outputs": [
        {
          "output_type": "execute_result",
          "data": {
            "text/plain": [
              "0"
            ]
          },
          "metadata": {},
          "execution_count": 47
        }
      ]
    },
    {
      "cell_type": "code",
      "source": [
        "url = \"http://news.bbc.co.uk/2/hi/health/2284783.stm\""
      ],
      "metadata": {
        "id": "nZpG-5jqvxJz"
      },
      "execution_count": 48,
      "outputs": []
    },
    {
      "cell_type": "code",
      "source": [
        "html = request.urlopen(url).read().decode('utf-8')"
      ],
      "metadata": {
        "id": "TOsToU5fv3e_"
      },
      "execution_count": 49,
      "outputs": []
    },
    {
      "cell_type": "code",
      "source": [
        "html[:60]"
      ],
      "metadata": {
        "colab": {
          "base_uri": "https://localhost:8080/",
          "height": 36
        },
        "id": "Eymz3aj4v6FR",
        "outputId": "736ce204-a92e-4b57-980c-4187bcd339c5"
      },
      "execution_count": 50,
      "outputs": [
        {
          "output_type": "execute_result",
          "data": {
            "text/plain": [
              "'<!doctype html public \"-//W3C//DTD HTML 4.0 Transitional//EN'"
            ],
            "application/vnd.google.colaboratory.intrinsic+json": {
              "type": "string"
            }
          },
          "metadata": {},
          "execution_count": 50
        }
      ]
    },
    {
      "cell_type": "code",
      "source": [
        "from bs4 import BeautifulSoup"
      ],
      "metadata": {
        "id": "jKvnCtxUv8FF"
      },
      "execution_count": 51,
      "outputs": []
    },
    {
      "cell_type": "code",
      "source": [
        "raw = BeautifulSoup(html, 'html.parser').get_text()"
      ],
      "metadata": {
        "id": "kejEOKZvwCTC"
      },
      "execution_count": 52,
      "outputs": []
    },
    {
      "cell_type": "code",
      "source": [
        "tokens = word_tokenize(raw)"
      ],
      "metadata": {
        "id": "cp1TSP0AwK4W"
      },
      "execution_count": 53,
      "outputs": []
    },
    {
      "cell_type": "code",
      "source": [
        "tokens[:5]"
      ],
      "metadata": {
        "colab": {
          "base_uri": "https://localhost:8080/"
        },
        "id": "T-zQ1L-FwNXA",
        "outputId": "622715d8-f30f-4d15-fd3d-7a5a88aa14db"
      },
      "execution_count": 55,
      "outputs": [
        {
          "output_type": "execute_result",
          "data": {
            "text/plain": [
              "['BBC', 'NEWS', '|', 'Health', '|']"
            ]
          },
          "metadata": {},
          "execution_count": 55
        }
      ]
    },
    {
      "cell_type": "code",
      "source": [
        "tokens = tokens[110:390]"
      ],
      "metadata": {
        "id": "XAnU2nrnwOpU"
      },
      "execution_count": 56,
      "outputs": []
    },
    {
      "cell_type": "code",
      "source": [
        "text = nltk.Text(tokens)"
      ],
      "metadata": {
        "id": "O7VRHyQ_wafW"
      },
      "execution_count": 57,
      "outputs": []
    },
    {
      "cell_type": "code",
      "source": [
        "text.concordance('gene')"
      ],
      "metadata": {
        "colab": {
          "base_uri": "https://localhost:8080/"
        },
        "id": "mQTi_5CkweY8",
        "outputId": "69ba539e-3f67-4c89-de96-c6f3adc9fb63"
      },
      "execution_count": 58,
      "outputs": [
        {
          "output_type": "stream",
          "name": "stdout",
          "text": [
            "Displaying 5 of 5 matches:\n",
            "hey say too few people now carry the gene for blondes to last beyond the next \n",
            "blonde hair is caused by a recessive gene . In order for a child to have blond\n",
            " have blonde hair , it must have the gene on both sides of the family in the g\n",
            "ere is a disadvantage of having that gene or by chance . They do n't disappear\n",
            "des would disappear is if having the gene was a disadvantage and I do not thin\n"
          ]
        }
      ]
    },
    {
      "cell_type": "code",
      "source": [
        "!pip install feedparser"
      ],
      "metadata": {
        "colab": {
          "base_uri": "https://localhost:8080/"
        },
        "id": "_Kg0P4qJwhxo",
        "outputId": "59661cd0-deb0-4e35-94d2-017f69cc0ec3"
      },
      "execution_count": 60,
      "outputs": [
        {
          "output_type": "stream",
          "name": "stdout",
          "text": [
            "Looking in indexes: https://pypi.org/simple, https://us-python.pkg.dev/colab-wheels/public/simple/\n",
            "Collecting feedparser\n",
            "  Downloading feedparser-6.0.10-py3-none-any.whl (81 kB)\n",
            "\u001b[K     |████████████████████████████████| 81 kB 3.8 MB/s \n",
            "\u001b[?25hCollecting sgmllib3k\n",
            "  Downloading sgmllib3k-1.0.0.tar.gz (5.8 kB)\n",
            "Building wheels for collected packages: sgmllib3k\n",
            "  Building wheel for sgmllib3k (setup.py) ... \u001b[?25l\u001b[?25hdone\n",
            "  Created wheel for sgmllib3k: filename=sgmllib3k-1.0.0-py3-none-any.whl size=6066 sha256=f5842b02fdab27b4e18491278257d1b1eedef590f07a66432e06d4f8db1ffde4\n",
            "  Stored in directory: /root/.cache/pip/wheels/73/ad/a4/0dff4a6ef231fc0dfa12ffbac2a36cebfdddfe059f50e019aa\n",
            "Successfully built sgmllib3k\n",
            "Installing collected packages: sgmllib3k, feedparser\n",
            "Successfully installed feedparser-6.0.10 sgmllib3k-1.0.0\n"
          ]
        }
      ]
    },
    {
      "cell_type": "code",
      "source": [
        "import feedparser"
      ],
      "metadata": {
        "id": "zVkz2ikFw6vu"
      },
      "execution_count": 61,
      "outputs": []
    },
    {
      "cell_type": "code",
      "source": [
        "llog = feedparser.parse(\"http://languagelog.ldc.upenn.edu/nll/?feed=atom\")"
      ],
      "metadata": {
        "id": "MnFHRDICxB8d"
      },
      "execution_count": 62,
      "outputs": []
    },
    {
      "cell_type": "code",
      "source": [
        "llog['feed']['title']"
      ],
      "metadata": {
        "colab": {
          "base_uri": "https://localhost:8080/",
          "height": 36
        },
        "id": "HYE3gdmVxJQb",
        "outputId": "7004b030-614a-4ed8-f301-10c9dd060dfd"
      },
      "execution_count": 64,
      "outputs": [
        {
          "output_type": "execute_result",
          "data": {
            "text/plain": [
              "'Language Log'"
            ],
            "application/vnd.google.colaboratory.intrinsic+json": {
              "type": "string"
            }
          },
          "metadata": {},
          "execution_count": 64
        }
      ]
    },
    {
      "cell_type": "code",
      "source": [
        "len(llog.entries)"
      ],
      "metadata": {
        "colab": {
          "base_uri": "https://localhost:8080/"
        },
        "id": "274fBS7_xMPI",
        "outputId": "3eff8932-a0d4-4b24-9186-95d70ce4552b"
      },
      "execution_count": 65,
      "outputs": [
        {
          "output_type": "execute_result",
          "data": {
            "text/plain": [
              "13"
            ]
          },
          "metadata": {},
          "execution_count": 65
        }
      ]
    },
    {
      "cell_type": "code",
      "source": [
        "post = llog.entries[2]"
      ],
      "metadata": {
        "id": "w-BqGEG1xRVi"
      },
      "execution_count": 66,
      "outputs": []
    },
    {
      "cell_type": "code",
      "source": [
        "post.title"
      ],
      "metadata": {
        "colab": {
          "base_uri": "https://localhost:8080/",
          "height": 36
        },
        "id": "GHehndJMxWjr",
        "outputId": "44b13fed-f5f4-46c1-d46f-18f0974f0361"
      },
      "execution_count": 67,
      "outputs": [
        {
          "output_type": "execute_result",
          "data": {
            "text/plain": [
              "'Anne Cutler 1945-2022'"
            ],
            "application/vnd.google.colaboratory.intrinsic+json": {
              "type": "string"
            }
          },
          "metadata": {},
          "execution_count": 67
        }
      ]
    },
    {
      "cell_type": "code",
      "source": [
        "content = post.content[0].value"
      ],
      "metadata": {
        "id": "X7vHkm-FxYwR"
      },
      "execution_count": 68,
      "outputs": []
    },
    {
      "cell_type": "code",
      "source": [
        "content[:70]"
      ],
      "metadata": {
        "colab": {
          "base_uri": "https://localhost:8080/",
          "height": 36
        },
        "id": "0qg-hYUGxfPX",
        "outputId": "5c81396e-60e6-4db2-9795-b9d23195a081"
      },
      "execution_count": 69,
      "outputs": [
        {
          "output_type": "execute_result",
          "data": {
            "text/plain": [
              "'<p><a href=\"https://en.wikipedia.org/wiki/Anne_Cutler\" rel=\"noopener\" '"
            ],
            "application/vnd.google.colaboratory.intrinsic+json": {
              "type": "string"
            }
          },
          "metadata": {},
          "execution_count": 69
        }
      ]
    },
    {
      "cell_type": "code",
      "source": [
        "raw = BeautifulSoup(content, 'html.parser').get_text()"
      ],
      "metadata": {
        "id": "YREXN6UAxhKV"
      },
      "execution_count": 70,
      "outputs": []
    },
    {
      "cell_type": "code",
      "source": [
        "word_tokenize(raw)[:5]"
      ],
      "metadata": {
        "colab": {
          "base_uri": "https://localhost:8080/"
        },
        "id": "eV7vrHuDxofE",
        "outputId": "3c5ad138-a1f3-4ccd-d478-633e18a86e7f"
      },
      "execution_count": 72,
      "outputs": [
        {
          "output_type": "execute_result",
          "data": {
            "text/plain": [
              "['Anne', 'Cutler', ',', 'our', 'beloved']"
            ]
          },
          "metadata": {},
          "execution_count": 72
        }
      ]
    },
    {
      "cell_type": "code",
      "source": [
        "nltk.download('gutenberg')\n",
        "path = nltk.data.find('corpora/gutenberg/melville-moby_dick.txt')"
      ],
      "metadata": {
        "colab": {
          "base_uri": "https://localhost:8080/"
        },
        "id": "Bx-RVZYmxqyZ",
        "outputId": "b4bbbc3a-f0fa-4432-8f41-10b1be4bea2e"
      },
      "execution_count": 74,
      "outputs": [
        {
          "output_type": "stream",
          "name": "stdout",
          "text": [
            "[nltk_data] Downloading package gutenberg to /root/nltk_data...\n",
            "[nltk_data]   Unzipping corpora/gutenberg.zip.\n"
          ]
        }
      ]
    },
    {
      "cell_type": "code",
      "source": [
        "raw = open(path, 'rU').read()"
      ],
      "metadata": {
        "colab": {
          "base_uri": "https://localhost:8080/"
        },
        "id": "mlVZ2VJ2x47g",
        "outputId": "0f6dc787-a1ee-4a82-8fc6-99c5a801f996"
      },
      "execution_count": 75,
      "outputs": [
        {
          "output_type": "stream",
          "name": "stderr",
          "text": [
            "/usr/local/lib/python3.7/dist-packages/ipykernel_launcher.py:1: DeprecationWarning: 'U' mode is deprecated\n",
            "  \"\"\"Entry point for launching an IPython kernel.\n"
          ]
        }
      ]
    },
    {
      "cell_type": "code",
      "source": [
        "a = [1, 2, 3, 4, 5, 6, 7, 6, 5, 4, 3, 2, 1]\n",
        "b = [' ' * 2 * (7 - i) + 'very' * i for i in a]\n",
        "for line in b:\n",
        "  print(line)"
      ],
      "metadata": {
        "colab": {
          "base_uri": "https://localhost:8080/"
        },
        "id": "ZZNkvAHkyC8g",
        "outputId": "c013c765-a9f6-4167-f418-a273c282d014"
      },
      "execution_count": 76,
      "outputs": [
        {
          "output_type": "stream",
          "name": "stdout",
          "text": [
            "            very\n",
            "          veryvery\n",
            "        veryveryvery\n",
            "      veryveryveryvery\n",
            "    veryveryveryveryvery\n",
            "  veryveryveryveryveryvery\n",
            "veryveryveryveryveryveryvery\n",
            "  veryveryveryveryveryvery\n",
            "    veryveryveryveryvery\n",
            "      veryveryveryvery\n",
            "        veryveryvery\n",
            "          veryvery\n",
            "            very\n"
          ]
        }
      ]
    },
    {
      "cell_type": "code",
      "source": [
        "nltk.download('unicode_samples')\n",
        "path = nltk.data.find('corpora/unicode_samples/polish-lat2.txt')"
      ],
      "metadata": {
        "colab": {
          "base_uri": "https://localhost:8080/"
        },
        "id": "radJuSlSy0-1",
        "outputId": "e35ec302-da3b-4958-d591-f0c8a03cd71d"
      },
      "execution_count": 89,
      "outputs": [
        {
          "output_type": "stream",
          "name": "stdout",
          "text": [
            "[nltk_data] Downloading package unicode_samples to /root/nltk_data...\n",
            "[nltk_data]   Unzipping corpora/unicode_samples.zip.\n"
          ]
        }
      ]
    },
    {
      "cell_type": "code",
      "source": [
        "f = open(path, encoding='latin2')"
      ],
      "metadata": {
        "id": "FZ5s_2J1zrdF"
      },
      "execution_count": 90,
      "outputs": []
    },
    {
      "cell_type": "code",
      "source": [
        "for line in f:\n",
        "  line.strip()\n",
        "  print(line)"
      ],
      "metadata": {
        "colab": {
          "base_uri": "https://localhost:8080/"
        },
        "id": "BV_V5lb-zxyx",
        "outputId": "eb44a2b2-2a4b-4aaa-f073-8e70dce120e8"
      },
      "execution_count": 91,
      "outputs": [
        {
          "output_type": "stream",
          "name": "stdout",
          "text": [
            "Pruska Biblioteka Państwowa. Jej dawne zbiory znane pod nazwą\n",
            "\n",
            "\"Berlinka\" to skarb kultury i sztuki niemieckiej. Przewiezione przez\n",
            "\n",
            "Niemców pod koniec II wojny światowej na Dolny Śląsk, zostały\n",
            "\n",
            "odnalezione po 1945 r. na terytorium Polski. Trafiły do Biblioteki\n",
            "\n",
            "Jagiellońskiej w Krakowie, obejmują ponad 500 tys. zabytkowych\n",
            "\n",
            "archiwaliów, m.in. manuskrypty Goethego, Mozarta, Beethovena, Bacha.\n",
            "\n"
          ]
        }
      ]
    },
    {
      "cell_type": "code",
      "source": [
        "f = open(path, encoding='latin2')\n",
        "for line in f:\n",
        "  line.strip()\n",
        "  print(line.encode('unicode-escape'))"
      ],
      "metadata": {
        "colab": {
          "base_uri": "https://localhost:8080/"
        },
        "id": "Ebw8DmOuz2RP",
        "outputId": "6ea165d8-1006-4435-9a7f-e01a424cca34"
      },
      "execution_count": 92,
      "outputs": [
        {
          "output_type": "stream",
          "name": "stdout",
          "text": [
            "b'Pruska Biblioteka Pa\\\\u0144stwowa. Jej dawne zbiory znane pod nazw\\\\u0105\\\\n'\n",
            "b'\"Berlinka\" to skarb kultury i sztuki niemieckiej. Przewiezione przez\\\\n'\n",
            "b'Niemc\\\\xf3w pod koniec II wojny \\\\u015bwiatowej na Dolny \\\\u015al\\\\u0105sk, zosta\\\\u0142y\\\\n'\n",
            "b'odnalezione po 1945 r. na terytorium Polski. Trafi\\\\u0142y do Biblioteki\\\\n'\n",
            "b'Jagiello\\\\u0144skiej w Krakowie, obejmuj\\\\u0105 ponad 500 tys. zabytkowych\\\\n'\n",
            "b'archiwali\\\\xf3w, m.in. manuskrypty Goethego, Mozarta, Beethovena, Bacha.\\\\n'\n"
          ]
        }
      ]
    },
    {
      "cell_type": "code",
      "source": [
        "ord('ń')\n",
        "hex(ord('ń'))"
      ],
      "metadata": {
        "colab": {
          "base_uri": "https://localhost:8080/",
          "height": 36
        },
        "id": "VNIf6ASG0C9D",
        "outputId": "8ed52fdc-1135-4202-bd42-8a1e305c4146"
      },
      "execution_count": 94,
      "outputs": [
        {
          "output_type": "execute_result",
          "data": {
            "text/plain": [
              "'0x144'"
            ],
            "application/vnd.google.colaboratory.intrinsic+json": {
              "type": "string"
            }
          },
          "metadata": {},
          "execution_count": 94
        }
      ]
    },
    {
      "cell_type": "code",
      "source": [
        "nacute = \"\\u0144\"\n",
        "nacute"
      ],
      "metadata": {
        "colab": {
          "base_uri": "https://localhost:8080/",
          "height": 36
        },
        "id": "nbZWEePK0Kjd",
        "outputId": "e2b8f2b3-62dc-4e16-9137-90555d70b9e3"
      },
      "execution_count": 96,
      "outputs": [
        {
          "output_type": "execute_result",
          "data": {
            "text/plain": [
              "'ń'"
            ],
            "application/vnd.google.colaboratory.intrinsic+json": {
              "type": "string"
            }
          },
          "metadata": {},
          "execution_count": 96
        }
      ]
    },
    {
      "cell_type": "code",
      "source": [
        "nacute.encode('utf8')"
      ],
      "metadata": {
        "colab": {
          "base_uri": "https://localhost:8080/"
        },
        "id": "qo2BbEyc0Z7Y",
        "outputId": "d3c7caa8-8d3e-46af-d3b3-068875ad4ead"
      },
      "execution_count": 98,
      "outputs": [
        {
          "output_type": "execute_result",
          "data": {
            "text/plain": [
              "b'\\xc5\\x84'"
            ]
          },
          "metadata": {},
          "execution_count": 98
        }
      ]
    },
    {
      "cell_type": "code",
      "source": [
        "import unicodedata"
      ],
      "metadata": {
        "id": "CFSJRVzi0lYR"
      },
      "execution_count": 99,
      "outputs": []
    },
    {
      "cell_type": "code",
      "source": [
        "lines = open(path, encoding='latin2').readlines()"
      ],
      "metadata": {
        "id": "0roLi3oE0sb_"
      },
      "execution_count": 100,
      "outputs": []
    },
    {
      "cell_type": "code",
      "source": [
        "line = lines[2]"
      ],
      "metadata": {
        "id": "Qsm_qBoE0uk4"
      },
      "execution_count": 101,
      "outputs": []
    },
    {
      "cell_type": "code",
      "source": [
        "print(line.encode('unicode_escape'))"
      ],
      "metadata": {
        "colab": {
          "base_uri": "https://localhost:8080/"
        },
        "id": "BQu-Iyd40wbU",
        "outputId": "ccc852e8-d6bf-4ef1-f5fa-f4f4ea6f987d"
      },
      "execution_count": 102,
      "outputs": [
        {
          "output_type": "stream",
          "name": "stdout",
          "text": [
            "b'Niemc\\\\xf3w pod koniec II wojny \\\\u015bwiatowej na Dolny \\\\u015al\\\\u0105sk, zosta\\\\u0142y\\\\n'\n"
          ]
        }
      ]
    },
    {
      "cell_type": "code",
      "source": [
        "for c in line:\n",
        "  if ord(c) > 127:\n",
        "    print(\"{} U+{:04x} {}\".format(c,ord(c),unicodedata.name(c)))"
      ],
      "metadata": {
        "colab": {
          "base_uri": "https://localhost:8080/"
        },
        "id": "dcmwKTWm0ydy",
        "outputId": "2935b378-5aaf-427a-e2d3-d201042333a5"
      },
      "execution_count": 106,
      "outputs": [
        {
          "output_type": "stream",
          "name": "stdout",
          "text": [
            "ó U+00f3 LATIN SMALL LETTER O WITH ACUTE\n",
            "ś U+015b LATIN SMALL LETTER S WITH ACUTE\n",
            "Ś U+015a LATIN CAPITAL LETTER S WITH ACUTE\n",
            "ą U+0105 LATIN SMALL LETTER A WITH OGONEK\n",
            "ł U+0142 LATIN SMALL LETTER L WITH STROKE\n"
          ]
        }
      ]
    },
    {
      "cell_type": "code",
      "source": [
        "line.find('zosta\\u0142y')"
      ],
      "metadata": {
        "colab": {
          "base_uri": "https://localhost:8080/"
        },
        "id": "-fHEBk6P1Tcp",
        "outputId": "c890f641-d97e-4085-d31d-74daee643436"
      },
      "execution_count": 107,
      "outputs": [
        {
          "output_type": "execute_result",
          "data": {
            "text/plain": [
              "54"
            ]
          },
          "metadata": {},
          "execution_count": 107
        }
      ]
    },
    {
      "cell_type": "code",
      "source": [
        "line = line.lower()"
      ],
      "metadata": {
        "id": "WfzNp4RT1opV"
      },
      "execution_count": 108,
      "outputs": []
    },
    {
      "cell_type": "code",
      "source": [
        "line.encode('unicode_escape')"
      ],
      "metadata": {
        "colab": {
          "base_uri": "https://localhost:8080/"
        },
        "id": "MYywZPp41qrO",
        "outputId": "466d1616-7b85-4c5f-9127-883e873aaa69"
      },
      "execution_count": 109,
      "outputs": [
        {
          "output_type": "execute_result",
          "data": {
            "text/plain": [
              "b'niemc\\\\xf3w pod koniec ii wojny \\\\u015bwiatowej na dolny \\\\u015bl\\\\u0105sk, zosta\\\\u0142y\\\\n'"
            ]
          },
          "metadata": {},
          "execution_count": 109
        }
      ]
    },
    {
      "cell_type": "code",
      "source": [
        "import re"
      ],
      "metadata": {
        "id": "I-hQcg1i1tBL"
      },
      "execution_count": 110,
      "outputs": []
    },
    {
      "cell_type": "code",
      "source": [
        "m = re.search('\\u015b\\w*', line)"
      ],
      "metadata": {
        "id": "qTReQ_CR1uPb"
      },
      "execution_count": 111,
      "outputs": []
    },
    {
      "cell_type": "code",
      "source": [
        "m.group()"
      ],
      "metadata": {
        "colab": {
          "base_uri": "https://localhost:8080/",
          "height": 36
        },
        "id": "Ib_PuYnX1wl8",
        "outputId": "08ed529c-ca49-4599-d9ad-7d124f3cd2ca"
      },
      "execution_count": 112,
      "outputs": [
        {
          "output_type": "execute_result",
          "data": {
            "text/plain": [
              "'światowej'"
            ],
            "application/vnd.google.colaboratory.intrinsic+json": {
              "type": "string"
            }
          },
          "metadata": {},
          "execution_count": 112
        }
      ]
    },
    {
      "cell_type": "code",
      "source": [
        "word_tokenize(line)"
      ],
      "metadata": {
        "colab": {
          "base_uri": "https://localhost:8080/"
        },
        "id": "w9gQNVOD1yr2",
        "outputId": "c66ee950-8ce7-4374-bc64-13e77330cd56"
      },
      "execution_count": 113,
      "outputs": [
        {
          "output_type": "execute_result",
          "data": {
            "text/plain": [
              "['niemców',\n",
              " 'pod',\n",
              " 'koniec',\n",
              " 'ii',\n",
              " 'wojny',\n",
              " 'światowej',\n",
              " 'na',\n",
              " 'dolny',\n",
              " 'śląsk',\n",
              " ',',\n",
              " 'zostały']"
            ]
          },
          "metadata": {},
          "execution_count": 113
        }
      ]
    },
    {
      "cell_type": "code",
      "source": [
        "nltk.download('words')\n",
        "wordlist = [w for w in nltk.corpus.words.words('en') if(w.islower())]"
      ],
      "metadata": {
        "colab": {
          "base_uri": "https://localhost:8080/"
        },
        "id": "F0-ZRN8517my",
        "outputId": "6dc0920d-3b15-418f-faf9-eec80305feaa"
      },
      "execution_count": 115,
      "outputs": [
        {
          "output_type": "stream",
          "name": "stdout",
          "text": [
            "[nltk_data] Downloading package words to /root/nltk_data...\n",
            "[nltk_data]   Unzipping corpora/words.zip.\n"
          ]
        }
      ]
    },
    {
      "cell_type": "code",
      "source": [
        "[w for w in wordlist if(re.search(\"ed$\",w))][:5]"
      ],
      "metadata": {
        "colab": {
          "base_uri": "https://localhost:8080/"
        },
        "id": "1xXH9JDz2ZB2",
        "outputId": "54511efa-65f1-4009-e523-c81279cae5d3"
      },
      "execution_count": 117,
      "outputs": [
        {
          "output_type": "execute_result",
          "data": {
            "text/plain": [
              "['abaissed', 'abandoned', 'abased', 'abashed', 'abatised']"
            ]
          },
          "metadata": {},
          "execution_count": 117
        }
      ]
    },
    {
      "cell_type": "code",
      "source": [
        "[w for w in wordlist if(re.search(\"^..j..t..$\",w))][:5]"
      ],
      "metadata": {
        "colab": {
          "base_uri": "https://localhost:8080/"
        },
        "id": "H7wIAo822pea",
        "outputId": "b969b90a-ceb5-4095-98f2-e8cb3c30a9b1"
      },
      "execution_count": 118,
      "outputs": [
        {
          "output_type": "execute_result",
          "data": {
            "text/plain": [
              "['abjectly', 'adjuster', 'dejected', 'dejectly', 'injector']"
            ]
          },
          "metadata": {},
          "execution_count": 118
        }
      ]
    },
    {
      "cell_type": "code",
      "source": [
        "[w for w in wordlist if(re.search(\"^.t..t$\",w))][:5]"
      ],
      "metadata": {
        "colab": {
          "base_uri": "https://localhost:8080/"
        },
        "id": "RMbRG_-o29Bb",
        "outputId": "a3055b83-a807-4556-f32a-e2af7cf7b89b"
      },
      "execution_count": 119,
      "outputs": [
        {
          "output_type": "execute_result",
          "data": {
            "text/plain": [
              "['atilt', 'start', 'stent', 'stept', 'stert']"
            ]
          },
          "metadata": {},
          "execution_count": 119
        }
      ]
    },
    {
      "cell_type": "code",
      "source": [
        "[w for w in wordlist if re.search('^[ghi][mno][jlk][def]$', w)]"
      ],
      "metadata": {
        "colab": {
          "base_uri": "https://localhost:8080/"
        },
        "id": "RxcAco2x3Eyl",
        "outputId": "333744c1-1dd5-47a1-fbe4-d3ecb61d8d37"
      },
      "execution_count": 120,
      "outputs": [
        {
          "output_type": "execute_result",
          "data": {
            "text/plain": [
              "['gold', 'golf', 'hold', 'hole']"
            ]
          },
          "metadata": {},
          "execution_count": 120
        }
      ]
    },
    {
      "cell_type": "code",
      "source": [
        "nltk.download('nps_chat')\n",
        "chat_words = sorted(set(w for w in nltk.corpus.nps_chat.words()))"
      ],
      "metadata": {
        "colab": {
          "base_uri": "https://localhost:8080/"
        },
        "id": "b2DDauM63ivj",
        "outputId": "0c8f94d6-2ab1-4723-fed0-94724e53b1be"
      },
      "execution_count": 122,
      "outputs": [
        {
          "output_type": "stream",
          "name": "stdout",
          "text": [
            "[nltk_data] Downloading package nps_chat to /root/nltk_data...\n",
            "[nltk_data]   Unzipping corpora/nps_chat.zip.\n"
          ]
        }
      ]
    },
    {
      "cell_type": "code",
      "source": [
        "[w for w in chat_words if re.search('^m+i+n+e+$', w)]"
      ],
      "metadata": {
        "colab": {
          "base_uri": "https://localhost:8080/"
        },
        "id": "OyF9J3s43rCI",
        "outputId": "3cb963ee-876f-4376-b05e-f94d123be39e"
      },
      "execution_count": 123,
      "outputs": [
        {
          "output_type": "execute_result",
          "data": {
            "text/plain": [
              "['miiiiiiiiiiiiinnnnnnnnnnneeeeeeeeee',\n",
              " 'miiiiiinnnnnnnnnneeeeeeee',\n",
              " 'mine',\n",
              " 'mmmmmmmmiiiiiiiiinnnnnnnnneeeeeeee']"
            ]
          },
          "metadata": {},
          "execution_count": 123
        }
      ]
    },
    {
      "cell_type": "code",
      "source": [
        "[w for w in chat_words if re.search('^[ha]+$', w)]"
      ],
      "metadata": {
        "colab": {
          "base_uri": "https://localhost:8080/"
        },
        "id": "x6IkeY_-30us",
        "outputId": "c861b7e4-5eb0-41ca-d477-bb29661301f9"
      },
      "execution_count": 124,
      "outputs": [
        {
          "output_type": "execute_result",
          "data": {
            "text/plain": [
              "['a',\n",
              " 'aaaaaaaaaaaaaaaaa',\n",
              " 'aaahhhh',\n",
              " 'ah',\n",
              " 'ahah',\n",
              " 'ahahah',\n",
              " 'ahh',\n",
              " 'ahhahahaha',\n",
              " 'ahhh',\n",
              " 'ahhhh',\n",
              " 'ahhhhhh',\n",
              " 'ahhhhhhhhhhhhhh',\n",
              " 'h',\n",
              " 'ha',\n",
              " 'haaa',\n",
              " 'hah',\n",
              " 'haha',\n",
              " 'hahaaa',\n",
              " 'hahah',\n",
              " 'hahaha',\n",
              " 'hahahaa',\n",
              " 'hahahah',\n",
              " 'hahahaha',\n",
              " 'hahahahaaa',\n",
              " 'hahahahahaha',\n",
              " 'hahahahahahaha',\n",
              " 'hahahahahahahahahahahahahahahaha',\n",
              " 'hahahhahah',\n",
              " 'hahhahahaha']"
            ]
          },
          "metadata": {},
          "execution_count": 124
        }
      ]
    },
    {
      "cell_type": "code",
      "source": [
        "nltk.download('treebank')\n",
        "wsj = sorted(set(nltk.corpus.treebank.words()))"
      ],
      "metadata": {
        "colab": {
          "base_uri": "https://localhost:8080/"
        },
        "id": "FqJgmlRO35ZD",
        "outputId": "bd1dc674-20cd-4a82-db66-95679b598de2"
      },
      "execution_count": 126,
      "outputs": [
        {
          "output_type": "stream",
          "name": "stdout",
          "text": [
            "[nltk_data] Downloading package treebank to /root/nltk_data...\n",
            "[nltk_data]   Unzipping corpora/treebank.zip.\n"
          ]
        }
      ]
    },
    {
      "cell_type": "code",
      "source": [
        "[w for w in wsj if re.search('^[0-9]+\\.[0-9]+$', w)][:5]"
      ],
      "metadata": {
        "colab": {
          "base_uri": "https://localhost:8080/"
        },
        "id": "DOM-dFj-4EYj",
        "outputId": "6ca268cb-4e4d-4905-d1af-14b82ca8e34f"
      },
      "execution_count": 128,
      "outputs": [
        {
          "output_type": "execute_result",
          "data": {
            "text/plain": [
              "['0.0085', '0.05', '0.1', '0.16', '0.2']"
            ]
          },
          "metadata": {},
          "execution_count": 128
        }
      ]
    },
    {
      "cell_type": "code",
      "source": [
        "[w for w in wsj if re.search('^[A-Z]+\\$$', w)]"
      ],
      "metadata": {
        "colab": {
          "base_uri": "https://localhost:8080/"
        },
        "id": "b8W-bkML4LhK",
        "outputId": "0ccf90cd-3fa0-442f-ce24-1a6600322e01"
      },
      "execution_count": 129,
      "outputs": [
        {
          "output_type": "execute_result",
          "data": {
            "text/plain": [
              "['C$', 'US$']"
            ]
          },
          "metadata": {},
          "execution_count": 129
        }
      ]
    },
    {
      "cell_type": "code",
      "source": [
        "word = 'supercalifragilisticexpialidocious'"
      ],
      "metadata": {
        "id": "oF_VV6kr4StU"
      },
      "execution_count": 130,
      "outputs": []
    },
    {
      "cell_type": "code",
      "source": [
        "re.findall(r'[aeiou]', word)"
      ],
      "metadata": {
        "colab": {
          "base_uri": "https://localhost:8080/"
        },
        "id": "mklCvUDm4q9E",
        "outputId": "66d7065e-bd50-4c1f-f974-c182a6b9f85c"
      },
      "execution_count": 131,
      "outputs": [
        {
          "output_type": "execute_result",
          "data": {
            "text/plain": [
              "['u',\n",
              " 'e',\n",
              " 'a',\n",
              " 'i',\n",
              " 'a',\n",
              " 'i',\n",
              " 'i',\n",
              " 'i',\n",
              " 'e',\n",
              " 'i',\n",
              " 'a',\n",
              " 'i',\n",
              " 'o',\n",
              " 'i',\n",
              " 'o',\n",
              " 'u']"
            ]
          },
          "metadata": {},
          "execution_count": 131
        }
      ]
    },
    {
      "cell_type": "code",
      "source": [
        "len(re.findall(r'[aeiou]', word))"
      ],
      "metadata": {
        "colab": {
          "base_uri": "https://localhost:8080/"
        },
        "id": "nyz_qZDs4uG5",
        "outputId": "9b350697-7bf6-4494-b678-bf87b7fb8490"
      },
      "execution_count": 132,
      "outputs": [
        {
          "output_type": "execute_result",
          "data": {
            "text/plain": [
              "16"
            ]
          },
          "metadata": {},
          "execution_count": 132
        }
      ]
    },
    {
      "cell_type": "code",
      "source": [
        "wsj = sorted(set(nltk.corpus.treebank.words()))"
      ],
      "metadata": {
        "id": "RFk3ya304xw3"
      },
      "execution_count": 133,
      "outputs": []
    },
    {
      "cell_type": "code",
      "source": [
        "fd = nltk.FreqDist(vs for word in wsj for vs in re.findall(r'[aeiou]{2,}',word))"
      ],
      "metadata": {
        "id": "HidXuQxO40aT"
      },
      "execution_count": 134,
      "outputs": []
    },
    {
      "cell_type": "code",
      "source": [
        "fd.most_common(5)"
      ],
      "metadata": {
        "colab": {
          "base_uri": "https://localhost:8080/"
        },
        "id": "y-StPjaB5FaV",
        "outputId": "ebc1d7f5-275d-4123-dbdb-312f252155dd"
      },
      "execution_count": 136,
      "outputs": [
        {
          "output_type": "execute_result",
          "data": {
            "text/plain": [
              "[('io', 549), ('ea', 476), ('ie', 331), ('ou', 329), ('ai', 261)]"
            ]
          },
          "metadata": {},
          "execution_count": 136
        }
      ]
    },
    {
      "cell_type": "code",
      "source": [
        "[int(n) for n in re.findall(r'[0-9]{2,4}', '2009-12-31')]"
      ],
      "metadata": {
        "colab": {
          "base_uri": "https://localhost:8080/"
        },
        "id": "VtmFV3X_5HWS",
        "outputId": "0f107729-ae1a-4f65-b9cd-07468b45c5d3"
      },
      "execution_count": 137,
      "outputs": [
        {
          "output_type": "execute_result",
          "data": {
            "text/plain": [
              "[2009, 12, 31]"
            ]
          },
          "metadata": {},
          "execution_count": 137
        }
      ]
    },
    {
      "cell_type": "code",
      "source": [
        "regexp = r'^[AEIOUaeiou]+|[AEIOUaeiou]+$|[^AEIOUaeiou]'"
      ],
      "metadata": {
        "id": "QzlL8E4t5faM"
      },
      "execution_count": 138,
      "outputs": []
    },
    {
      "cell_type": "code",
      "source": [
        "def compress(word):\n",
        "  pieces = re.findall(regexp, word)\n",
        "  return ''.join(pieces)"
      ],
      "metadata": {
        "id": "N1FuInv_5uV6"
      },
      "execution_count": 139,
      "outputs": []
    },
    {
      "cell_type": "code",
      "source": [
        "nltk.download(\"udhr\")\n",
        "english_udhr = nltk.corpus.udhr.words('English-Latin1')"
      ],
      "metadata": {
        "colab": {
          "base_uri": "https://localhost:8080/"
        },
        "id": "ERI0JM6p52je",
        "outputId": "7d350724-0968-44b8-be26-e8e0a8ca048f"
      },
      "execution_count": 140,
      "outputs": [
        {
          "output_type": "stream",
          "name": "stdout",
          "text": [
            "[nltk_data] Downloading package udhr to /root/nltk_data...\n",
            "[nltk_data]   Unzipping corpora/udhr.zip.\n"
          ]
        }
      ]
    },
    {
      "cell_type": "code",
      "source": [
        "print(nltk.tokenwrap(compress(w) for w in english_udhr[:75]))"
      ],
      "metadata": {
        "colab": {
          "base_uri": "https://localhost:8080/"
        },
        "id": "Yxdc3Q4-57yl",
        "outputId": "5a4490b8-22b8-44e2-eb51-74e07372d402"
      },
      "execution_count": 141,
      "outputs": [
        {
          "output_type": "stream",
          "name": "stdout",
          "text": [
            "Unvrsl Dclrtn of Hmn Rghts Prmble Whrs rcgntn of the inhrnt dgnty and\n",
            "of the eql and inlnble rghts of all mmbrs of the hmn fmly is the fndtn\n",
            "of frdm , jstce and pce in the wrld , Whrs dsrgrd and cntmpt fr hmn\n",
            "rghts hve rsltd in brbrs acts whch hve outrgd the cnscnce of mnknd ,\n",
            "and the advnt of a wrld in whch hmn bngs shll enjy frdm of spch and\n"
          ]
        }
      ]
    },
    {
      "cell_type": "code",
      "source": [
        "nltk.download('toolbox')\n",
        "rotokas_words = nltk.corpus.toolbox.words('rotokas.dic')"
      ],
      "metadata": {
        "colab": {
          "base_uri": "https://localhost:8080/"
        },
        "id": "RkJAuYUb5-8n",
        "outputId": "2bd6e4aa-ede4-47e8-dc24-6f9d3e1e2a24"
      },
      "execution_count": 143,
      "outputs": [
        {
          "output_type": "stream",
          "name": "stdout",
          "text": [
            "[nltk_data] Downloading package toolbox to /root/nltk_data...\n",
            "[nltk_data]   Unzipping corpora/toolbox.zip.\n"
          ]
        }
      ]
    },
    {
      "cell_type": "code",
      "source": [
        "cvs = [cv for w in rotokas_words for cv in re.findall(r'[ptksvr][aeiou]', w)]"
      ],
      "metadata": {
        "id": "40rbu9jI6P1w"
      },
      "execution_count": 144,
      "outputs": []
    },
    {
      "cell_type": "code",
      "source": [
        "cfd = nltk.ConditionalFreqDist(cvs)"
      ],
      "metadata": {
        "id": "5yt4EO0R6VCL"
      },
      "execution_count": 145,
      "outputs": []
    },
    {
      "cell_type": "code",
      "source": [
        "cfd.tabulate()"
      ],
      "metadata": {
        "colab": {
          "base_uri": "https://localhost:8080/"
        },
        "id": "RNg_8YU16XAD",
        "outputId": "6b110c6f-4621-4f18-b5ec-ad6a5416a8ff"
      },
      "execution_count": 146,
      "outputs": [
        {
          "output_type": "stream",
          "name": "stdout",
          "text": [
            "    a   e   i   o   u \n",
            "k 418 148  94 420 173 \n",
            "p  83  31 105  34  51 \n",
            "r 187  63  84  89  79 \n",
            "s   0   0 100   2   1 \n",
            "t  47   8   0 148  37 \n",
            "v  93  27 105  48  49 \n"
          ]
        }
      ]
    },
    {
      "cell_type": "code",
      "source": [
        "re.findall(r'^.*(?:ing|ly|ed|ious|ies|ive|es|s|ment)$', 'processing')"
      ],
      "metadata": {
        "colab": {
          "base_uri": "https://localhost:8080/"
        },
        "id": "knP8ZzL56ZeQ",
        "outputId": "857f7eaa-41ce-4ead-cc20-e64c98a6156a"
      },
      "execution_count": 154,
      "outputs": [
        {
          "output_type": "execute_result",
          "data": {
            "text/plain": [
              "['processing']"
            ]
          },
          "metadata": {},
          "execution_count": 154
        }
      ]
    },
    {
      "cell_type": "code",
      "source": [
        "re.findall(r'^(.*)(ing|ly|ed|ious|ies|ive|es|s|ment)$', 'processing')"
      ],
      "metadata": {
        "colab": {
          "base_uri": "https://localhost:8080/"
        },
        "id": "37Qtaq1I67KJ",
        "outputId": "f4d512ea-a62f-4fe8-e669-fcf959d2479a"
      },
      "execution_count": 155,
      "outputs": [
        {
          "output_type": "execute_result",
          "data": {
            "text/plain": [
              "[('process', 'ing')]"
            ]
          },
          "metadata": {},
          "execution_count": 155
        }
      ]
    },
    {
      "cell_type": "code",
      "source": [
        "re.findall(r'( +)(.*)(ing)$','start processing')"
      ],
      "metadata": {
        "colab": {
          "base_uri": "https://localhost:8080/"
        },
        "id": "p4fSrrPY8Wvu",
        "outputId": "08af572f-fbb1-4feb-aa49-688ea9fa2ba3"
      },
      "execution_count": 160,
      "outputs": [
        {
          "output_type": "execute_result",
          "data": {
            "text/plain": [
              "[(' ', 'process', 'ing')]"
            ]
          },
          "metadata": {},
          "execution_count": 160
        }
      ]
    },
    {
      "cell_type": "code",
      "source": [
        "re.findall(r'^(.*)(ing|ly|ed|ious|ies|ive|es|s|ment)$', 'processes')"
      ],
      "metadata": {
        "colab": {
          "base_uri": "https://localhost:8080/"
        },
        "id": "wXiAcPSQ8hSF",
        "outputId": "84b4363b-19cf-44ba-873c-33c019bcb36b"
      },
      "execution_count": 161,
      "outputs": [
        {
          "output_type": "execute_result",
          "data": {
            "text/plain": [
              "[('processe', 's')]"
            ]
          },
          "metadata": {},
          "execution_count": 161
        }
      ]
    },
    {
      "cell_type": "code",
      "source": [
        "re.findall(r'^(.*?)(ing|ly|ed|ious|ies|ive|es|s|ment)$', 'processes')"
      ],
      "metadata": {
        "colab": {
          "base_uri": "https://localhost:8080/"
        },
        "id": "xNNXEhkb8vg7",
        "outputId": "af25ef01-25b2-48d4-e442-a332924a1c3a"
      },
      "execution_count": 162,
      "outputs": [
        {
          "output_type": "execute_result",
          "data": {
            "text/plain": [
              "[('process', 'es')]"
            ]
          },
          "metadata": {},
          "execution_count": 162
        }
      ]
    },
    {
      "cell_type": "code",
      "source": [
        "re.findall(r'^(.*?)(ing|ly|ed|ious|ies|ive|es|s|ment)?$', 'language')"
      ],
      "metadata": {
        "colab": {
          "base_uri": "https://localhost:8080/"
        },
        "id": "-nYuqLyx80ty",
        "outputId": "4f1deda1-c3c1-44bf-97e9-8ad3b1d9c436"
      },
      "execution_count": 163,
      "outputs": [
        {
          "output_type": "execute_result",
          "data": {
            "text/plain": [
              "[('language', '')]"
            ]
          },
          "metadata": {},
          "execution_count": 163
        }
      ]
    },
    {
      "cell_type": "code",
      "source": [
        "def stem(word):\n",
        "  regexp = r'^(.*?)(ing|ly|ed|ious|ies|ive|es|s|ment)?$'\n",
        "  stem, suffix = re.findall(regexp, word)[0]\n",
        "  return stem"
      ],
      "metadata": {
        "id": "BEnzDQ-s86UZ"
      },
      "execution_count": 164,
      "outputs": []
    },
    {
      "cell_type": "code",
      "source": [
        "raw = \"\"\"DENNIS: Listen, strange women lying in ponds distributing swords\n",
        " is no basis for a system of government.  Supreme executive power derives from\n",
        " a mandate from the masses, not from some farcical aquatic ceremony.\"\"\""
      ],
      "metadata": {
        "id": "xlkgeCDB9EoE"
      },
      "execution_count": 166,
      "outputs": []
    },
    {
      "cell_type": "code",
      "source": [
        "tokens = word_tokenize(raw)"
      ],
      "metadata": {
        "id": "mU6l5G8Y9Mgv"
      },
      "execution_count": 167,
      "outputs": []
    },
    {
      "cell_type": "code",
      "source": [
        "[stem(t) for t in tokens]"
      ],
      "metadata": {
        "colab": {
          "base_uri": "https://localhost:8080/"
        },
        "id": "ghxqnuxD9Qlb",
        "outputId": "3d3da9f3-bc4e-40b4-92b8-2d195c2a435f"
      },
      "execution_count": 168,
      "outputs": [
        {
          "output_type": "execute_result",
          "data": {
            "text/plain": [
              "['DENNIS',\n",
              " ':',\n",
              " 'Listen',\n",
              " ',',\n",
              " 'strange',\n",
              " 'women',\n",
              " 'ly',\n",
              " 'in',\n",
              " 'pond',\n",
              " 'distribut',\n",
              " 'sword',\n",
              " 'i',\n",
              " 'no',\n",
              " 'basi',\n",
              " 'for',\n",
              " 'a',\n",
              " 'system',\n",
              " 'of',\n",
              " 'govern',\n",
              " '.',\n",
              " 'Supreme',\n",
              " 'execut',\n",
              " 'power',\n",
              " 'deriv',\n",
              " 'from',\n",
              " 'a',\n",
              " 'mandate',\n",
              " 'from',\n",
              " 'the',\n",
              " 'mass',\n",
              " ',',\n",
              " 'not',\n",
              " 'from',\n",
              " 'some',\n",
              " 'farcical',\n",
              " 'aquatic',\n",
              " 'ceremony',\n",
              " '.']"
            ]
          },
          "metadata": {},
          "execution_count": 168
        }
      ]
    },
    {
      "cell_type": "code",
      "source": [
        "from nltk.corpus import gutenberg, nps_chat"
      ],
      "metadata": {
        "id": "phvAST0s9S7w"
      },
      "execution_count": 169,
      "outputs": []
    },
    {
      "cell_type": "code",
      "source": [
        "moby = nltk.Text(gutenberg.words('melville-moby_dick.txt'))"
      ],
      "metadata": {
        "id": "Cti-2SI29i6N"
      },
      "execution_count": 170,
      "outputs": []
    },
    {
      "cell_type": "code",
      "source": [
        "moby.findall(r\"<a> (<.*>) <man>\")"
      ],
      "metadata": {
        "colab": {
          "base_uri": "https://localhost:8080/"
        },
        "id": "Vk2jMpbd9lBM",
        "outputId": "c2be84e8-b24d-4e88-9033-a93e170a7ff4"
      },
      "execution_count": 171,
      "outputs": [
        {
          "output_type": "stream",
          "name": "stdout",
          "text": [
            "monied; nervous; dangerous; white; white; white; pious; queer; good;\n",
            "mature; white; Cape; great; wise; wise; butterless; white; fiendish;\n",
            "pale; furious; better; certain; complete; dismasted; younger; brave;\n",
            "brave; brave; brave\n"
          ]
        }
      ]
    },
    {
      "cell_type": "code",
      "source": [
        "chat = nltk.Text(nps_chat.words())"
      ],
      "metadata": {
        "id": "ws6r-1j39oD9"
      },
      "execution_count": 172,
      "outputs": []
    },
    {
      "cell_type": "code",
      "source": [
        "chat.findall(r\"<.*> <.*> <bro>\") "
      ],
      "metadata": {
        "colab": {
          "base_uri": "https://localhost:8080/"
        },
        "id": "LdGs6-Bg9tMA",
        "outputId": "0495ece3-35aa-4556-98b0-a28328e3296a"
      },
      "execution_count": 173,
      "outputs": [
        {
          "output_type": "stream",
          "name": "stdout",
          "text": [
            "you rule bro; telling you bro; u twizted bro\n"
          ]
        }
      ]
    },
    {
      "cell_type": "code",
      "source": [
        "chat.findall(r\"<l.*>{3,}\")"
      ],
      "metadata": {
        "colab": {
          "base_uri": "https://localhost:8080/"
        },
        "id": "nsHvvSXb9v5U",
        "outputId": "69685365-ec80-4f13-b213-3ca9236c98ac"
      },
      "execution_count": 174,
      "outputs": [
        {
          "output_type": "stream",
          "name": "stdout",
          "text": [
            "lol lol lol; lmao lol lol; lol lol lol; la la la la la; la la la; la\n",
            "la la; lovely lol lol love; lol lol lol.; la la la; la la la\n"
          ]
        }
      ]
    },
    {
      "cell_type": "code",
      "source": [
        "nltk.re_show(r'ing',\"He was using drugs which is why he was hallcuniating.\")"
      ],
      "metadata": {
        "colab": {
          "base_uri": "https://localhost:8080/"
        },
        "id": "IDKCAYaF90dL",
        "outputId": "121ac047-adec-445e-bf68-afa83cbd926d"
      },
      "execution_count": 175,
      "outputs": [
        {
          "output_type": "stream",
          "name": "stdout",
          "text": [
            "He was us{ing} drugs which is why he was hallcuniat{ing}.\n"
          ]
        }
      ]
    },
    {
      "cell_type": "code",
      "source": [
        "from nltk.corpus import brown"
      ],
      "metadata": {
        "id": "Eg7hXRxo-S9X"
      },
      "execution_count": 179,
      "outputs": []
    },
    {
      "cell_type": "code",
      "source": [
        "nltk.download('brown')\n",
        "\n",
        "hobbies_learned = nltk.Text(brown.words(categories=['hobbies', 'learned']))"
      ],
      "metadata": {
        "colab": {
          "base_uri": "https://localhost:8080/"
        },
        "id": "54ZcGmw2-bdM",
        "outputId": "61afdd07-535d-4d1d-b33f-00332d81f15d"
      },
      "execution_count": 181,
      "outputs": [
        {
          "output_type": "stream",
          "name": "stdout",
          "text": [
            "[nltk_data] Downloading package brown to /root/nltk_data...\n",
            "[nltk_data]   Unzipping corpora/brown.zip.\n"
          ]
        }
      ]
    },
    {
      "cell_type": "code",
      "source": [
        "hobbies_learned.findall(r\"<\\w*> <and> <other> <\\w*s>\")"
      ],
      "metadata": {
        "colab": {
          "base_uri": "https://localhost:8080/"
        },
        "id": "d9AChqrb-eyk",
        "outputId": "a6800936-6395-45e8-c4c1-4f40e5cf1ecf"
      },
      "execution_count": 182,
      "outputs": [
        {
          "output_type": "stream",
          "name": "stdout",
          "text": [
            "speed and other activities; water and other liquids; tomb and other\n",
            "landmarks; Statues and other monuments; pearls and other jewels;\n",
            "charts and other items; roads and other features; figures and other\n",
            "objects; military and other areas; demands and other factors;\n",
            "abstracts and other compilations; iron and other metals\n"
          ]
        }
      ]
    },
    {
      "cell_type": "code",
      "source": [
        "hobbies_learned.findall(r\"<\\w*> <as> <\\w*>\")"
      ],
      "metadata": {
        "colab": {
          "base_uri": "https://localhost:8080/"
        },
        "id": "MYlbfezQ-nTQ",
        "outputId": "7adbb172-0d4e-42cc-86f1-090776db21bc"
      },
      "execution_count": 183,
      "outputs": [
        {
          "output_type": "stream",
          "name": "stdout",
          "text": [
            "But as you; looks as though; seems as though; split as for; soon as\n",
            "they; soon as an; just as they; graded as to; determine as accurately;\n",
            "day as a; long as the; such as the; targets as well; such as economy;\n",
            "such as these; such as the; regarded as symphonic; music as an;\n",
            "sounded as sparkling; playing as it; distinction as a; approach as\n",
            "distinctly; reading as a; and as a; me as finicky; vein as that;\n",
            "disillusioning as the; such as the; engineering as such; intrudes as\n",
            "a; reproduce as faithfully; sounds as though; from as far; west as\n",
            "Wisconsin; and as far; south as Kentucky; introduced as the; do as\n",
            "much; Juniors as the; chosen as International; Classes as well;\n",
            "Contest as he; just as successful; Class as it; looking as neat;\n",
            "Developed as a; clouds as they; question as to; it as simple; way as\n",
            "an; same as for; way as boats; roads as existed; such as sailboats;\n",
            "just as much; facilities as a; well as other; premises as well; such\n",
            "as outboards; tappets as the; locks as you; edge as we; frame as\n",
            "shown; screw as you; serve as lifting; place as the; notches as much;\n",
            "alike as possible; science as involved; division as well; accomplished\n",
            "as they; is as important; manner as for; head as accurately; and as\n",
            "accurate; figures as for; about as much; pace as any; shown as much;\n",
            "masculine as most; good as she; are as follows; qualify as new;\n",
            "something as different; comes as no; known as Jefferson; time as a;\n",
            "carbine as one; fog as it; fragrance as Orphic; it as a; held as\n",
            "mandatory; liqueur as optional; coppery as Delawares; and as the;\n",
            "himself as best; ear as he; was as good; with as much; deserves as\n",
            "much; time as you; areas as Cape; just as it; likely as not; such as\n",
            "the; resort as well; left as you; known as the; used as prisons;\n",
            "things as coffee; thrones as large; potatoes as accessories; such as\n",
            "fixing; accepted as the; flavor as well; are as vital; frank as are;\n",
            "such as tangy; toast as usual; popping as well; used as alternate; or\n",
            "as a; cones as indicated; mold as a; long as the; such as the; used as\n",
            "pattern; mold as instructed; join as before; mold as measurement; top\n",
            "as for; same as jar; same as salt; wood as it; such as those; doubles\n",
            "as a; hull as you; level as required; acted as a; bulkheads as\n",
            "illustrated; installed as indicated; standard as are; well as\n",
            "possible; be as straight; such as plywood; glued as well; constructed\n",
            "as shown; sheets as shown; quite as smoothly; that as soon; far as we;\n",
            "light as an; far as relates; bridges as highways; well as injuries;\n",
            "stands as a; Ferry as the; well as many; today as a; prayers as well;\n",
            "bit as more; picturesque as a; weather as well; yourself as well;\n",
            "looked as if; subnormal as a; herewith as a; summer as we; week as\n",
            "the; pool as well; such as plunges; winter as well; comment as it;\n",
            "problems as well; for as little; work as well; cooling as they; for as\n",
            "little; it as a; often as important; humidity as evenly; for as\n",
            "little; nearly as much; times as much; summer as it; such as scenic;\n",
            "such as a; seasons as it; such as water; Just as the; them as\n",
            "additional; across as well; such as ancient; practice as recreation;\n",
            "shape as a; such as a; well as subsoil; trees as to; noted as to;\n",
            "capable as a; outlook as a; hailed as an; rights as a; experimentation\n",
            "as an; gay as it; emerge as a; it as it; even as well; remain as\n",
            "landmarks; independently as a; begins as abstract; in as direct;\n",
            "manner as possible; with as pure; mixture as I; flat as a; Design as\n",
            "an; trained as dancers; just as gymnastics; stunts as headstands;\n",
            "gymnastics as the; character as well; places as candidates; kicking as\n",
            "high; brought as close; hands as possible; equipment as the; serve as\n",
            "the; system as was; resistance as the; bloodstream as an; same as in;\n",
            "well as many; shows as the; such as the; and as lecturer; Eager as he;\n",
            "philosophers as he; just as electrical; are as general; magnet as\n",
            "such; judgment as opposed; continued as a; such as shipping; feed as\n",
            "an; tags as fermentation; such as vaccinating; twice as long; serve as\n",
            "a; forecast as a; requires as thorough; job as the; well as the;\n",
            "merchandise as in; field as yet; much as was; not as economically;\n",
            "student as not; value as training; educators as to; him as follows;\n",
            "well as set; positions as interior; just as in; such as American;\n",
            "membership as an; such as architecture; be as well; such as the; such\n",
            "as lighting; such as was; homes as well; such as tool; pensions as an;\n",
            "this as it; argument as to; requirements as to; Just as modern; not as\n",
            "an; but as an; known as the; known as the; served as consultants;\n",
            "serving as sunshades; range as high; status as the; go as far; merit\n",
            "as he; recognition as a; recognized as a; problems as well; have as a;\n",
            "known as a; such as private; rated as high; salary as department;\n",
            "engineers as much; engineer as a; such as reserved; him as an;\n",
            "evaluated as highly; Delaware as the; so as to; intervals as he; well\n",
            "as personalities; such as water; rates as low; field as Advance; well\n",
            "as the; designated as Monocite; much as glass; such as large; used as\n",
            "a; factors as costs; such as Advance; copy as required; load as much;\n",
            "for as little; house as a; shrink as tons; Grail as they; still as\n",
            "you; service as well; have as great; car as are; goes as low; and as\n",
            "high; are as many; rates as there; up as high; same as for; not as\n",
            "common; or as popular; expensive as most; manner as they; planets as\n",
            "a; observed as radio; emission as measured; length as emission; disk\n",
            "as observed; angle as the; radiates as a; observations as these;\n",
            "absolute as well; to as the; Af as measured; generators as currently;\n",
            "or as high; conduction as well; anode as well; used as a; arrangement\n",
            "as described; cathode as an; reduced as far; taken as Af; holder as\n",
            "indicated; taken as typical; taken as environmental; exposed as far;\n",
            "inch as Af; materials as well; such as printing; just as it; base as\n",
            "H; some as thermostatics; statement as has; energy as a; and as the;\n",
            "mentioned as such; just as a; Just as the; known as conformational;\n",
            "come as thermal; Af as a; dipole as well; same as that; Cr as\n",
            "compared; amplitude as small; defined as the; powders as well; be as\n",
            "effective; nearly as complex; more as peptizing; defined as\n",
            "particulate; so as to; up as liquids; such as calcium; such as\n",
            "greases; increased as much; active as an; builder as a; so as to; well\n",
            "as information; impurities as a; manifold as a; determined as the; Af\n",
            "as a; prepared as a; after as little; inversely as the; orbits as the;\n",
            "ecliptic as the; was as much; fifth as large; threshold as that;\n",
            "densities as low; effectiveness as the; same as that; such as large;\n",
            "such as the; manner as a; such as widespread; known as Bacillus; such\n",
            "as those; requirements as to; such as antibiotic; structures as is;\n",
            "used as controls; performed as described; activity as described; ones\n",
            "as a; so as to; computed as Af; plasma as a; such as the; such as a;\n",
            "supply as needed; to as the; serve as an; half as long; python as an;\n",
            "that as anacondas; far as possible; inches as the; female as 38;\n",
            "accepted as probable; septa as in; lung as in; much as in; statement\n",
            "as well; such as those; bronchiolitis as we; insofar as this; early as\n",
            "1858; artery as found; early as 1913; acting as valves; considered as\n",
            "functional; hilum as is; serve as norms; Wrist as a; center as well;\n",
            "Foot as well; needed as means; 6 as well; chosen as an; listed as the;\n",
            "children as described; selected as indicating; not as yet; same as\n",
            "what; Af as the; mechanism as such; such as resorcinol; ago as 1851;\n",
            "well as fractionation; such as acetone; times as potent; same as that;\n",
            "defined as the; defined as the; recognized as an; well as fever;\n",
            "interpreted as being; measuring as large; atrophy as well; such as\n",
            "that; conjugates as well; acetate as recommended; same as that; for as\n",
            "long; assembly as it; manner as described; column as described;\n",
            "established as follows; neocortex as far; such as the; brain as well;\n",
            "Important as these; system as shown; level as indicated; such as is;\n",
            "served as a; served as a; discharge as well; and as the; Af as a;\n",
            "written as the; D as a; regarded as a; act as managers; qualify as a;\n",
            "animal as not; viewed as composed; viewed as consisting; N as the;\n",
            "used as a; of as producing; chord as a; that as S; times as S; left as\n",
            "one; Af as the; graph as the; C as it; PQ as a; values as Af; of as a;\n",
            "Q as vertex; Af as directrices; Af as components; involution as a;\n",
            "effort as well; such as the; countries as India; opinion as to;\n",
            "opinions as to; such as great; functions as a; well as by; marriage as\n",
            "a; state as a; life as part; secularized as to; operate as a; action\n",
            "as such; together as more; religion as the; acts as an; functioned as\n",
            "a; served as magnificent; acts as a; well as her; mind as if; them as\n",
            "worthy; babies as well; hope as a; such as undue; services as part;\n",
            "perhaps as old; quality as the; anxiety as well; rate as compared;\n",
            "plans as the; at as a; than as a; crises as experienced; population as\n",
            "sponsors; such as sex; act as indicators; act as a; population as a;\n",
            "recognized as a; insofar as sanctions; well as the; acts as a; group\n",
            "as well; viewed as a; supposedly as representative; recognized as a;\n",
            "are as follows; so as to; used as a; such as records; subjects as\n",
            "fertility; run as follows; far as to; weight as regularly; for as\n",
            "much; flexibility as possible; week as there; seen as they; outsiders\n",
            "as well; just as in; such as sex; experience as most; males as a; sex\n",
            "as sex; love as most; figure as people; hypothesized as being; used as\n",
            "the; to as the; reassured as to; concept as suggestibility; defined as\n",
            "the; way as to; inadequate as an; inadequate as an; reacted as they;\n",
            "viewed as an; have as a; herself as having; feeling as she; voluntary\n",
            "as the; involuntary as the; rise as one; relaxing as much; experience\n",
            "as follows; experience as one; desk as being; constriction as to;\n",
            "informed as to; comments as the; chosen as subjects; much as possible;\n",
            "words as they; designed as a; interpreted as resulting; used as the;\n",
            "least as well; increased as the; performed as well; or as a; offered\n",
            "as a; worked as follows; served as antagonists; it as well; only as\n",
            "the; but as the; regarded as a; regarded as an; them as errors;\n",
            "successful as a; rated as unsatisfactory; looked as follows; ways as\n",
            "to; simple as to; it as part; me as some; me as being; was as if;\n",
            "passerby as though; behaving as though; behaving as if; therapy as\n",
            "the; it as a; interpreted as a; such as Russian; techniques as a;\n",
            "forms as text; dictionary as required; used as the; reserved as\n",
            "information; assigned as the; assigned as the; assigned as the;\n",
            "assigned as the; added as are; saved as a; place as the; entry as a;\n",
            "insofar as regular; are as follows; divided as in; Mary as the;\n",
            "writing as the; hunger as an; stimulation as an; man as an; used as\n",
            "an; such as these; deal as a; such as these; be as adequate; tone as\n",
            "for; are as difficult; disentangle as are; been as simple; complexity\n",
            "as consonantal; of as joining; rules as well; well as the;\n",
            "considerations as typographic; intended as a; value as a; slot as\n",
            "against; 24 as against; 16 as against; content as well; left as\n",
            "reasonably; list as against; according as they; meaning as regards;\n",
            "families as different; another as these; established as having; list\n",
            "as free; conditioning as possible; matched as the; be as definable;\n",
            "proportion as meanings; list as long; list as his; languages as well;\n",
            "years as well; lexicostatistics as a; proportion as it; show as high;\n",
            "rate as possible; westward as he; devoutly as they; elections as soon;\n",
            "acted as moderator; strong as to; serving as a; posing as an; also as\n",
            "inevitable; Russia as a; difficult as party; achieved as the; upon as\n",
            "a; communes as the; considered as a; also as a; is as yet; such as\n",
            "the; elections as an; so as to; them as they; both as an; and as a;\n",
            "implications as the; important as an; regarded as more; elsewhere as\n",
            "well; subsistence as well; Just as heavily; about as nebulous; exactly\n",
            "as is; about as awkward; just as a; analysis as well; persist as to;\n",
            "markets as we; profile as saying; business as a; construction as\n",
            "mortgage; connection as well; well as by; well as those; well as the;\n",
            "well as an; well as with; ease as a; such as education; today as the;\n",
            "competitive as consumers; at as fast; rate as in; such as union;\n",
            "treated as a; behaves as a; bargains as a; taken as given; rises as\n",
            "the; this as evidence; members as a; increases as distinct; emerge as\n",
            "law; States as expressed; such as Switzerland; acknowledged as a;\n",
            "accept as law; community as sovereign; just as the; save as these;\n",
            "Europe as new; simply as its; enforced as law; changing as the;\n",
            "positivism as fundamentally; seen as an; limited as precisely;\n",
            "explicitly as possible; conceived as the; seen as a; far as to;\n",
            "regarded as the; rules as to; dramatic as it; challenged as\n",
            "discriminatory; law as to; decision as well; provision as concerned;\n",
            "exactly as are; long as a; right as defined; speech as to; such as\n",
            "these; Congress as expressed; classified as transfers; interpreted as\n",
            "not; treated as the; but as a; 381 as a; compiled as a; company as\n",
            "determined; classified as large; responses as a; neutral as between;\n",
            "situations as they; decision as implying; strikes as bona; labor as a;\n",
            "well as moral; lie as between; it as a; decisions as conclusive;\n",
            "either as a; or as an; and as an; acting as strikebreakers;\n",
            "presumptuous as to; elements as job; that as they; have as much;\n",
            "school as his; factors as sex; such as selecting; achieve as much;\n",
            "described as those; treated as individuals; such as defective; such as\n",
            "faulty; behaves as he; be as proficient; study as the; increase as a;\n",
            "largely as a; views as to; Report as it; white as a; well as that;\n",
            "other as white; but as human; twice as many; roles as educational; are\n",
            "as likely; practice as higher; such as these; well as upon; be as an;\n",
            "personality as well; attitudes as teachers; individual as well;\n",
            "education as most; students as it; education as a; education as good;\n",
            "so as to; published as one; Education as a; regard as the; such as\n",
            "the; society as a; themselves as trustees; has as an; far as this;\n",
            "nondiscriminatory as long; experts as to; about as far; traffic as\n",
            "representing; behave as if; treated as variable; so as to; such as\n",
            "output; such as residential; such as street; serve as tentative;\n",
            "service as a; cent as the; reported as a; long as the; regarding as\n",
            "only; Included as a; earmarked as incurred; Functionalism as a;\n",
            "philosophy as a; form as something; philosophy as a; philosophy as\n",
            "Queen; nature as it; philosophy as such; of as servant; appear as\n",
            "less; jeers as the; beliefs as social; philosophy as a; philosophy as\n",
            "a; exist as an; framed as to; appear as legitimate; truth as for;\n",
            "regarded as their; and as it; shown as follows; whit as bad; and as\n",
            "it; say as before; far as I; far as I; is as empty; about as grim; lot\n",
            "as can; far as they; be as fitting; unfitting as any; is as follows;\n",
            "well as the; well as the; accepted as essentially; objects as unified;\n",
            "objects as objects; things as shaped; only as generally; it as a;\n",
            "clues as to; inference as to; with as many; defined as the; 800 as a;\n",
            "stand as a; determinedly as they; them as an; East as we; display as\n",
            "firm; fabrics as preliminary; it as his; house as Cook; just as the;\n",
            "such as that; just as the; children as the; women as soon; Towsley as\n",
            "manager; installed as well; available as to; unity as Papal; almost as\n",
            "dimly; remembered as those; communism as such; communism as it; way as\n",
            "to; more as an; himself as a; Dorr as a; proclaim as one; trial as\n",
            "being; doubt as to; Brown as being; recognized as having; that as\n",
            "Rhode; action as a; land as speedily; textures as well; Cubism as far;\n",
            "back as the; itself as the; finish as well; subjects as depicted;\n",
            "effect as to; is as if; defined as parallel; so as to; surface as\n",
            "well; expanded as to; largely as the; relief as such; and as the;\n",
            "abstracted as to; representation as image; just as much; way as to;\n",
            "themselves as independent; themselves as silhouettes; much as for;\n",
            "collage as a; only as flattened; was as though; collage as too;\n",
            "inevitably as an; boundary as effectively; new as some; is as\n",
            "important; act as controllers; Just as the; built as part; scheme as\n",
            "a; match as nearly; so as to; color as well; solidly as to; technique\n",
            "as described; medium as to; speculate as to; so as to; supported as\n",
            "it; Capitol as a; meet as many; artists as possible; pose as an;\n",
            "commitment as an; humanity as a; ethical as well; such as artists;\n",
            "Almost as if; voice as well; Difficult as it; return as a; he as well;\n",
            "aesthetic as well; just as I; far as to; Abstraction as well;\n",
            "discarded as unwanted; artists as a; society as well; community as a;\n",
            "is as broad; such as The; questions as these; described as alienation;\n",
            "alienation as a; Considered as an; out as much; passage as the; they\n",
            "as satisfied; it as a; sometimes as an; used as an; composers as\n",
            "Monteverdi; recitative as different; others as the; place as if;\n",
            "ramble as he; is as far; monk as Varlaam; is as if; just as the;\n",
            "ethereal as he; phrase as arresting; appears as he; sounds as odd; is\n",
            "as much; stake as her; speaks as a; broken as if; living as well;\n",
            "motif as it; belief as well; out as a; recognize as uniquely; life as\n",
            "we; poetry as a; poetry as soon; wings as he; recognize as a; novels\n",
            "as well; it as evidence; styles as he; speak as he; style as it;\n",
            "rearranged as a; quoted as Epigraph; So as the; art as long; just as\n",
            "well; are as impassive; treated as a; confabulations as ends; Just as\n",
            "Hart; exactly as in; much as the; presented as calligraphy; nearly as\n",
            "severe; great as the; requirements as he; equivalents as basic; poetry\n",
            "as well; admired as handsome; regarded as mere; regarded as no;\n",
            "effects as intentional; so as to; again as long; hands as a; fiction\n",
            "as in; heavy as if; serve as a; themes as guilt; just as his; mouth as\n",
            "if; hands as the; somewhat as they; importantly as his; indenture as\n",
            "an; Pumblechook as he; or as a; reserved as they; continue as before;\n",
            "continue as before; area as an; many as ten; considered as logically;\n",
            "altered as desired; is as follows; exactly as shown; same as from;\n",
            "ponds as well; constructed as shown; located as shown; system as the;\n",
            "treated as a; transfer as well; months as shown; liquor as indicated;\n",
            "small as the; but as the; calculated as 220; and as being; serve as a;\n",
            "and as a; to as operational; just as important; horizontally as well;\n",
            "recognized as a; justify as great; element as is; advocated as the;\n",
            "attractive as an; act as cofactors; form as a; such as bradykinin;\n",
            "many as seven; matter as a; content as sands; such as an; alcohols as\n",
            "solvents; well as new; benzene as solvent; order as in; published as\n",
            "A; such as the; such as Strukturbericht; 1954 as Memoir; such as the;\n",
            "such as the; such as dehydration; serve as a; such as bacteria; such\n",
            "as Clostridium; such as Trichinella; treatment as by; products as\n",
            "well; acceptable as regards; such as an; cent as much; energy as heat;\n",
            "such as fresh; same as for; storage as compared; substrates as iron;\n",
            "graph as illustrated; merely as a; coating as assessed; values as the;\n",
            "knife as well; Hesiometer as illustrated; relationships as\n",
            "schematically; relationships as described; substrate as shown; foam as\n",
            "an; foam as a; such as a; applications as cores; varies as the; foams\n",
            "as determined; lengths as desired; novelties as soap; basis as\n",
            "desired; used as an; vent as close; so as to; considered as\n",
            "indicative; inefficient as the; promise as far; concave as seen;\n",
            "assumed as a; Af as expected; assumed as 15; probably as it; system as\n",
            "well; process as a; and as R; process as deterministic; vectors as\n",
            "belonging; out as in; not as important; direction as to; system as\n",
            "indicated; such as the; long as the; are as satisfactory; time as\n",
            "compared; turned as required; arranged as described\n"
          ]
        }
      ]
    },
    {
      "cell_type": "code",
      "source": [
        "raw = \"\"\"DENNIS: Listen, strange women lying in ponds distributing swords\n",
        " is no basis for a system of government.  Supreme executive power derives from\n",
        " a mandate from the masses, not from some farcical aquatic ceremony.\"\"\"\n",
        "tokens = word_tokenize(raw)"
      ],
      "metadata": {
        "id": "YffUtc-R_BL6"
      },
      "execution_count": 184,
      "outputs": []
    },
    {
      "cell_type": "code",
      "source": [
        "porter = nltk.PorterStemmer()"
      ],
      "metadata": {
        "id": "ZLwq1hh9_Oo0"
      },
      "execution_count": 185,
      "outputs": []
    },
    {
      "cell_type": "code",
      "source": [
        "lancaster = nltk.LancasterStemmer()"
      ],
      "metadata": {
        "id": "1ZHR3Wsn_S8K"
      },
      "execution_count": 186,
      "outputs": []
    },
    {
      "cell_type": "code",
      "source": [
        "[porter.stem(t) for t in tokens]"
      ],
      "metadata": {
        "colab": {
          "base_uri": "https://localhost:8080/"
        },
        "id": "A2R3BQZ5_UvY",
        "outputId": "269c820a-43ce-4685-f6a4-bfbb771bba97"
      },
      "execution_count": 187,
      "outputs": [
        {
          "output_type": "execute_result",
          "data": {
            "text/plain": [
              "['denni',\n",
              " ':',\n",
              " 'listen',\n",
              " ',',\n",
              " 'strang',\n",
              " 'women',\n",
              " 'lie',\n",
              " 'in',\n",
              " 'pond',\n",
              " 'distribut',\n",
              " 'sword',\n",
              " 'is',\n",
              " 'no',\n",
              " 'basi',\n",
              " 'for',\n",
              " 'a',\n",
              " 'system',\n",
              " 'of',\n",
              " 'govern',\n",
              " '.',\n",
              " 'suprem',\n",
              " 'execut',\n",
              " 'power',\n",
              " 'deriv',\n",
              " 'from',\n",
              " 'a',\n",
              " 'mandat',\n",
              " 'from',\n",
              " 'the',\n",
              " 'mass',\n",
              " ',',\n",
              " 'not',\n",
              " 'from',\n",
              " 'some',\n",
              " 'farcic',\n",
              " 'aquat',\n",
              " 'ceremoni',\n",
              " '.']"
            ]
          },
          "metadata": {},
          "execution_count": 187
        }
      ]
    },
    {
      "cell_type": "code",
      "source": [
        "[lancaster.stem(t) for t in tokens]"
      ],
      "metadata": {
        "colab": {
          "base_uri": "https://localhost:8080/"
        },
        "id": "Ij0d1rQ3_WtP",
        "outputId": "5c8e8cc3-7d1d-4da5-cf26-68b6797c707d"
      },
      "execution_count": 188,
      "outputs": [
        {
          "output_type": "execute_result",
          "data": {
            "text/plain": [
              "['den',\n",
              " ':',\n",
              " 'list',\n",
              " ',',\n",
              " 'strange',\n",
              " 'wom',\n",
              " 'lying',\n",
              " 'in',\n",
              " 'pond',\n",
              " 'distribut',\n",
              " 'sword',\n",
              " 'is',\n",
              " 'no',\n",
              " 'bas',\n",
              " 'for',\n",
              " 'a',\n",
              " 'system',\n",
              " 'of',\n",
              " 'govern',\n",
              " '.',\n",
              " 'suprem',\n",
              " 'execut',\n",
              " 'pow',\n",
              " 'der',\n",
              " 'from',\n",
              " 'a',\n",
              " 'mand',\n",
              " 'from',\n",
              " 'the',\n",
              " 'mass',\n",
              " ',',\n",
              " 'not',\n",
              " 'from',\n",
              " 'som',\n",
              " 'farc',\n",
              " 'aqu',\n",
              " 'ceremony',\n",
              " '.']"
            ]
          },
          "metadata": {},
          "execution_count": 188
        }
      ]
    },
    {
      "cell_type": "code",
      "source": [
        "class IndexedText(object):\n",
        "\n",
        "    def __init__(self, stemmer, text):\n",
        "        self._text = text\n",
        "        self._stemmer = stemmer\n",
        "        self._index = nltk.Index((self._stem(word), i)\n",
        "                                 for (i, word) in enumerate(text))\n",
        "\n",
        "    def concordance(self, word, width=40):\n",
        "        key = self._stem(word)\n",
        "        wc = int(width/4)                # words of context\n",
        "        for i in self._index[key]:\n",
        "            lcontext = ' '.join(self._text[i-wc:i])\n",
        "            rcontext = ' '.join(self._text[i:i+wc])\n",
        "            ldisplay = '{:>{width}}'.format(lcontext[-width:], width=width)\n",
        "            rdisplay = '{:{width}}'.format(rcontext[:width], width=width)\n",
        "            print(ldisplay, rdisplay)\n",
        "\n",
        "    def _stem(self, word):\n",
        "        return self._stemmer.stem(word).lower()"
      ],
      "metadata": {
        "id": "bmRgFfEc_bcf"
      },
      "execution_count": 189,
      "outputs": []
    },
    {
      "cell_type": "code",
      "source": [
        "nltk.download('webtext')\n",
        "\n",
        "grail = nltk.corpus.webtext.words('grail.txt')"
      ],
      "metadata": {
        "colab": {
          "base_uri": "https://localhost:8080/"
        },
        "id": "fzX3c5g5_nF2",
        "outputId": "7faab381-3316-42b2-81c2-36550a29592d"
      },
      "execution_count": 191,
      "outputs": [
        {
          "output_type": "stream",
          "name": "stdout",
          "text": [
            "[nltk_data] Downloading package webtext to /root/nltk_data...\n",
            "[nltk_data]   Unzipping corpora/webtext.zip.\n"
          ]
        }
      ]
    },
    {
      "cell_type": "code",
      "source": [
        "text = IndexedText(porter, grail)"
      ],
      "metadata": {
        "id": "5NixtsCe_z1E"
      },
      "execution_count": 192,
      "outputs": []
    },
    {
      "cell_type": "code",
      "source": [
        "text.concordance('lie')"
      ],
      "metadata": {
        "colab": {
          "base_uri": "https://localhost:8080/"
        },
        "id": "RDdXN5bh_4aM",
        "outputId": "e3ae7bfd-3b0c-44e0-ef30-63224fbf7cb8"
      },
      "execution_count": 193,
      "outputs": [
        {
          "output_type": "stream",
          "name": "stdout",
          "text": [
            "r king ! DENNIS : Listen , strange women lying in ponds distributing swords is no\n",
            " beat a very brave retreat . ROBIN : All lies ! MINSTREL : [ singing ] Bravest of\n",
            "       Nay . Nay . Come . Come . You may lie here . Oh , but you are wounded !   \n",
            "doctors immediately ! No , no , please ! Lie down . [ clap clap ] PIGLET : Well  \n",
            "ere is much danger , for beyond the cave lies the Gorge of Eternal Peril , which \n",
            "   you . Oh ... TIM : To the north there lies a cave -- the cave of Caerbannog --\n",
            "h it and lived ! Bones of full fifty men lie strewn about its lair . So , brave k\n",
            "not stop our fight ' til each one of you lies dead , and the Holy Grail returns t\n"
          ]
        }
      ]
    },
    {
      "cell_type": "code",
      "source": [
        "wnl = nltk.WordNetLemmatizer()"
      ],
      "metadata": {
        "id": "vwBxPGb-_796"
      },
      "execution_count": 194,
      "outputs": []
    },
    {
      "cell_type": "code",
      "source": [
        "nltk.download('wordnet')\n",
        "[wnl.lemmatize(t) for t in tokens]"
      ],
      "metadata": {
        "colab": {
          "base_uri": "https://localhost:8080/"
        },
        "id": "s_zaqaHsAD_i",
        "outputId": "0c2cd34a-2602-4e57-f4c6-54708b5d0d60"
      },
      "execution_count": 196,
      "outputs": [
        {
          "output_type": "stream",
          "name": "stdout",
          "text": [
            "[nltk_data] Downloading package wordnet to /root/nltk_data...\n",
            "[nltk_data]   Unzipping corpora/wordnet.zip.\n"
          ]
        },
        {
          "output_type": "execute_result",
          "data": {
            "text/plain": [
              "['DENNIS',\n",
              " ':',\n",
              " 'Listen',\n",
              " ',',\n",
              " 'strange',\n",
              " 'woman',\n",
              " 'lying',\n",
              " 'in',\n",
              " 'pond',\n",
              " 'distributing',\n",
              " 'sword',\n",
              " 'is',\n",
              " 'no',\n",
              " 'basis',\n",
              " 'for',\n",
              " 'a',\n",
              " 'system',\n",
              " 'of',\n",
              " 'government',\n",
              " '.',\n",
              " 'Supreme',\n",
              " 'executive',\n",
              " 'power',\n",
              " 'derives',\n",
              " 'from',\n",
              " 'a',\n",
              " 'mandate',\n",
              " 'from',\n",
              " 'the',\n",
              " 'mass',\n",
              " ',',\n",
              " 'not',\n",
              " 'from',\n",
              " 'some',\n",
              " 'farcical',\n",
              " 'aquatic',\n",
              " 'ceremony',\n",
              " '.']"
            ]
          },
          "metadata": {},
          "execution_count": 196
        }
      ]
    },
    {
      "cell_type": "code",
      "source": [
        "raw = \"\"\"'When I'M a Duchess,' she said to herself, (not in a very hopeful tone\n",
        "... though), 'I won't have any pepper in my kitchen AT ALL. Soup does very\n",
        "... well without--Maybe it's always pepper that makes people hot-tempered,'...\"\"\""
      ],
      "metadata": {
        "id": "XSG1LTD3AFqY"
      },
      "execution_count": 197,
      "outputs": []
    },
    {
      "cell_type": "code",
      "source": [
        "re.split(r'\\s+', raw)"
      ],
      "metadata": {
        "colab": {
          "base_uri": "https://localhost:8080/"
        },
        "id": "f2cuAND2AYNd",
        "outputId": "79badd92-2bb1-4564-a750-f4d1958514d7"
      },
      "execution_count": 199,
      "outputs": [
        {
          "output_type": "execute_result",
          "data": {
            "text/plain": [
              "[\"'When\",\n",
              " \"I'M\",\n",
              " 'a',\n",
              " \"Duchess,'\",\n",
              " 'she',\n",
              " 'said',\n",
              " 'to',\n",
              " 'herself,',\n",
              " '(not',\n",
              " 'in',\n",
              " 'a',\n",
              " 'very',\n",
              " 'hopeful',\n",
              " 'tone',\n",
              " 'though),',\n",
              " \"'I\",\n",
              " \"won't\",\n",
              " 'have',\n",
              " 'any',\n",
              " 'pepper',\n",
              " 'in',\n",
              " 'my',\n",
              " 'kitchen',\n",
              " 'AT',\n",
              " 'ALL.',\n",
              " 'Soup',\n",
              " 'does',\n",
              " 'very',\n",
              " 'well',\n",
              " 'without--Maybe',\n",
              " \"it's\",\n",
              " 'always',\n",
              " 'pepper',\n",
              " 'that',\n",
              " 'makes',\n",
              " 'people',\n",
              " \"hot-tempered,'...\"]"
            ]
          },
          "metadata": {},
          "execution_count": 199
        }
      ]
    },
    {
      "cell_type": "code",
      "source": [
        "print(re.findall(r\"\\w+(?:[-']\\w+)*|'|[-.(]+|\\S\\w*\", raw))"
      ],
      "metadata": {
        "colab": {
          "base_uri": "https://localhost:8080/"
        },
        "id": "u0zQR_p9AbCu",
        "outputId": "99af89ca-13de-459e-bdb6-26c33af79431"
      },
      "execution_count": 200,
      "outputs": [
        {
          "output_type": "stream",
          "name": "stdout",
          "text": [
            "[\"'\", 'When', \"I'M\", 'a', 'Duchess', ',', \"'\", 'she', 'said', 'to', 'herself', ',', '(', 'not', 'in', 'a', 'very', 'hopeful', 'tone', 'though', ')', ',', \"'\", 'I', \"won't\", 'have', 'any', 'pepper', 'in', 'my', 'kitchen', 'AT', 'ALL', '.', 'Soup', 'does', 'very', 'well', 'without', '--', 'Maybe', \"it's\", 'always', 'pepper', 'that', 'makes', 'people', 'hot-tempered', ',', \"'\", '...']\n"
          ]
        }
      ]
    },
    {
      "cell_type": "code",
      "source": [
        "text = nltk.corpus.gutenberg.raw('chesterton-thursday.txt')"
      ],
      "metadata": {
        "id": "bnxjnsFXAxAk"
      },
      "execution_count": 201,
      "outputs": []
    },
    {
      "cell_type": "code",
      "source": [
        "sents = nltk.sent_tokenize(text)"
      ],
      "metadata": {
        "id": "62YOB1C0BcCK"
      },
      "execution_count": 202,
      "outputs": []
    },
    {
      "cell_type": "code",
      "source": [
        "pprint.pprint(sents[79:89])"
      ],
      "metadata": {
        "colab": {
          "base_uri": "https://localhost:8080/"
        },
        "id": "cDe9ZPH_BeGJ",
        "outputId": "7aceac79-f95d-4ed4-c196-c1b1251143dd"
      },
      "execution_count": 203,
      "outputs": [
        {
          "output_type": "stream",
          "name": "stdout",
          "text": [
            "['\"Nonsense!\"',\n",
            " 'said Gregory, who was very rational when anyone else\\nattempted paradox.',\n",
            " '\"Why do all the clerks and navvies in the\\n'\n",
            " 'railway trains look so sad and tired, so very sad and tired?',\n",
            " 'I will\\ntell you.',\n",
            " 'It is because they know that the train is going right.',\n",
            " 'It\\n'\n",
            " 'is because they know that whatever place they have taken a ticket\\n'\n",
            " 'for that place they will reach.',\n",
            " 'It is because after they have\\n'\n",
            " 'passed Sloane Square they know that the next station must be\\n'\n",
            " 'Victoria, and nothing but Victoria.',\n",
            " 'Oh, their wild rapture!',\n",
            " 'oh,\\n'\n",
            " 'their eyes like stars and their souls again in Eden, if the next\\n'\n",
            " 'station were unaccountably Baker Street!\"',\n",
            " '\"It is you who are unpoetical,\" replied the poet Syme.']\n"
          ]
        }
      ]
    },
    {
      "cell_type": "code",
      "source": [
        ""
      ],
      "metadata": {
        "id": "gg_kdGurBkRu"
      },
      "execution_count": null,
      "outputs": []
    }
  ]
}