{
  "nbformat": 4,
  "nbformat_minor": 0,
  "metadata": {
    "colab": {
      "name": "Chapter 2_NLTK.ipynb",
      "provenance": [],
      "collapsed_sections": [],
      "authorship_tag": "ABX9TyPP872h2ZtrhX1EmlNdErwE",
      "include_colab_link": true
    },
    "kernelspec": {
      "name": "python3",
      "display_name": "Python 3"
    },
    "language_info": {
      "name": "python"
    }
  },
  "cells": [
    {
      "cell_type": "markdown",
      "metadata": {
        "id": "view-in-github",
        "colab_type": "text"
      },
      "source": [
        "<a href=\"https://colab.research.google.com/github/jnrahul92/nltk_book/blob/main/Chapter_2_NLTK.ipynb\" target=\"_parent\"><img src=\"https://colab.research.google.com/assets/colab-badge.svg\" alt=\"Open In Colab\"/></a>"
      ]
    },
    {
      "cell_type": "code",
      "execution_count": 1,
      "metadata": {
        "id": "BPGbknHzpiq5"
      },
      "outputs": [],
      "source": [
        "import nltk"
      ]
    },
    {
      "cell_type": "code",
      "source": [
        "nltk.download('gutenberg')"
      ],
      "metadata": {
        "colab": {
          "base_uri": "https://localhost:8080/"
        },
        "id": "gYiyuC_YqKwu",
        "outputId": "13408827-a661-4e7b-b595-2a8d519056d7"
      },
      "execution_count": 3,
      "outputs": [
        {
          "output_type": "stream",
          "name": "stdout",
          "text": [
            "[nltk_data] Downloading package gutenberg to /root/nltk_data...\n",
            "[nltk_data]   Unzipping corpora/gutenberg.zip.\n"
          ]
        },
        {
          "output_type": "execute_result",
          "data": {
            "text/plain": [
              "True"
            ]
          },
          "metadata": {},
          "execution_count": 3
        }
      ]
    },
    {
      "cell_type": "code",
      "source": [
        "nltk.corpus.gutenberg.fileids()"
      ],
      "metadata": {
        "colab": {
          "base_uri": "https://localhost:8080/"
        },
        "id": "UIN6UQwjp4B_",
        "outputId": "b35a346e-c7a1-4f67-81f1-b301eddc9cc8"
      },
      "execution_count": 4,
      "outputs": [
        {
          "output_type": "execute_result",
          "data": {
            "text/plain": [
              "['austen-emma.txt',\n",
              " 'austen-persuasion.txt',\n",
              " 'austen-sense.txt',\n",
              " 'bible-kjv.txt',\n",
              " 'blake-poems.txt',\n",
              " 'bryant-stories.txt',\n",
              " 'burgess-busterbrown.txt',\n",
              " 'carroll-alice.txt',\n",
              " 'chesterton-ball.txt',\n",
              " 'chesterton-brown.txt',\n",
              " 'chesterton-thursday.txt',\n",
              " 'edgeworth-parents.txt',\n",
              " 'melville-moby_dick.txt',\n",
              " 'milton-paradise.txt',\n",
              " 'shakespeare-caesar.txt',\n",
              " 'shakespeare-hamlet.txt',\n",
              " 'shakespeare-macbeth.txt',\n",
              " 'whitman-leaves.txt']"
            ]
          },
          "metadata": {},
          "execution_count": 4
        }
      ]
    },
    {
      "cell_type": "code",
      "source": [
        "emma = nltk.corpus.gutenberg.words('austen-emma.txt')"
      ],
      "metadata": {
        "id": "-vlStFcBqIQb"
      },
      "execution_count": 5,
      "outputs": []
    },
    {
      "cell_type": "code",
      "source": [
        "len(emma)"
      ],
      "metadata": {
        "colab": {
          "base_uri": "https://localhost:8080/"
        },
        "id": "VjwlNEDEqdfP",
        "outputId": "0ccd50c7-de42-4dfa-8260-ca3d0d886d46"
      },
      "execution_count": 6,
      "outputs": [
        {
          "output_type": "execute_result",
          "data": {
            "text/plain": [
              "192427"
            ]
          },
          "metadata": {},
          "execution_count": 6
        }
      ]
    },
    {
      "cell_type": "code",
      "source": [
        "from nltk.corpus import gutenberg"
      ],
      "metadata": {
        "id": "hovuXcAeqoA9"
      },
      "execution_count": 8,
      "outputs": []
    },
    {
      "cell_type": "code",
      "source": [
        "gutenberg.fileids()"
      ],
      "metadata": {
        "colab": {
          "base_uri": "https://localhost:8080/"
        },
        "id": "V3WokCKjq2dH",
        "outputId": "b3bc4614-41b0-4839-f001-a3d340e918c9"
      },
      "execution_count": 9,
      "outputs": [
        {
          "output_type": "execute_result",
          "data": {
            "text/plain": [
              "['austen-emma.txt',\n",
              " 'austen-persuasion.txt',\n",
              " 'austen-sense.txt',\n",
              " 'bible-kjv.txt',\n",
              " 'blake-poems.txt',\n",
              " 'bryant-stories.txt',\n",
              " 'burgess-busterbrown.txt',\n",
              " 'carroll-alice.txt',\n",
              " 'chesterton-ball.txt',\n",
              " 'chesterton-brown.txt',\n",
              " 'chesterton-thursday.txt',\n",
              " 'edgeworth-parents.txt',\n",
              " 'melville-moby_dick.txt',\n",
              " 'milton-paradise.txt',\n",
              " 'shakespeare-caesar.txt',\n",
              " 'shakespeare-hamlet.txt',\n",
              " 'shakespeare-macbeth.txt',\n",
              " 'whitman-leaves.txt']"
            ]
          },
          "metadata": {},
          "execution_count": 9
        }
      ]
    },
    {
      "cell_type": "code",
      "source": [
        "nltk.download('punkt')"
      ],
      "metadata": {
        "colab": {
          "base_uri": "https://localhost:8080/"
        },
        "id": "Z2gyNepRr7lr",
        "outputId": "6910392a-e909-4457-ddd6-27652497c06a"
      },
      "execution_count": 11,
      "outputs": [
        {
          "output_type": "stream",
          "name": "stdout",
          "text": [
            "[nltk_data] Downloading package punkt to /root/nltk_data...\n",
            "[nltk_data]   Unzipping tokenizers/punkt.zip.\n"
          ]
        },
        {
          "output_type": "execute_result",
          "data": {
            "text/plain": [
              "True"
            ]
          },
          "metadata": {},
          "execution_count": 11
        }
      ]
    },
    {
      "cell_type": "code",
      "source": [
        "for fileid in gutenberg.fileids():\n",
        "  num_chars = len(gutenberg.raw(fileid))\n",
        "  num_words = len(gutenberg.words(fileid))\n",
        "  num_sents = len(gutenberg.sents(fileid))\n",
        "  num_vocab = len(set(w.lower() for w in gutenberg.words(fileid)))\n",
        "  print(round(num_chars/num_words),round(num_words/num_sents),round(num_words/num_vocab),fileid)"
      ],
      "metadata": {
        "colab": {
          "base_uri": "https://localhost:8080/"
        },
        "id": "RmWuwRGNq5gy",
        "outputId": "a25275a0-233e-4779-e5a0-dabd393a38ae"
      },
      "execution_count": 12,
      "outputs": [
        {
          "output_type": "stream",
          "name": "stdout",
          "text": [
            "5 25 26 austen-emma.txt\n",
            "5 26 17 austen-persuasion.txt\n",
            "5 28 22 austen-sense.txt\n",
            "4 34 79 bible-kjv.txt\n",
            "5 19 5 blake-poems.txt\n",
            "4 19 14 bryant-stories.txt\n",
            "4 18 12 burgess-busterbrown.txt\n",
            "4 20 13 carroll-alice.txt\n",
            "5 20 12 chesterton-ball.txt\n",
            "5 23 11 chesterton-brown.txt\n",
            "5 18 11 chesterton-thursday.txt\n",
            "4 21 25 edgeworth-parents.txt\n",
            "5 26 15 melville-moby_dick.txt\n",
            "5 52 11 milton-paradise.txt\n",
            "4 12 9 shakespeare-caesar.txt\n",
            "4 12 8 shakespeare-hamlet.txt\n",
            "4 12 7 shakespeare-macbeth.txt\n",
            "5 36 12 whitman-leaves.txt\n"
          ]
        }
      ]
    },
    {
      "cell_type": "code",
      "source": [
        "macbeth_sentences = gutenberg.sents('shakespeare-macbeth.txt')"
      ],
      "metadata": {
        "id": "wOb2kpBrr4ky"
      },
      "execution_count": 13,
      "outputs": []
    },
    {
      "cell_type": "code",
      "source": [
        "macbeth_sentences"
      ],
      "metadata": {
        "colab": {
          "base_uri": "https://localhost:8080/"
        },
        "id": "Sh9AvINFsd_x",
        "outputId": "308d078a-43a7-4b82-a449-ca8a221506d0"
      },
      "execution_count": 14,
      "outputs": [
        {
          "output_type": "execute_result",
          "data": {
            "text/plain": [
              "[['[', 'The', 'Tragedie', 'of', 'Macbeth', 'by', 'William', 'Shakespeare', '1603', ']'], ['Actus', 'Primus', '.'], ...]"
            ]
          },
          "metadata": {},
          "execution_count": 14
        }
      ]
    },
    {
      "cell_type": "code",
      "source": [
        "macbeth_sentences[1116]"
      ],
      "metadata": {
        "colab": {
          "base_uri": "https://localhost:8080/"
        },
        "id": "gbBw1Cr2sgEY",
        "outputId": "b627a3dd-997c-4c66-91b8-8ef47b08cb7b"
      },
      "execution_count": 16,
      "outputs": [
        {
          "output_type": "execute_result",
          "data": {
            "text/plain": [
              "['Double',\n",
              " ',',\n",
              " 'double',\n",
              " ',',\n",
              " 'toile',\n",
              " 'and',\n",
              " 'trouble',\n",
              " ';',\n",
              " 'Fire',\n",
              " 'burne',\n",
              " ',',\n",
              " 'and',\n",
              " 'Cauldron',\n",
              " 'bubble']"
            ]
          },
          "metadata": {},
          "execution_count": 16
        }
      ]
    },
    {
      "cell_type": "code",
      "source": [
        "longest_len = max(len(s) for s in macbeth_sentences)"
      ],
      "metadata": {
        "id": "P6-v-eEHsk-P"
      },
      "execution_count": 17,
      "outputs": []
    },
    {
      "cell_type": "code",
      "source": [
        "[s for s in macbeth_sentences if(len(s) == longest_len)]"
      ],
      "metadata": {
        "colab": {
          "base_uri": "https://localhost:8080/"
        },
        "id": "Qfh5fEC0svvh",
        "outputId": "734f10fc-ff9f-4a87-d89c-1527f8af9f20"
      },
      "execution_count": 18,
      "outputs": [
        {
          "output_type": "execute_result",
          "data": {
            "text/plain": [
              "[['Doubtfull',\n",
              "  'it',\n",
              "  'stood',\n",
              "  ',',\n",
              "  'As',\n",
              "  'two',\n",
              "  'spent',\n",
              "  'Swimmers',\n",
              "  ',',\n",
              "  'that',\n",
              "  'doe',\n",
              "  'cling',\n",
              "  'together',\n",
              "  ',',\n",
              "  'And',\n",
              "  'choake',\n",
              "  'their',\n",
              "  'Art',\n",
              "  ':',\n",
              "  'The',\n",
              "  'mercilesse',\n",
              "  'Macdonwald',\n",
              "  '(',\n",
              "  'Worthie',\n",
              "  'to',\n",
              "  'be',\n",
              "  'a',\n",
              "  'Rebell',\n",
              "  ',',\n",
              "  'for',\n",
              "  'to',\n",
              "  'that',\n",
              "  'The',\n",
              "  'multiplying',\n",
              "  'Villanies',\n",
              "  'of',\n",
              "  'Nature',\n",
              "  'Doe',\n",
              "  'swarme',\n",
              "  'vpon',\n",
              "  'him',\n",
              "  ')',\n",
              "  'from',\n",
              "  'the',\n",
              "  'Westerne',\n",
              "  'Isles',\n",
              "  'Of',\n",
              "  'Kernes',\n",
              "  'and',\n",
              "  'Gallowgrosses',\n",
              "  'is',\n",
              "  'supply',\n",
              "  \"'\",\n",
              "  'd',\n",
              "  ',',\n",
              "  'And',\n",
              "  'Fortune',\n",
              "  'on',\n",
              "  'his',\n",
              "  'damned',\n",
              "  'Quarry',\n",
              "  'smiling',\n",
              "  ',',\n",
              "  'Shew',\n",
              "  \"'\",\n",
              "  'd',\n",
              "  'like',\n",
              "  'a',\n",
              "  'Rebells',\n",
              "  'Whore',\n",
              "  ':',\n",
              "  'but',\n",
              "  'all',\n",
              "  \"'\",\n",
              "  's',\n",
              "  'too',\n",
              "  'weake',\n",
              "  ':',\n",
              "  'For',\n",
              "  'braue',\n",
              "  'Macbeth',\n",
              "  '(',\n",
              "  'well',\n",
              "  'hee',\n",
              "  'deserues',\n",
              "  'that',\n",
              "  'Name',\n",
              "  ')',\n",
              "  'Disdayning',\n",
              "  'Fortune',\n",
              "  ',',\n",
              "  'with',\n",
              "  'his',\n",
              "  'brandisht',\n",
              "  'Steele',\n",
              "  ',',\n",
              "  'Which',\n",
              "  'smoak',\n",
              "  \"'\",\n",
              "  'd',\n",
              "  'with',\n",
              "  'bloody',\n",
              "  'execution',\n",
              "  '(',\n",
              "  'Like',\n",
              "  'Valours',\n",
              "  'Minion',\n",
              "  ')',\n",
              "  'caru',\n",
              "  \"'\",\n",
              "  'd',\n",
              "  'out',\n",
              "  'his',\n",
              "  'passage',\n",
              "  ',',\n",
              "  'Till',\n",
              "  'hee',\n",
              "  'fac',\n",
              "  \"'\",\n",
              "  'd',\n",
              "  'the',\n",
              "  'Slaue',\n",
              "  ':',\n",
              "  'Which',\n",
              "  'neu',\n",
              "  \"'\",\n",
              "  'r',\n",
              "  'shooke',\n",
              "  'hands',\n",
              "  ',',\n",
              "  'nor',\n",
              "  'bad',\n",
              "  'farwell',\n",
              "  'to',\n",
              "  'him',\n",
              "  ',',\n",
              "  'Till',\n",
              "  'he',\n",
              "  'vnseam',\n",
              "  \"'\",\n",
              "  'd',\n",
              "  'him',\n",
              "  'from',\n",
              "  'the',\n",
              "  'Naue',\n",
              "  'toth',\n",
              "  \"'\",\n",
              "  'Chops',\n",
              "  ',',\n",
              "  'And',\n",
              "  'fix',\n",
              "  \"'\",\n",
              "  'd',\n",
              "  'his',\n",
              "  'Head',\n",
              "  'vpon',\n",
              "  'our',\n",
              "  'Battlements']]"
            ]
          },
          "metadata": {},
          "execution_count": 18
        }
      ]
    },
    {
      "cell_type": "code",
      "source": [
        "nltk.download('webtext')"
      ],
      "metadata": {
        "colab": {
          "base_uri": "https://localhost:8080/"
        },
        "id": "h-fm-cRbs2g_",
        "outputId": "f4d84f40-7faa-41cf-edc5-809b41ff7a4c"
      },
      "execution_count": 19,
      "outputs": [
        {
          "output_type": "stream",
          "name": "stdout",
          "text": [
            "[nltk_data] Downloading package webtext to /root/nltk_data...\n",
            "[nltk_data]   Unzipping corpora/webtext.zip.\n"
          ]
        },
        {
          "output_type": "execute_result",
          "data": {
            "text/plain": [
              "True"
            ]
          },
          "metadata": {},
          "execution_count": 19
        }
      ]
    },
    {
      "cell_type": "code",
      "source": [
        "from nltk.corpus import webtext"
      ],
      "metadata": {
        "id": "fX_u4amotE29"
      },
      "execution_count": 20,
      "outputs": []
    },
    {
      "cell_type": "code",
      "source": [
        "for fileid in webtext.fileids():\n",
        "  print(fileid, webtext.raw(fileid)[:65],'...')"
      ],
      "metadata": {
        "colab": {
          "base_uri": "https://localhost:8080/"
        },
        "id": "QeAVsV5BtLcN",
        "outputId": "8d0f5489-b3aa-426b-c5a4-793c3fd1071a"
      },
      "execution_count": 21,
      "outputs": [
        {
          "output_type": "stream",
          "name": "stdout",
          "text": [
            "firefox.txt Cookie Manager: \"Don't allow sites that set removed cookies to se ...\n",
            "grail.txt SCENE 1: [wind] [clop clop clop] \n",
            "KING ARTHUR: Whoa there!  [clop ...\n",
            "overheard.txt White guy: So, do you have any plans for this evening?\n",
            "Asian girl ...\n",
            "pirates.txt PIRATES OF THE CARRIBEAN: DEAD MAN'S CHEST, by Ted Elliott & Terr ...\n",
            "singles.txt 25 SEXY MALE, seeks attrac older single lady, for discreet encoun ...\n",
            "wine.txt Lovely delicate, fragrant Rhone wine. Polished leather and strawb ...\n"
          ]
        }
      ]
    },
    {
      "cell_type": "code",
      "source": [
        "nltk.download('nps_chat')\n",
        "from nltk.corpus import nps_chat"
      ],
      "metadata": {
        "colab": {
          "base_uri": "https://localhost:8080/"
        },
        "id": "DmBTdVE6tW6N",
        "outputId": "5747e35e-e08f-4b2e-d168-13281f949583"
      },
      "execution_count": 22,
      "outputs": [
        {
          "output_type": "stream",
          "name": "stdout",
          "text": [
            "[nltk_data] Downloading package nps_chat to /root/nltk_data...\n",
            "[nltk_data]   Unzipping corpora/nps_chat.zip.\n"
          ]
        }
      ]
    },
    {
      "cell_type": "code",
      "source": [
        "chatroom = nps_chat.posts('10-19-20s_706posts.xml')"
      ],
      "metadata": {
        "id": "u7yl2QCdtqke"
      },
      "execution_count": 23,
      "outputs": []
    },
    {
      "cell_type": "code",
      "source": [
        "chatroom[45]"
      ],
      "metadata": {
        "colab": {
          "base_uri": "https://localhost:8080/"
        },
        "id": "0H-x2-sKtuDY",
        "outputId": "9a7801fc-563c-48e7-c56a-572ea5a9c14c"
      },
      "execution_count": 30,
      "outputs": [
        {
          "output_type": "execute_result",
          "data": {
            "text/plain": [
              "['r', 'u', 'serious']"
            ]
          },
          "metadata": {},
          "execution_count": 30
        }
      ]
    },
    {
      "cell_type": "code",
      "source": [
        "nltk.download('brown')\n",
        "from nltk.corpus import brown"
      ],
      "metadata": {
        "colab": {
          "base_uri": "https://localhost:8080/"
        },
        "id": "vTesDeWotveV",
        "outputId": "227c0d07-5814-44d8-b9a5-6660a842c557"
      },
      "execution_count": 31,
      "outputs": [
        {
          "output_type": "stream",
          "name": "stdout",
          "text": [
            "[nltk_data] Downloading package brown to /root/nltk_data...\n",
            "[nltk_data]   Unzipping corpora/brown.zip.\n"
          ]
        }
      ]
    },
    {
      "cell_type": "code",
      "source": [
        "brown.categories()"
      ],
      "metadata": {
        "colab": {
          "base_uri": "https://localhost:8080/"
        },
        "id": "ELpfUujRuGEN",
        "outputId": "f05ba327-fb10-4fed-e438-95130405fa1b"
      },
      "execution_count": 32,
      "outputs": [
        {
          "output_type": "execute_result",
          "data": {
            "text/plain": [
              "['adventure',\n",
              " 'belles_lettres',\n",
              " 'editorial',\n",
              " 'fiction',\n",
              " 'government',\n",
              " 'hobbies',\n",
              " 'humor',\n",
              " 'learned',\n",
              " 'lore',\n",
              " 'mystery',\n",
              " 'news',\n",
              " 'religion',\n",
              " 'reviews',\n",
              " 'romance',\n",
              " 'science_fiction']"
            ]
          },
          "metadata": {},
          "execution_count": 32
        }
      ]
    },
    {
      "cell_type": "code",
      "source": [
        "brown.words(categories='news')"
      ],
      "metadata": {
        "colab": {
          "base_uri": "https://localhost:8080/"
        },
        "id": "wl7hWjVTuIty",
        "outputId": "ccf23f38-132a-485f-dc19-56e3ca6e6c51"
      },
      "execution_count": 33,
      "outputs": [
        {
          "output_type": "execute_result",
          "data": {
            "text/plain": [
              "['The', 'Fulton', 'County', 'Grand', 'Jury', 'said', ...]"
            ]
          },
          "metadata": {},
          "execution_count": 33
        }
      ]
    },
    {
      "cell_type": "code",
      "source": [
        "brown.words(fileids=['cg22'])"
      ],
      "metadata": {
        "colab": {
          "base_uri": "https://localhost:8080/"
        },
        "id": "652xQIkPuPKG",
        "outputId": "b419e571-0277-4a51-8284-ca6ca9291c48"
      },
      "execution_count": 34,
      "outputs": [
        {
          "output_type": "execute_result",
          "data": {
            "text/plain": [
              "['Does', 'our', 'society', 'have', 'a', 'runaway', ',', ...]"
            ]
          },
          "metadata": {},
          "execution_count": 34
        }
      ]
    },
    {
      "cell_type": "code",
      "source": [
        "brown.sents(categories=['news','editorial','reviews'])"
      ],
      "metadata": {
        "colab": {
          "base_uri": "https://localhost:8080/"
        },
        "id": "YAhphdGmuVyX",
        "outputId": "10e61b8c-6b2f-4670-acc4-6f29bc79d076"
      },
      "execution_count": 35,
      "outputs": [
        {
          "output_type": "execute_result",
          "data": {
            "text/plain": [
              "[['The', 'Fulton', 'County', 'Grand', 'Jury', 'said', 'Friday', 'an', 'investigation', 'of', \"Atlanta's\", 'recent', 'primary', 'election', 'produced', '``', 'no', 'evidence', \"''\", 'that', 'any', 'irregularities', 'took', 'place', '.'], ['The', 'jury', 'further', 'said', 'in', 'term-end', 'presentments', 'that', 'the', 'City', 'Executive', 'Committee', ',', 'which', 'had', 'over-all', 'charge', 'of', 'the', 'election', ',', '``', 'deserves', 'the', 'praise', 'and', 'thanks', 'of', 'the', 'City', 'of', 'Atlanta', \"''\", 'for', 'the', 'manner', 'in', 'which', 'the', 'election', 'was', 'conducted', '.'], ...]"
            ]
          },
          "metadata": {},
          "execution_count": 35
        }
      ]
    },
    {
      "cell_type": "code",
      "source": [
        "news_text = brown.words(categories='news')"
      ],
      "metadata": {
        "id": "by-re2KyufOb"
      },
      "execution_count": 36,
      "outputs": []
    },
    {
      "cell_type": "code",
      "source": [
        "from nltk.probability import FreqDist\n",
        "fdist = FreqDist(w.lower() for w in news_text)"
      ],
      "metadata": {
        "id": "kUul9fQ_uq-3"
      },
      "execution_count": 37,
      "outputs": []
    },
    {
      "cell_type": "code",
      "source": [
        "modals = ['can','could','may','might','must','will']"
      ],
      "metadata": {
        "id": "Ax0A5n7zu1FP"
      },
      "execution_count": 38,
      "outputs": []
    },
    {
      "cell_type": "code",
      "source": [
        "for m in modals:\n",
        "  print(m + \":\",fdist[m],end=\" \")"
      ],
      "metadata": {
        "colab": {
          "base_uri": "https://localhost:8080/"
        },
        "id": "akHZGutLu8gH",
        "outputId": "489ec95e-5bb4-4eee-97fc-9f0ca3099ff4"
      },
      "execution_count": 39,
      "outputs": [
        {
          "output_type": "stream",
          "name": "stdout",
          "text": [
            "can: 94 could: 87 may: 93 might: 38 must: 53 will: 389 "
          ]
        }
      ]
    },
    {
      "cell_type": "code",
      "source": [
        "fdist2 = FreqDist(w.lower() for w in brown.words(categories = 'fiction'))\n",
        "for w in ['what','why','when','who','why']:\n",
        "  print(w+\":\",fdist2[w],end = \" \")"
      ],
      "metadata": {
        "colab": {
          "base_uri": "https://localhost:8080/"
        },
        "id": "QQTpKjHuvIaA",
        "outputId": "88b0914b-2524-4b18-f0d8-c378c3abe10b"
      },
      "execution_count": 40,
      "outputs": [
        {
          "output_type": "stream",
          "name": "stdout",
          "text": [
            "what: 186 why: 42 when: 192 who: 112 why: 42 "
          ]
        }
      ]
    },
    {
      "cell_type": "code",
      "source": [
        "cfd = nltk.ConditionalFreqDist(\n",
        "    (genre,word) for genre in brown.categories() for word in brown.words(categories = genre)\n",
        ")"
      ],
      "metadata": {
        "id": "Lx0NbBDtvkUo"
      },
      "execution_count": 41,
      "outputs": []
    },
    {
      "cell_type": "code",
      "source": [
        "genres = ['news', 'religion', 'hobbies', 'science_fiction', 'romance', 'humor']\n",
        "modals = ['can', 'could', 'may', 'might', 'must', 'will']"
      ],
      "metadata": {
        "id": "-XBRgkO6v84H"
      },
      "execution_count": 42,
      "outputs": []
    },
    {
      "cell_type": "code",
      "source": [
        "cfd.tabulate(condtions = genres,samples=modals)"
      ],
      "metadata": {
        "colab": {
          "base_uri": "https://localhost:8080/"
        },
        "id": "4Syegog0wDcS",
        "outputId": "b094dc51-5af1-4b8a-beed-8566c10186b7"
      },
      "execution_count": 43,
      "outputs": [
        {
          "output_type": "stream",
          "name": "stdout",
          "text": [
            "                  can could   may might  must  will \n",
            "      adventure    46   151     5    58    27    50 \n",
            " belles_lettres   246   213   207   113   170   236 \n",
            "      editorial   121    56    74    39    53   233 \n",
            "        fiction    37   166     8    44    55    52 \n",
            "     government   117    38   153    13   102   244 \n",
            "        hobbies   268    58   131    22    83   264 \n",
            "          humor    16    30     8     8     9    13 \n",
            "        learned   365   159   324   128   202   340 \n",
            "           lore   170   141   165    49    96   175 \n",
            "        mystery    42   141    13    57    30    20 \n",
            "           news    93    86    66    38    50   389 \n",
            "       religion    82    59    78    12    54    71 \n",
            "        reviews    45    40    45    26    19    58 \n",
            "        romance    74   193    11    51    45    43 \n",
            "science_fiction    16    49     4    12     8    16 \n"
          ]
        }
      ]
    },
    {
      "cell_type": "code",
      "source": [
        "from nltk.corpus import reuters"
      ],
      "metadata": {
        "id": "Kd6LNQpiwMAT"
      },
      "execution_count": 49,
      "outputs": []
    },
    {
      "cell_type": "code",
      "source": [
        "nltk.download('reuters')"
      ],
      "metadata": {
        "colab": {
          "base_uri": "https://localhost:8080/"
        },
        "id": "3UwX9yatwfEU",
        "outputId": "81a40f54-c7ee-42f3-f7fc-23c6296bb8cf"
      },
      "execution_count": 47,
      "outputs": [
        {
          "output_type": "stream",
          "name": "stdout",
          "text": [
            "[nltk_data] Downloading package reuters to /root/nltk_data...\n",
            "[nltk_data]   Package reuters is already up-to-date!\n"
          ]
        },
        {
          "output_type": "execute_result",
          "data": {
            "text/plain": [
              "True"
            ]
          },
          "metadata": {},
          "execution_count": 47
        }
      ]
    },
    {
      "cell_type": "code",
      "source": [
        "reuters.fileids()[:10]"
      ],
      "metadata": {
        "colab": {
          "base_uri": "https://localhost:8080/"
        },
        "id": "tWAb3JvywiCG",
        "outputId": "3ae3bbca-0cd7-421c-891e-b574a454cb4d"
      },
      "execution_count": 55,
      "outputs": [
        {
          "output_type": "execute_result",
          "data": {
            "text/plain": [
              "['test/14826',\n",
              " 'test/14828',\n",
              " 'test/14829',\n",
              " 'test/14832',\n",
              " 'test/14833',\n",
              " 'test/14839',\n",
              " 'test/14840',\n",
              " 'test/14841',\n",
              " 'test/14842',\n",
              " 'test/14843']"
            ]
          },
          "metadata": {},
          "execution_count": 55
        }
      ]
    },
    {
      "cell_type": "code",
      "source": [
        "reuters.categories()[:5]"
      ],
      "metadata": {
        "colab": {
          "base_uri": "https://localhost:8080/"
        },
        "id": "kRAr3sHAxNAk",
        "outputId": "69a566bc-cc98-42f0-e8cf-188ad82be5e9"
      },
      "execution_count": 54,
      "outputs": [
        {
          "output_type": "execute_result",
          "data": {
            "text/plain": [
              "['acq', 'alum', 'barley', 'bop', 'carcass']"
            ]
          },
          "metadata": {},
          "execution_count": 54
        }
      ]
    },
    {
      "cell_type": "code",
      "source": [
        "reuters.categories('training/9865')"
      ],
      "metadata": {
        "colab": {
          "base_uri": "https://localhost:8080/"
        },
        "id": "OXgcjBQixXdA",
        "outputId": "7d6aa7a6-cee8-4354-dc1e-e6b8d1c4e5cc"
      },
      "execution_count": 56,
      "outputs": [
        {
          "output_type": "execute_result",
          "data": {
            "text/plain": [
              "['barley', 'corn', 'grain', 'wheat']"
            ]
          },
          "metadata": {},
          "execution_count": 56
        }
      ]
    },
    {
      "cell_type": "code",
      "source": [
        "reuters.categories(['training/9865', 'training/9880'])"
      ],
      "metadata": {
        "colab": {
          "base_uri": "https://localhost:8080/"
        },
        "id": "5jJ_-pjNxiHT",
        "outputId": "c2426388-5d2f-446b-aa0f-09cc0778870b"
      },
      "execution_count": 57,
      "outputs": [
        {
          "output_type": "execute_result",
          "data": {
            "text/plain": [
              "['barley', 'corn', 'grain', 'money-fx', 'wheat']"
            ]
          },
          "metadata": {},
          "execution_count": 57
        }
      ]
    },
    {
      "cell_type": "code",
      "source": [
        "reuters.fileids('barley')"
      ],
      "metadata": {
        "colab": {
          "base_uri": "https://localhost:8080/"
        },
        "id": "8PPBMT1Sxk0B",
        "outputId": "3ff3b78e-16c1-4c51-e4db-724aa56a9b9a"
      },
      "execution_count": 58,
      "outputs": [
        {
          "output_type": "execute_result",
          "data": {
            "text/plain": [
              "['test/15618',\n",
              " 'test/15649',\n",
              " 'test/15676',\n",
              " 'test/15728',\n",
              " 'test/15871',\n",
              " 'test/15875',\n",
              " 'test/15952',\n",
              " 'test/17767',\n",
              " 'test/17769',\n",
              " 'test/18024',\n",
              " 'test/18263',\n",
              " 'test/18908',\n",
              " 'test/19275',\n",
              " 'test/19668',\n",
              " 'training/10175',\n",
              " 'training/1067',\n",
              " 'training/11208',\n",
              " 'training/11316',\n",
              " 'training/11885',\n",
              " 'training/12428',\n",
              " 'training/13099',\n",
              " 'training/13744',\n",
              " 'training/13795',\n",
              " 'training/13852',\n",
              " 'training/13856',\n",
              " 'training/1652',\n",
              " 'training/1970',\n",
              " 'training/2044',\n",
              " 'training/2171',\n",
              " 'training/2172',\n",
              " 'training/2191',\n",
              " 'training/2217',\n",
              " 'training/2232',\n",
              " 'training/3132',\n",
              " 'training/3324',\n",
              " 'training/395',\n",
              " 'training/4280',\n",
              " 'training/4296',\n",
              " 'training/5',\n",
              " 'training/501',\n",
              " 'training/5467',\n",
              " 'training/5610',\n",
              " 'training/5640',\n",
              " 'training/6626',\n",
              " 'training/7205',\n",
              " 'training/7579',\n",
              " 'training/8213',\n",
              " 'training/8257',\n",
              " 'training/8759',\n",
              " 'training/9865',\n",
              " 'training/9958']"
            ]
          },
          "metadata": {},
          "execution_count": 58
        }
      ]
    },
    {
      "cell_type": "code",
      "source": [
        "reuters.fileids(['barley', 'corn'])"
      ],
      "metadata": {
        "colab": {
          "base_uri": "https://localhost:8080/"
        },
        "id": "VQJ9ItXaxocp",
        "outputId": "22c07ffa-c2d5-4af4-e564-afdab93e3eaf"
      },
      "execution_count": 59,
      "outputs": [
        {
          "output_type": "execute_result",
          "data": {
            "text/plain": [
              "['test/14832',\n",
              " 'test/14858',\n",
              " 'test/15033',\n",
              " 'test/15043',\n",
              " 'test/15106',\n",
              " 'test/15287',\n",
              " 'test/15341',\n",
              " 'test/15618',\n",
              " 'test/15648',\n",
              " 'test/15649',\n",
              " 'test/15676',\n",
              " 'test/15686',\n",
              " 'test/15720',\n",
              " 'test/15728',\n",
              " 'test/15845',\n",
              " 'test/15856',\n",
              " 'test/15860',\n",
              " 'test/15863',\n",
              " 'test/15871',\n",
              " 'test/15875',\n",
              " 'test/15877',\n",
              " 'test/15890',\n",
              " 'test/15904',\n",
              " 'test/15906',\n",
              " 'test/15910',\n",
              " 'test/15911',\n",
              " 'test/15917',\n",
              " 'test/15952',\n",
              " 'test/15999',\n",
              " 'test/16012',\n",
              " 'test/16071',\n",
              " 'test/16099',\n",
              " 'test/16147',\n",
              " 'test/16525',\n",
              " 'test/16624',\n",
              " 'test/16751',\n",
              " 'test/16765',\n",
              " 'test/17503',\n",
              " 'test/17509',\n",
              " 'test/17722',\n",
              " 'test/17767',\n",
              " 'test/17769',\n",
              " 'test/18024',\n",
              " 'test/18035',\n",
              " 'test/18263',\n",
              " 'test/18482',\n",
              " 'test/18614',\n",
              " 'test/18908',\n",
              " 'test/18954',\n",
              " 'test/18973',\n",
              " 'test/19165',\n",
              " 'test/19275',\n",
              " 'test/19668',\n",
              " 'test/19721',\n",
              " 'test/19821',\n",
              " 'test/20018',\n",
              " 'test/20366',\n",
              " 'test/20637',\n",
              " 'test/20645',\n",
              " 'test/20649',\n",
              " 'test/20723',\n",
              " 'test/20763',\n",
              " 'test/21091',\n",
              " 'test/21243',\n",
              " 'test/21493',\n",
              " 'training/10120',\n",
              " 'training/10139',\n",
              " 'training/10172',\n",
              " 'training/10175',\n",
              " 'training/10319',\n",
              " 'training/10339',\n",
              " 'training/10487',\n",
              " 'training/10489',\n",
              " 'training/10519',\n",
              " 'training/1067',\n",
              " 'training/10701',\n",
              " 'training/10882',\n",
              " 'training/10956',\n",
              " 'training/11012',\n",
              " 'training/11085',\n",
              " 'training/11091',\n",
              " 'training/11208',\n",
              " 'training/11269',\n",
              " 'training/1131',\n",
              " 'training/11316',\n",
              " 'training/11392',\n",
              " 'training/11436',\n",
              " 'training/11607',\n",
              " 'training/11612',\n",
              " 'training/11729',\n",
              " 'training/11739',\n",
              " 'training/11769',\n",
              " 'training/11885',\n",
              " 'training/11936',\n",
              " 'training/11939',\n",
              " 'training/11964',\n",
              " 'training/12002',\n",
              " 'training/12052',\n",
              " 'training/12055',\n",
              " 'training/1215',\n",
              " 'training/12160',\n",
              " 'training/12311',\n",
              " 'training/12323',\n",
              " 'training/12372',\n",
              " 'training/12417',\n",
              " 'training/12428',\n",
              " 'training/12436',\n",
              " 'training/12500',\n",
              " 'training/12583',\n",
              " 'training/12587',\n",
              " 'training/1268',\n",
              " 'training/1273',\n",
              " 'training/12872',\n",
              " 'training/13099',\n",
              " 'training/13173',\n",
              " 'training/13179',\n",
              " 'training/1369',\n",
              " 'training/13744',\n",
              " 'training/13795',\n",
              " 'training/1385',\n",
              " 'training/13852',\n",
              " 'training/13856',\n",
              " 'training/1395',\n",
              " 'training/1399',\n",
              " 'training/14483',\n",
              " 'training/1582',\n",
              " 'training/1652',\n",
              " 'training/1777',\n",
              " 'training/1843',\n",
              " 'training/193',\n",
              " 'training/1952',\n",
              " 'training/197',\n",
              " 'training/1970',\n",
              " 'training/2044',\n",
              " 'training/2171',\n",
              " 'training/2172',\n",
              " 'training/2183',\n",
              " 'training/2191',\n",
              " 'training/2217',\n",
              " 'training/2232',\n",
              " 'training/2264',\n",
              " 'training/235',\n",
              " 'training/2382',\n",
              " 'training/2436',\n",
              " 'training/2456',\n",
              " 'training/2595',\n",
              " 'training/2599',\n",
              " 'training/2617',\n",
              " 'training/2727',\n",
              " 'training/2741',\n",
              " 'training/2749',\n",
              " 'training/2777',\n",
              " 'training/2848',\n",
              " 'training/2913',\n",
              " 'training/2922',\n",
              " 'training/2947',\n",
              " 'training/3132',\n",
              " 'training/3138',\n",
              " 'training/3191',\n",
              " 'training/327',\n",
              " 'training/3282',\n",
              " 'training/3299',\n",
              " 'training/3306',\n",
              " 'training/3324',\n",
              " 'training/3330',\n",
              " 'training/3337',\n",
              " 'training/3358',\n",
              " 'training/3401',\n",
              " 'training/3429',\n",
              " 'training/3847',\n",
              " 'training/3855',\n",
              " 'training/3881',\n",
              " 'training/3949',\n",
              " 'training/395',\n",
              " 'training/3979',\n",
              " 'training/3981',\n",
              " 'training/4047',\n",
              " 'training/4133',\n",
              " 'training/4280',\n",
              " 'training/4289',\n",
              " 'training/4296',\n",
              " 'training/4382',\n",
              " 'training/4490',\n",
              " 'training/4599',\n",
              " 'training/4825',\n",
              " 'training/4905',\n",
              " 'training/4939',\n",
              " 'training/4988',\n",
              " 'training/5',\n",
              " 'training/5003',\n",
              " 'training/501',\n",
              " 'training/5017',\n",
              " 'training/5033',\n",
              " 'training/5109',\n",
              " 'training/516',\n",
              " 'training/5185',\n",
              " 'training/5338',\n",
              " 'training/5467',\n",
              " 'training/5518',\n",
              " 'training/5531',\n",
              " 'training/5606',\n",
              " 'training/5610',\n",
              " 'training/5636',\n",
              " 'training/5637',\n",
              " 'training/5640',\n",
              " 'training/57',\n",
              " 'training/5847',\n",
              " 'training/5933',\n",
              " 'training/6',\n",
              " 'training/6142',\n",
              " 'training/6221',\n",
              " 'training/6236',\n",
              " 'training/6239',\n",
              " 'training/6259',\n",
              " 'training/6269',\n",
              " 'training/6386',\n",
              " 'training/6585',\n",
              " 'training/6588',\n",
              " 'training/6626',\n",
              " 'training/6735',\n",
              " 'training/6890',\n",
              " 'training/6897',\n",
              " 'training/694',\n",
              " 'training/7062',\n",
              " 'training/7205',\n",
              " 'training/7215',\n",
              " 'training/7336',\n",
              " 'training/7387',\n",
              " 'training/7389',\n",
              " 'training/7390',\n",
              " 'training/7395',\n",
              " 'training/7579',\n",
              " 'training/7700',\n",
              " 'training/7792',\n",
              " 'training/7917',\n",
              " 'training/7934',\n",
              " 'training/7943',\n",
              " 'training/8004',\n",
              " 'training/8140',\n",
              " 'training/8161',\n",
              " 'training/8166',\n",
              " 'training/8213',\n",
              " 'training/8257',\n",
              " 'training/8273',\n",
              " 'training/8400',\n",
              " 'training/8443',\n",
              " 'training/8446',\n",
              " 'training/8535',\n",
              " 'training/855',\n",
              " 'training/8759',\n",
              " 'training/8941',\n",
              " 'training/8983',\n",
              " 'training/8993',\n",
              " 'training/9058',\n",
              " 'training/9093',\n",
              " 'training/9094',\n",
              " 'training/934',\n",
              " 'training/9470',\n",
              " 'training/9521',\n",
              " 'training/9667',\n",
              " 'training/97',\n",
              " 'training/9865',\n",
              " 'training/9958',\n",
              " 'training/9989']"
            ]
          },
          "metadata": {},
          "execution_count": 59
        }
      ]
    },
    {
      "cell_type": "code",
      "source": [
        "reuters.words('training/9865')[:14]"
      ],
      "metadata": {
        "colab": {
          "base_uri": "https://localhost:8080/"
        },
        "id": "Hx3dIBSFxsaU",
        "outputId": "e608d63a-fa7f-4af9-9417-d791d6325525"
      },
      "execution_count": 60,
      "outputs": [
        {
          "output_type": "execute_result",
          "data": {
            "text/plain": [
              "['FRENCH',\n",
              " 'FREE',\n",
              " 'MARKET',\n",
              " 'CEREAL',\n",
              " 'EXPORT',\n",
              " 'BIDS',\n",
              " 'DETAILED',\n",
              " 'French',\n",
              " 'operators',\n",
              " 'have',\n",
              " 'requested',\n",
              " 'licences',\n",
              " 'to',\n",
              " 'export']"
            ]
          },
          "metadata": {},
          "execution_count": 60
        }
      ]
    },
    {
      "cell_type": "code",
      "source": [
        "reuters.words(['training/9865', 'training/9880'])"
      ],
      "metadata": {
        "colab": {
          "base_uri": "https://localhost:8080/"
        },
        "id": "cei87KZPxvq_",
        "outputId": "f644f4f6-2843-4402-e203-0c236ea28b75"
      },
      "execution_count": 61,
      "outputs": [
        {
          "output_type": "execute_result",
          "data": {
            "text/plain": [
              "['FRENCH', 'FREE', 'MARKET', 'CEREAL', 'EXPORT', ...]"
            ]
          },
          "metadata": {},
          "execution_count": 61
        }
      ]
    },
    {
      "cell_type": "code",
      "source": [
        "reuters.words(categories='barley')"
      ],
      "metadata": {
        "colab": {
          "base_uri": "https://localhost:8080/"
        },
        "id": "ousItoLlxyYs",
        "outputId": "1965123a-9472-440a-8d47-f90c0d1891d0"
      },
      "execution_count": 62,
      "outputs": [
        {
          "output_type": "execute_result",
          "data": {
            "text/plain": [
              "['FRENCH', 'FREE', 'MARKET', 'CEREAL', 'EXPORT', ...]"
            ]
          },
          "metadata": {},
          "execution_count": 62
        }
      ]
    },
    {
      "cell_type": "code",
      "source": [
        "reuters.words(categories=['barley', 'corn'])"
      ],
      "metadata": {
        "colab": {
          "base_uri": "https://localhost:8080/"
        },
        "id": "bi3w9rtLx0Wt",
        "outputId": "6c69d390-a71c-4725-b9b6-515b76838b72"
      },
      "execution_count": 63,
      "outputs": [
        {
          "output_type": "execute_result",
          "data": {
            "text/plain": [
              "['THAI', 'TRADE', 'DEFICIT', 'WIDENS', 'IN', 'FIRST', ...]"
            ]
          },
          "metadata": {},
          "execution_count": 63
        }
      ]
    },
    {
      "cell_type": "code",
      "source": [
        "nltk.download('inaugural')"
      ],
      "metadata": {
        "colab": {
          "base_uri": "https://localhost:8080/"
        },
        "id": "Dnsj2jcyx364",
        "outputId": "e6ebc288-dc20-4f6b-a8f6-73ca12a4fa1c"
      },
      "execution_count": 65,
      "outputs": [
        {
          "output_type": "stream",
          "name": "stdout",
          "text": [
            "[nltk_data] Downloading package inaugural to /root/nltk_data...\n",
            "[nltk_data]   Unzipping corpora/inaugural.zip.\n"
          ]
        },
        {
          "output_type": "execute_result",
          "data": {
            "text/plain": [
              "True"
            ]
          },
          "metadata": {},
          "execution_count": 65
        }
      ]
    },
    {
      "cell_type": "code",
      "source": [
        "from nltk.corpus import inaugural\n",
        "inaugural.fileids()"
      ],
      "metadata": {
        "colab": {
          "base_uri": "https://localhost:8080/"
        },
        "id": "G_HVZqD9yBQL",
        "outputId": "81f73a43-cfb4-4b50-dfe1-7911002d9f92"
      },
      "execution_count": 66,
      "outputs": [
        {
          "output_type": "execute_result",
          "data": {
            "text/plain": [
              "['1789-Washington.txt',\n",
              " '1793-Washington.txt',\n",
              " '1797-Adams.txt',\n",
              " '1801-Jefferson.txt',\n",
              " '1805-Jefferson.txt',\n",
              " '1809-Madison.txt',\n",
              " '1813-Madison.txt',\n",
              " '1817-Monroe.txt',\n",
              " '1821-Monroe.txt',\n",
              " '1825-Adams.txt',\n",
              " '1829-Jackson.txt',\n",
              " '1833-Jackson.txt',\n",
              " '1837-VanBuren.txt',\n",
              " '1841-Harrison.txt',\n",
              " '1845-Polk.txt',\n",
              " '1849-Taylor.txt',\n",
              " '1853-Pierce.txt',\n",
              " '1857-Buchanan.txt',\n",
              " '1861-Lincoln.txt',\n",
              " '1865-Lincoln.txt',\n",
              " '1869-Grant.txt',\n",
              " '1873-Grant.txt',\n",
              " '1877-Hayes.txt',\n",
              " '1881-Garfield.txt',\n",
              " '1885-Cleveland.txt',\n",
              " '1889-Harrison.txt',\n",
              " '1893-Cleveland.txt',\n",
              " '1897-McKinley.txt',\n",
              " '1901-McKinley.txt',\n",
              " '1905-Roosevelt.txt',\n",
              " '1909-Taft.txt',\n",
              " '1913-Wilson.txt',\n",
              " '1917-Wilson.txt',\n",
              " '1921-Harding.txt',\n",
              " '1925-Coolidge.txt',\n",
              " '1929-Hoover.txt',\n",
              " '1933-Roosevelt.txt',\n",
              " '1937-Roosevelt.txt',\n",
              " '1941-Roosevelt.txt',\n",
              " '1945-Roosevelt.txt',\n",
              " '1949-Truman.txt',\n",
              " '1953-Eisenhower.txt',\n",
              " '1957-Eisenhower.txt',\n",
              " '1961-Kennedy.txt',\n",
              " '1965-Johnson.txt',\n",
              " '1969-Nixon.txt',\n",
              " '1973-Nixon.txt',\n",
              " '1977-Carter.txt',\n",
              " '1981-Reagan.txt',\n",
              " '1985-Reagan.txt',\n",
              " '1989-Bush.txt',\n",
              " '1993-Clinton.txt',\n",
              " '1997-Clinton.txt',\n",
              " '2001-Bush.txt',\n",
              " '2005-Bush.txt',\n",
              " '2009-Obama.txt',\n",
              " '2013-Obama.txt',\n",
              " '2017-Trump.txt',\n",
              " '2021-Biden.txt']"
            ]
          },
          "metadata": {},
          "execution_count": 66
        }
      ]
    },
    {
      "cell_type": "code",
      "source": [
        "[fileid[:4] for fileid in inaugural.fileids()]"
      ],
      "metadata": {
        "colab": {
          "base_uri": "https://localhost:8080/"
        },
        "id": "zZxMgRxyyMli",
        "outputId": "6824248c-af40-4af2-c357-f3823abf0d20"
      },
      "execution_count": 67,
      "outputs": [
        {
          "output_type": "execute_result",
          "data": {
            "text/plain": [
              "['1789',\n",
              " '1793',\n",
              " '1797',\n",
              " '1801',\n",
              " '1805',\n",
              " '1809',\n",
              " '1813',\n",
              " '1817',\n",
              " '1821',\n",
              " '1825',\n",
              " '1829',\n",
              " '1833',\n",
              " '1837',\n",
              " '1841',\n",
              " '1845',\n",
              " '1849',\n",
              " '1853',\n",
              " '1857',\n",
              " '1861',\n",
              " '1865',\n",
              " '1869',\n",
              " '1873',\n",
              " '1877',\n",
              " '1881',\n",
              " '1885',\n",
              " '1889',\n",
              " '1893',\n",
              " '1897',\n",
              " '1901',\n",
              " '1905',\n",
              " '1909',\n",
              " '1913',\n",
              " '1917',\n",
              " '1921',\n",
              " '1925',\n",
              " '1929',\n",
              " '1933',\n",
              " '1937',\n",
              " '1941',\n",
              " '1945',\n",
              " '1949',\n",
              " '1953',\n",
              " '1957',\n",
              " '1961',\n",
              " '1965',\n",
              " '1969',\n",
              " '1973',\n",
              " '1977',\n",
              " '1981',\n",
              " '1985',\n",
              " '1989',\n",
              " '1993',\n",
              " '1997',\n",
              " '2001',\n",
              " '2005',\n",
              " '2009',\n",
              " '2013',\n",
              " '2017',\n",
              " '2021']"
            ]
          },
          "metadata": {},
          "execution_count": 67
        }
      ]
    },
    {
      "cell_type": "code",
      "source": [
        "cfd = nltk.ConditionalFreqDist(\n",
        "    (target,fileid[:4]) for fileid in inaugural.fileids()\n",
        "    for w in inaugural.words(fileid)\n",
        "    for target in ['america','citizen']\n",
        "    if(w.lower().startswith(target))\n",
        ")"
      ],
      "metadata": {
        "id": "yEKAJUFOyTxD"
      },
      "execution_count": 68,
      "outputs": []
    },
    {
      "cell_type": "code",
      "source": [
        "cfd.plot()"
      ],
      "metadata": {
        "colab": {
          "base_uri": "https://localhost:8080/",
          "height": 295
        },
        "id": "XzrZNSPUy2DU",
        "outputId": "29ff3c10-6988-4afa-8a21-3cd870665051"
      },
      "execution_count": 69,
      "outputs": [
        {
          "output_type": "display_data",
          "data": {
            "text/plain": [
              "<Figure size 432x288 with 1 Axes>"
            ],
            "image/png": "[encoded data removed]"
          },
          "metadata": {
            "needs_background": "light"
          }
        }
      ]
    },
    {
      "cell_type": "code",
      "source": [
        "nltk.download('udhr')"
      ],
      "metadata": {
        "colab": {
          "base_uri": "https://localhost:8080/"
        },
        "id": "qMaVGQM3zMMM",
        "outputId": "f9d80eec-8ce7-4b6a-ff6e-71e4713a3ec8"
      },
      "execution_count": 71,
      "outputs": [
        {
          "output_type": "stream",
          "name": "stdout",
          "text": [
            "[nltk_data] Downloading package udhr to /root/nltk_data...\n",
            "[nltk_data]   Unzipping corpora/udhr.zip.\n"
          ]
        },
        {
          "output_type": "execute_result",
          "data": {
            "text/plain": [
              "True"
            ]
          },
          "metadata": {},
          "execution_count": 71
        }
      ]
    },
    {
      "cell_type": "code",
      "source": [
        "from nltk.corpus import udhr"
      ],
      "metadata": {
        "id": "zuIiU9EpzYfS"
      },
      "execution_count": 72,
      "outputs": []
    },
    {
      "cell_type": "code",
      "source": [
        "languages = ['Chickasaw', 'English', 'German_Deutsch','Greenlandic_Inuktikut', 'Hungarian_Magyar', 'Ibibio_Efik']"
      ],
      "metadata": {
        "id": "hZLHuk4AzbxJ"
      },
      "execution_count": 73,
      "outputs": []
    },
    {
      "cell_type": "code",
      "source": [
        "cfd = nltk.ConditionalFreqDist(\n",
        "    (lang,len(word))\n",
        "    for lang in languages\n",
        "    for word in udhr.words(lang + '-Latin1')\n",
        ")"
      ],
      "metadata": {
        "id": "_bgELxRzzfi0"
      },
      "execution_count": 74,
      "outputs": []
    },
    {
      "cell_type": "code",
      "source": [
        "cfd.plot(cumulative = True)"
      ],
      "metadata": {
        "colab": {
          "base_uri": "https://localhost:8080/",
          "height": 282
        },
        "id": "a1LiUUh4zv0H",
        "outputId": "b67bf927-2cef-4e2e-b4aa-5106a3f1a518"
      },
      "execution_count": 75,
      "outputs": [
        {
          "output_type": "display_data",
          "data": {
            "text/plain": [
              "<Figure size 432x288 with 1 Axes>"
            ],
            "image/png": "[encoded data removed]"
          },
          "metadata": {
            "needs_background": "light"
          }
        }
      ]
    },
    {
      "cell_type": "code",
      "source": [
        "raw = gutenberg.raw(\"burgess-busterbrown.txt\")"
      ],
      "metadata": {
        "id": "wJHPrYRbz1d8"
      },
      "execution_count": 76,
      "outputs": []
    },
    {
      "cell_type": "code",
      "source": [
        "raw[1:20]"
      ],
      "metadata": {
        "colab": {
          "base_uri": "https://localhost:8080/",
          "height": 36
        },
        "id": "syjEfHi10QqU",
        "outputId": "caabd2cd-06fa-41c4-b7ea-1e6144640c60"
      },
      "execution_count": 77,
      "outputs": [
        {
          "output_type": "execute_result",
          "data": {
            "text/plain": [
              "'The Adventures of B'"
            ],
            "application/vnd.google.colaboratory.intrinsic+json": {
              "type": "string"
            }
          },
          "metadata": {},
          "execution_count": 77
        }
      ]
    },
    {
      "cell_type": "code",
      "source": [
        "words = gutenberg.words(\"burgess-busterbrown.txt\")"
      ],
      "metadata": {
        "id": "yWUII-ph0SWV"
      },
      "execution_count": 78,
      "outputs": []
    },
    {
      "cell_type": "code",
      "source": [
        "words[1:20]"
      ],
      "metadata": {
        "colab": {
          "base_uri": "https://localhost:8080/"
        },
        "id": "Nz6rdfPp0WNj",
        "outputId": "af961e8b-3286-4463-e511-648d4230f14e"
      },
      "execution_count": 79,
      "outputs": [
        {
          "output_type": "execute_result",
          "data": {
            "text/plain": [
              "['The',\n",
              " 'Adventures',\n",
              " 'of',\n",
              " 'Buster',\n",
              " 'Bear',\n",
              " 'by',\n",
              " 'Thornton',\n",
              " 'W',\n",
              " '.',\n",
              " 'Burgess',\n",
              " '1920',\n",
              " ']',\n",
              " 'I',\n",
              " 'BUSTER',\n",
              " 'BEAR',\n",
              " 'GOES',\n",
              " 'FISHING',\n",
              " 'Buster',\n",
              " 'Bear']"
            ]
          },
          "metadata": {},
          "execution_count": 79
        }
      ]
    },
    {
      "cell_type": "code",
      "source": [
        "sents = gutenberg.sents(\"burgess-busterbrown.txt\")\n",
        "sents[1:4]"
      ],
      "metadata": {
        "colab": {
          "base_uri": "https://localhost:8080/"
        },
        "id": "_372Vuxc0X-Y",
        "outputId": "ebb94a88-3ddc-4925-d519-9697c99f3381"
      },
      "execution_count": 80,
      "outputs": [
        {
          "output_type": "execute_result",
          "data": {
            "text/plain": [
              "[['I'],\n",
              " ['BUSTER', 'BEAR', 'GOES', 'FISHING'],\n",
              " ['Buster',\n",
              "  'Bear',\n",
              "  'yawned',\n",
              "  'as',\n",
              "  'he',\n",
              "  'lay',\n",
              "  'on',\n",
              "  'his',\n",
              "  'comfortable',\n",
              "  'bed',\n",
              "  'of',\n",
              "  'leaves',\n",
              "  'and',\n",
              "  'watched',\n",
              "  'the',\n",
              "  'first',\n",
              "  'early',\n",
              "  'morning',\n",
              "  'sunbeams',\n",
              "  'creeping',\n",
              "  'through',\n",
              "  'the',\n",
              "  'Green',\n",
              "  'Forest',\n",
              "  'to',\n",
              "  'chase',\n",
              "  'out',\n",
              "  'the',\n",
              "  'Black',\n",
              "  'Shadows',\n",
              "  '.']]"
            ]
          },
          "metadata": {},
          "execution_count": 80
        }
      ]
    },
    {
      "cell_type": "code",
      "source": [
        "text = ['The', 'Fulton', 'County', 'Grand', 'Jury', 'said', ...] \n",
        "pairs = [('news', 'The'), ('news', 'Fulton'), ('news', 'County'), ...] "
      ],
      "metadata": {
        "id": "7VPOJAaI0b9e"
      },
      "execution_count": 81,
      "outputs": []
    },
    {
      "cell_type": "code",
      "source": [
        "cfd = nltk.ConditionalFreqDist(\n",
        "    (genre,word)\n",
        "    for genre in brown.categories()\n",
        "    for word in brown.words(categories = genre)\n",
        ")"
      ],
      "metadata": {
        "id": "ZC-uKk0o1F8e"
      },
      "execution_count": 83,
      "outputs": []
    },
    {
      "cell_type": "code",
      "source": [
        "genre_word = [(genre, word) for genre in ['news','romance'] for word in brown.words(categories = genre)]"
      ],
      "metadata": {
        "id": "jGGIdGWZ1LcV"
      },
      "execution_count": 84,
      "outputs": []
    },
    {
      "cell_type": "code",
      "source": [
        "len(genre_word)"
      ],
      "metadata": {
        "colab": {
          "base_uri": "https://localhost:8080/"
        },
        "id": "pr0a_ofh1s9r",
        "outputId": "91300d0d-72b5-4420-e46f-8d0948a46754"
      },
      "execution_count": 85,
      "outputs": [
        {
          "output_type": "execute_result",
          "data": {
            "text/plain": [
              "170576"
            ]
          },
          "metadata": {},
          "execution_count": 85
        }
      ]
    },
    {
      "cell_type": "code",
      "source": [
        "genre_word[:4]"
      ],
      "metadata": {
        "colab": {
          "base_uri": "https://localhost:8080/"
        },
        "id": "kT334SvZ1vTJ",
        "outputId": "56c5a883-b558-4182-8ba8-b550664b101f"
      },
      "execution_count": 86,
      "outputs": [
        {
          "output_type": "execute_result",
          "data": {
            "text/plain": [
              "[('news', 'The'), ('news', 'Fulton'), ('news', 'County'), ('news', 'Grand')]"
            ]
          },
          "metadata": {},
          "execution_count": 86
        }
      ]
    },
    {
      "cell_type": "code",
      "source": [
        "cfd.conditions()"
      ],
      "metadata": {
        "colab": {
          "base_uri": "https://localhost:8080/"
        },
        "id": "NfsAvjZ51ypa",
        "outputId": "d0cf1474-b72e-4f99-df1d-7febb9778f23"
      },
      "execution_count": 87,
      "outputs": [
        {
          "output_type": "execute_result",
          "data": {
            "text/plain": [
              "['adventure',\n",
              " 'belles_lettres',\n",
              " 'editorial',\n",
              " 'fiction',\n",
              " 'government',\n",
              " 'hobbies',\n",
              " 'humor',\n",
              " 'learned',\n",
              " 'lore',\n",
              " 'mystery',\n",
              " 'news',\n",
              " 'religion',\n",
              " 'reviews',\n",
              " 'romance',\n",
              " 'science_fiction']"
            ]
          },
          "metadata": {},
          "execution_count": 87
        }
      ]
    },
    {
      "cell_type": "code",
      "source": [
        "cfd = nltk.ConditionalFreqDist(genre_word)"
      ],
      "metadata": {
        "id": "LSMc_rii12ss"
      },
      "execution_count": 88,
      "outputs": []
    },
    {
      "cell_type": "code",
      "source": [
        "cfd.conditions()"
      ],
      "metadata": {
        "colab": {
          "base_uri": "https://localhost:8080/"
        },
        "id": "WgZHuaYH1_Pt",
        "outputId": "6781e2e3-66b6-4bbe-a17f-f58907df8ff8"
      },
      "execution_count": 89,
      "outputs": [
        {
          "output_type": "execute_result",
          "data": {
            "text/plain": [
              "['news', 'romance']"
            ]
          },
          "metadata": {},
          "execution_count": 89
        }
      ]
    },
    {
      "cell_type": "code",
      "source": [
        "cfd['romance'].most_common(20)"
      ],
      "metadata": {
        "colab": {
          "base_uri": "https://localhost:8080/"
        },
        "id": "zAQmswOU2BFQ",
        "outputId": "c904d2b4-06fd-4af4-edf8-cf9e2aaa6b61"
      },
      "execution_count": 90,
      "outputs": [
        {
          "output_type": "execute_result",
          "data": {
            "text/plain": [
              "[(',', 3899),\n",
              " ('.', 3736),\n",
              " ('the', 2758),\n",
              " ('and', 1776),\n",
              " ('to', 1502),\n",
              " ('a', 1335),\n",
              " ('of', 1186),\n",
              " ('``', 1045),\n",
              " (\"''\", 1044),\n",
              " ('was', 993),\n",
              " ('I', 951),\n",
              " ('in', 875),\n",
              " ('he', 702),\n",
              " ('had', 692),\n",
              " ('?', 690),\n",
              " ('her', 651),\n",
              " ('that', 583),\n",
              " ('it', 573),\n",
              " ('his', 559),\n",
              " ('she', 496)]"
            ]
          },
          "metadata": {},
          "execution_count": 90
        }
      ]
    },
    {
      "cell_type": "code",
      "source": [
        "cfd = nltk.ConditionalFreqDist(\n",
        "    (lang,len(word))\n",
        "    for lang in languages\n",
        "    for word in udhr.words(lang + '-Latin1')\n",
        ")"
      ],
      "metadata": {
        "id": "7vOlLCnw2I-g"
      },
      "execution_count": 91,
      "outputs": []
    },
    {
      "cell_type": "code",
      "source": [
        "cfd.tabulate(conditions = ['English', 'German_Deutsch'], samples = range(10),cumulative=True)"
      ],
      "metadata": {
        "colab": {
          "base_uri": "https://localhost:8080/"
        },
        "id": "brf7A1Nv2nRQ",
        "outputId": "7c533e10-eb1a-4866-cbd9-09bef227ce8e"
      },
      "execution_count": 92,
      "outputs": [
        {
          "output_type": "stream",
          "name": "stdout",
          "text": [
            "                  0    1    2    3    4    5    6    7    8    9 \n",
            "       English    0  185  525  883  997 1166 1283 1440 1558 1638 \n",
            "German_Deutsch    0  171  263  614  717  894 1013 1110 1213 1275 \n"
          ]
        }
      ]
    },
    {
      "cell_type": "code",
      "source": [
        "cfd = nltk.ConditionalFreqDist(genre_word)"
      ],
      "metadata": {
        "id": "gnaX7nOn2wbv"
      },
      "execution_count": 93,
      "outputs": []
    },
    {
      "cell_type": "code",
      "source": [
        "days = ['Monday','Tuesday','Wednesday','Thursday','Friday','Saturday','Sunday']"
      ],
      "metadata": {
        "id": "QCMMPrLw3BZr"
      },
      "execution_count": 94,
      "outputs": []
    },
    {
      "cell_type": "code",
      "source": [
        "cfd.tabulate(samples = days)"
      ],
      "metadata": {
        "colab": {
          "base_uri": "https://localhost:8080/"
        },
        "id": "iYxy8Bvw3Jdj",
        "outputId": "0389defe-553d-4058-c518-2e4d3cf3ec90"
      },
      "execution_count": 98,
      "outputs": [
        {
          "output_type": "stream",
          "name": "stdout",
          "text": [
            "           Monday   Tuesday Wednesday  Thursday    Friday  Saturday    Sunday \n",
            "   news        54        43        22        20        41        33        51 \n",
            "romance         2         3         3         1         3         4         5 \n"
          ]
        }
      ]
    },
    {
      "cell_type": "code",
      "source": [
        "sent = ['In', 'the', 'beginning', 'God', 'created', 'the', 'heaven','and', 'the', 'earth', '.']\n",
        "list(nltk.bigrams(sent))"
      ],
      "metadata": {
        "colab": {
          "base_uri": "https://localhost:8080/"
        },
        "id": "m4qYLQNL3P0B",
        "outputId": "8063f551-60af-4692-ead2-bb54094ea91a"
      },
      "execution_count": 100,
      "outputs": [
        {
          "output_type": "execute_result",
          "data": {
            "text/plain": [
              "[('In', 'the'),\n",
              " ('the', 'beginning'),\n",
              " ('beginning', 'God'),\n",
              " ('God', 'created'),\n",
              " ('created', 'the'),\n",
              " ('the', 'heaven'),\n",
              " ('heaven', 'and'),\n",
              " ('and', 'the'),\n",
              " ('the', 'earth'),\n",
              " ('earth', '.')]"
            ]
          },
          "metadata": {},
          "execution_count": 100
        }
      ]
    },
    {
      "cell_type": "code",
      "source": [
        "def generate_model(cfdist, word, num=15):\n",
        "    for i in range(num):\n",
        "        print(word, end=' ')\n",
        "        word = cfdist[word].max()"
      ],
      "metadata": {
        "id": "EtmPY_mz3zIc"
      },
      "execution_count": 101,
      "outputs": []
    },
    {
      "cell_type": "code",
      "source": [
        "nltk.download('genesis')"
      ],
      "metadata": {
        "colab": {
          "base_uri": "https://localhost:8080/"
        },
        "id": "TU4hGBt04MLv",
        "outputId": "f9d0fe98-0e8b-4241-992f-3d3c93ea186f"
      },
      "execution_count": 102,
      "outputs": [
        {
          "output_type": "stream",
          "name": "stdout",
          "text": [
            "[nltk_data] Downloading package genesis to /root/nltk_data...\n",
            "[nltk_data]   Unzipping corpora/genesis.zip.\n"
          ]
        },
        {
          "output_type": "execute_result",
          "data": {
            "text/plain": [
              "True"
            ]
          },
          "metadata": {},
          "execution_count": 102
        }
      ]
    },
    {
      "cell_type": "code",
      "source": [
        "text = nltk.corpus.genesis.words('english-kjv.txt')\n",
        "bigrams = nltk.bigrams(text)\n",
        "cfd = nltk.ConditionalFreqDist(bigrams)"
      ],
      "metadata": {
        "id": "HiufKN_S4QOd"
      },
      "execution_count": 103,
      "outputs": []
    },
    {
      "cell_type": "code",
      "source": [
        "cfd['living']"
      ],
      "metadata": {
        "colab": {
          "base_uri": "https://localhost:8080/"
        },
        "id": "EJRXNaNr4XBQ",
        "outputId": "70b5d92f-f6d5-45d3-b537-20cec4c1f4c6"
      },
      "execution_count": 104,
      "outputs": [
        {
          "output_type": "execute_result",
          "data": {
            "text/plain": [
              "FreqDist({',': 1,\n",
              "          '.': 1,\n",
              "          'creature': 7,\n",
              "          'soul': 1,\n",
              "          'substance': 2,\n",
              "          'thing': 4})"
            ]
          },
          "metadata": {},
          "execution_count": 104
        }
      ]
    },
    {
      "cell_type": "code",
      "source": [
        "generate_model(cfd,'living')"
      ],
      "metadata": {
        "colab": {
          "base_uri": "https://localhost:8080/"
        },
        "id": "cUSyhxum4aKG",
        "outputId": "0b0f500b-61a0-456d-e7ae-e46a33ba7b1a"
      },
      "execution_count": 107,
      "outputs": [
        {
          "output_type": "stream",
          "name": "stdout",
          "text": [
            "living creature that he said , and the land of the land of the land "
          ]
        }
      ]
    },
    {
      "cell_type": "code",
      "source": [
        "def unusual_words(text):\n",
        "    text_vocab = set(w.lower() for w in text if w.isalpha())\n",
        "    english_vocab = set(w.lower() for w in nltk.corpus.words.words())\n",
        "    unusual = text_vocab - english_vocab\n",
        "    return sorted(unusual)"
      ],
      "metadata": {
        "id": "jyoGWDJO4iZE"
      },
      "execution_count": 113,
      "outputs": []
    },
    {
      "cell_type": "code",
      "source": [
        "nltk.download('words')"
      ],
      "metadata": {
        "colab": {
          "base_uri": "https://localhost:8080/"
        },
        "id": "XB-skOsF5t2O",
        "outputId": "77dcc370-9141-4eaa-f867-536e549b2004"
      },
      "execution_count": 111,
      "outputs": [
        {
          "output_type": "stream",
          "name": "stdout",
          "text": [
            "[nltk_data] Downloading package words to /root/nltk_data...\n",
            "[nltk_data]   Unzipping corpora/words.zip.\n"
          ]
        },
        {
          "output_type": "execute_result",
          "data": {
            "text/plain": [
              "True"
            ]
          },
          "metadata": {},
          "execution_count": 111
        }
      ]
    },
    {
      "cell_type": "code",
      "source": [
        "unusual_words(nltk.corpus.gutenberg.words('austen-sense.txt'))"
      ],
      "metadata": {
        "colab": {
          "base_uri": "https://localhost:8080/"
        },
        "id": "G43Xvaop5pK1",
        "outputId": "49c60b9b-a8ea-4b89-e5ee-4a3e64843d19"
      },
      "execution_count": 114,
      "outputs": [
        {
          "output_type": "execute_result",
          "data": {
            "text/plain": [
              "['abbeyland',\n",
              " 'abhorred',\n",
              " 'abilities',\n",
              " 'abounded',\n",
              " 'abridgement',\n",
              " 'abused',\n",
              " 'abuses',\n",
              " 'accents',\n",
              " 'accepting',\n",
              " 'accommodations',\n",
              " 'accompanied',\n",
              " 'accounted',\n",
              " 'accounts',\n",
              " 'accustomary',\n",
              " 'aches',\n",
              " 'acknowledging',\n",
              " 'acknowledgment',\n",
              " 'acknowledgments',\n",
              " 'acquaintances',\n",
              " 'acquiesced',\n",
              " 'acquitted',\n",
              " 'acquitting',\n",
              " 'acted',\n",
              " 'actions',\n",
              " 'adapted',\n",
              " 'adding',\n",
              " 'additions',\n",
              " 'addressed',\n",
              " 'addresses',\n",
              " 'addressing',\n",
              " 'adhering',\n",
              " 'adieus',\n",
              " 'adjusting',\n",
              " 'administering',\n",
              " 'admirers',\n",
              " 'admires',\n",
              " 'admitting',\n",
              " 'adorned',\n",
              " 'advances',\n",
              " 'advantages',\n",
              " 'affairs',\n",
              " 'affections',\n",
              " 'affects',\n",
              " 'affixed',\n",
              " 'afflictions',\n",
              " 'afforded',\n",
              " 'affording',\n",
              " 'ages',\n",
              " 'agitated',\n",
              " 'agonies',\n",
              " 'ailments',\n",
              " 'aimed',\n",
              " 'alarms',\n",
              " 'alienated',\n",
              " 'alighted',\n",
              " 'alleged',\n",
              " 'allenham',\n",
              " 'allowances',\n",
              " 'allowed',\n",
              " 'allowing',\n",
              " 'alluded',\n",
              " 'alterations',\n",
              " 'altered',\n",
              " 'altering',\n",
              " 'amended',\n",
              " 'amounted',\n",
              " 'amusements',\n",
              " 'ankles',\n",
              " 'annamaria',\n",
              " 'annexed',\n",
              " 'announced',\n",
              " 'announcing',\n",
              " 'annuities',\n",
              " 'annum',\n",
              " 'answered',\n",
              " 'answering',\n",
              " 'answers',\n",
              " 'anticipated',\n",
              " 'anticipating',\n",
              " 'anticipations',\n",
              " 'anymore',\n",
              " 'apartments',\n",
              " 'apologies',\n",
              " 'apologising',\n",
              " 'apologized',\n",
              " 'appearances',\n",
              " 'appeared',\n",
              " 'appearing',\n",
              " 'appeased',\n",
              " 'appetites',\n",
              " 'applauded',\n",
              " 'applying',\n",
              " 'appointed',\n",
              " 'apprehended',\n",
              " 'apprehensions',\n",
              " 'approached',\n",
              " 'approved',\n",
              " 'arbour',\n",
              " 'ardour',\n",
              " 'arguments',\n",
              " 'arranged',\n",
              " 'arrangements',\n",
              " 'arranging',\n",
              " 'arrived',\n",
              " 'arrives',\n",
              " 'arriving',\n",
              " 'ascended',\n",
              " 'ascertained',\n",
              " 'asked',\n",
              " 'asking',\n",
              " 'assembled',\n",
              " 'assemblies',\n",
              " 'asserted',\n",
              " 'assertions',\n",
              " 'assiduities',\n",
              " 'assisted',\n",
              " 'assisting',\n",
              " 'associating',\n",
              " 'assurances',\n",
              " 'astonished',\n",
              " 'atoned',\n",
              " 'atoning',\n",
              " 'attaching',\n",
              " 'attachments',\n",
              " 'attacked',\n",
              " 'attacks',\n",
              " 'attained',\n",
              " 'attempted',\n",
              " 'attempting',\n",
              " 'attempts',\n",
              " 'attendants',\n",
              " 'attended',\n",
              " 'attending',\n",
              " 'attentions',\n",
              " 'attracted',\n",
              " 'attractions',\n",
              " 'attributed',\n",
              " 'attributing',\n",
              " 'auditors',\n",
              " 'augmenting',\n",
              " 'austen',\n",
              " 'authorised',\n",
              " 'authors',\n",
              " 'availed',\n",
              " 'avignon',\n",
              " 'avoided',\n",
              " 'avoiding',\n",
              " 'awaited',\n",
              " 'awakened',\n",
              " 'awaking',\n",
              " 'bags',\n",
              " 'balls',\n",
              " 'banished',\n",
              " 'barouches',\n",
              " 'bathed',\n",
              " 'bears',\n",
              " 'beasts',\n",
              " 'beauties',\n",
              " 'became',\n",
              " 'bedrooms',\n",
              " 'beds',\n",
              " 'befallen',\n",
              " 'befalls',\n",
              " 'befell',\n",
              " 'began',\n",
              " 'begged',\n",
              " 'begins',\n",
              " 'behaved',\n",
              " 'beings',\n",
              " 'believed',\n",
              " 'believes',\n",
              " 'belonged',\n",
              " 'belongs',\n",
              " 'benefited',\n",
              " 'bequeathed',\n",
              " 'berkeley',\n",
              " 'bestowed',\n",
              " 'betrayed',\n",
              " 'betraying',\n",
              " 'biased',\n",
              " 'blackest',\n",
              " 'blameable',\n",
              " 'blessings',\n",
              " 'blights',\n",
              " 'blossoms',\n",
              " 'blundered',\n",
              " 'blushed',\n",
              " 'blushes',\n",
              " 'bolder',\n",
              " 'bones',\n",
              " 'bonomi',\n",
              " 'books',\n",
              " 'booksellers',\n",
              " 'borrowed',\n",
              " 'bottoms',\n",
              " 'boys',\n",
              " 'breakfasting',\n",
              " 'bribing',\n",
              " 'brightened',\n",
              " 'brighter',\n",
              " 'bringing',\n",
              " 'brings',\n",
              " 'broader',\n",
              " 'brothers',\n",
              " 'bruised',\n",
              " 'buildings',\n",
              " 'bursts',\n",
              " 'buying',\n",
              " 'called',\n",
              " 'calls',\n",
              " 'calming',\n",
              " 'candles',\n",
              " 'candour',\n",
              " 'canvassing',\n",
              " 'cards',\n",
              " 'cares',\n",
              " 'caresses',\n",
              " 'careys',\n",
              " 'carriages',\n",
              " 'carries',\n",
              " 'cases',\n",
              " 'casts',\n",
              " 'cats',\n",
              " 'caused',\n",
              " 'ceased',\n",
              " 'ceasing',\n",
              " 'censured',\n",
              " 'centre',\n",
              " 'certainties',\n",
              " 'chagrined',\n",
              " 'chairs',\n",
              " 'chambers',\n",
              " 'chanced',\n",
              " 'changed',\n",
              " 'changes',\n",
              " 'changing',\n",
              " 'characters',\n",
              " 'charged',\n",
              " 'charmed',\n",
              " 'charms',\n",
              " 'cheated',\n",
              " 'checking',\n",
              " 'cheeks',\n",
              " 'cheerfuller',\n",
              " 'cherished',\n",
              " 'cherries',\n",
              " 'children',\n",
              " 'choked',\n",
              " 'chuse',\n",
              " 'chusing',\n",
              " 'circles',\n",
              " 'circumstances',\n",
              " 'civilities',\n",
              " 'claimed',\n",
              " 'claiming',\n",
              " 'claims',\n",
              " 'clarke',\n",
              " 'cleared',\n",
              " 'cleveland',\n",
              " 'clogged',\n",
              " 'closing',\n",
              " 'clouds',\n",
              " 'coats',\n",
              " 'collecting',\n",
              " 'coloured',\n",
              " 'colouring',\n",
              " 'combe',\n",
              " 'comforted',\n",
              " 'comforts',\n",
              " 'comings',\n",
              " 'commanded',\n",
              " 'commands',\n",
              " 'commended',\n",
              " 'comments',\n",
              " 'commissioned',\n",
              " 'commonest',\n",
              " 'communicated',\n",
              " 'companions',\n",
              " 'compared',\n",
              " 'compares',\n",
              " 'comparisons',\n",
              " 'complained',\n",
              " 'complaining',\n",
              " 'complaints',\n",
              " 'completed',\n",
              " 'compliments',\n",
              " 'comprehended',\n",
              " 'concealing',\n",
              " 'concerns',\n",
              " 'concessions',\n",
              " 'concluded',\n",
              " 'conclusions',\n",
              " 'conditions',\n",
              " 'conducted',\n",
              " 'confessed',\n",
              " 'confidante',\n",
              " 'conforming',\n",
              " 'congratulated',\n",
              " 'congratulating',\n",
              " 'congratulations',\n",
              " 'conjectured',\n",
              " 'conjectures',\n",
              " 'conjecturing',\n",
              " 'connections',\n",
              " 'conquests',\n",
              " 'consented',\n",
              " 'consequences',\n",
              " 'considerations',\n",
              " 'considers',\n",
              " 'consisted',\n",
              " 'consists',\n",
              " 'consoled',\n",
              " 'conspired',\n",
              " 'constantia',\n",
              " 'consulted',\n",
              " 'contained',\n",
              " 'containing',\n",
              " 'contend',\n",
              " 'contenting',\n",
              " 'continuing',\n",
              " 'contradicted',\n",
              " 'contrasted',\n",
              " 'contributed',\n",
              " 'contributing',\n",
              " 'contrived',\n",
              " 'contrives',\n",
              " 'contriving',\n",
              " 'controlled',\n",
              " 'conveniences',\n",
              " 'conversations',\n",
              " 'conversed',\n",
              " 'conversing',\n",
              " 'conveyed',\n",
              " 'conveying',\n",
              " 'copying',\n",
              " 'cordials',\n",
              " 'cottages',\n",
              " 'counsellor',\n",
              " 'counteracted',\n",
              " 'couples',\n",
              " 'courted',\n",
              " 'courting',\n",
              " 'courtland',\n",
              " 'cousins',\n",
              " 'cowper',\n",
              " 'cows',\n",
              " 'coxcombs',\n",
              " 'cramps',\n",
              " 'created',\n",
              " 'creating',\n",
              " 'creatures',\n",
              " 'cries',\n",
              " 'crimsoned',\n",
              " 'curtsying',\n",
              " 'cutlets',\n",
              " 'danced',\n",
              " 'dances',\n",
              " 'dared',\n",
              " 'darker',\n",
              " 'dartford',\n",
              " 'dashwood',\n",
              " 'dashwoods',\n",
              " 'daughters',\n",
              " 'davies',\n",
              " 'dawdled',\n",
              " 'dawlish',\n",
              " 'dawned',\n",
              " 'dearer',\n",
              " 'dearest',\n",
              " 'debated',\n",
              " 'debts',\n",
              " 'deceived',\n",
              " 'deciding',\n",
              " 'decisions',\n",
              " 'declares',\n",
              " 'declaring',\n",
              " 'declining',\n",
              " 'deemed',\n",
              " 'deeper',\n",
              " 'deepest',\n",
              " 'defects',\n",
              " 'defended',\n",
              " 'deficiencies',\n",
              " 'degrees',\n",
              " 'delaford',\n",
              " 'delayed',\n",
              " 'delays',\n",
              " 'deliberating',\n",
              " 'delicacies',\n",
              " 'delighful',\n",
              " 'delineated',\n",
              " 'delivered',\n",
              " 'demanded',\n",
              " 'demands',\n",
              " 'demonstrations',\n",
              " 'demur',\n",
              " 'denied',\n",
              " 'dennison',\n",
              " 'denoted',\n",
              " 'denoting',\n",
              " 'departing',\n",
              " 'depended',\n",
              " 'depends',\n",
              " 'deprived',\n",
              " 'described',\n",
              " 'describing',\n",
              " 'deserts',\n",
              " 'deserves',\n",
              " 'designs',\n",
              " 'desiring',\n",
              " 'despatch',\n",
              " 'despatching',\n",
              " 'despised',\n",
              " 'despising',\n",
              " 'destroyed',\n",
              " 'destroys',\n",
              " 'detaining',\n",
              " 'detected',\n",
              " 'detecting',\n",
              " 'determining',\n",
              " 'deterred',\n",
              " 'detested',\n",
              " 'devolved',\n",
              " 'died',\n",
              " 'dies',\n",
              " 'differed',\n",
              " 'differing',\n",
              " 'difficulties',\n",
              " 'dimensions',\n",
              " 'diminished',\n",
              " 'dined',\n",
              " 'dinners',\n",
              " 'directing',\n",
              " 'directions',\n",
              " 'disagreements',\n",
              " 'disappeared',\n",
              " 'disappointments',\n",
              " 'disapproved',\n",
              " 'disapproves',\n",
              " 'disapproving',\n",
              " 'discarded',\n",
              " 'discharged',\n",
              " 'disclaiming',\n",
              " 'disclosing',\n",
              " 'discontents',\n",
              " 'discovering',\n",
              " 'discussions',\n",
              " 'disgraced',\n",
              " 'disinherited',\n",
              " 'disliked',\n",
              " 'dismissed',\n",
              " 'dismounted',\n",
              " 'dispatched',\n",
              " 'dispatches',\n",
              " 'dispersing',\n",
              " 'disposing',\n",
              " 'disputes',\n",
              " 'disqualifications',\n",
              " 'disregarded',\n",
              " 'dissembling',\n",
              " 'dissented',\n",
              " 'distresses',\n",
              " 'distrusts',\n",
              " 'diverted',\n",
              " 'doatingly',\n",
              " 'donavan',\n",
              " 'doomed',\n",
              " 'dooming',\n",
              " 'doors',\n",
              " 'dorsetshire',\n",
              " 'doubted',\n",
              " 'doubts',\n",
              " 'douceur',\n",
              " 'downs',\n",
              " 'dr',\n",
              " 'drains',\n",
              " 'drawings',\n",
              " 'draws',\n",
              " 'dreaded',\n",
              " 'dreading',\n",
              " 'dreaming',\n",
              " 'dresses',\n",
              " 'drives',\n",
              " 'dropped',\n",
              " 'drops',\n",
              " 'drury',\n",
              " 'duets',\n",
              " 'duties',\n",
              " 'earlier',\n",
              " 'earliest',\n",
              " 'earned',\n",
              " 'ears',\n",
              " 'echoed',\n",
              " 'editions',\n",
              " 'edtions',\n",
              " 'effected',\n",
              " 'effecting',\n",
              " 'effusions',\n",
              " 'ellison',\n",
              " 'ellisons',\n",
              " 'eloping',\n",
              " 'eluded',\n",
              " 'embellishments',\n",
              " 'embraced',\n",
              " 'embraces',\n",
              " 'employments',\n",
              " 'enabled',\n",
              " 'enamoured',\n",
              " 'encouraged',\n",
              " 'encouragements',\n",
              " 'encroachments',\n",
              " 'encumbered',\n",
              " 'endeavoring',\n",
              " 'endeavors',\n",
              " 'endeavour',\n",
              " 'endeavoured',\n",
              " 'endeavouring',\n",
              " 'endeavours',\n",
              " 'endowed',\n",
              " 'ends',\n",
              " 'endured',\n",
              " 'enfeebled',\n",
              " 'enforcing',\n",
              " 'engagements',\n",
              " 'england',\n",
              " 'enjoyed',\n",
              " 'enjoyments',\n",
              " 'enquired',\n",
              " 'enquiries',\n",
              " 'enquiring',\n",
              " 'ensued',\n",
              " 'ensured',\n",
              " 'entered',\n",
              " 'entertained',\n",
              " 'entitled',\n",
              " 'entreated',\n",
              " 'entreaties',\n",
              " 'entrusted',\n",
              " 'equalled',\n",
              " 'equals',\n",
              " 'erred',\n",
              " 'errors',\n",
              " 'escaped',\n",
              " 'esq',\n",
              " 'establishing',\n",
              " 'esteemed',\n",
              " 'esteeming',\n",
              " 'esteems',\n",
              " 'estimating',\n",
              " 'estranged',\n",
              " 'evenings',\n",
              " 'events',\n",
              " 'evils',\n",
              " 'examined',\n",
              " 'exceeded',\n",
              " 'excellencies',\n",
              " 'exchanged',\n",
              " 'exclaimed',\n",
              " 'exclamations',\n",
              " 'excused',\n",
              " 'excuses',\n",
              " 'exercised',\n",
              " 'exercising',\n",
              " 'exerted',\n",
              " 'exertions',\n",
              " 'exeter',\n",
              " 'exhilarated',\n",
              " 'existed',\n",
              " 'expectations',\n",
              " 'expected',\n",
              " 'expecting',\n",
              " 'expects',\n",
              " 'expenses',\n",
              " 'experiencing',\n",
              " 'explained',\n",
              " 'explanations',\n",
              " 'expressing',\n",
              " 'expressions',\n",
              " 'extolling',\n",
              " 'extorted',\n",
              " 'extorting',\n",
              " 'extremest',\n",
              " 'eyeing',\n",
              " 'eyes',\n",
              " 'faces',\n",
              " 'facts',\n",
              " 'failed',\n",
              " 'falls',\n",
              " 'familiarized',\n",
              " 'families',\n",
              " 'fancying',\n",
              " 'fates',\n",
              " 'fatigued',\n",
              " 'fatigues',\n",
              " 'faults',\n",
              " 'favour',\n",
              " 'favourable',\n",
              " 'favourite',\n",
              " 'favourites',\n",
              " 'fearing',\n",
              " 'fears',\n",
              " 'features',\n",
              " 'feelings',\n",
              " 'feels',\n",
              " 'feet',\n",
              " 'felicitations',\n",
              " 'females',\n",
              " 'ferrars',\n",
              " 'fetches',\n",
              " 'fettered',\n",
              " 'finds',\n",
              " 'finest',\n",
              " 'fingers',\n",
              " 'flattered',\n",
              " 'flatteries',\n",
              " 'flowed',\n",
              " 'fluctuating',\n",
              " 'flushed',\n",
              " 'foibles',\n",
              " 'followed',\n",
              " 'follows',\n",
              " 'fond',\n",
              " 'footsteps',\n",
              " 'forebodings',\n",
              " 'foreplanned',\n",
              " 'foresaw',\n",
              " 'foreseeing',\n",
              " 'foreseen',\n",
              " 'forfeited',\n",
              " 'forfeiting',\n",
              " 'forgave',\n",
              " 'forgiven',\n",
              " 'forms',\n",
              " 'forsaking',\n",
              " 'fortunes',\n",
              " 'forwarded',\n",
              " 'foundations',\n",
              " 'founded',\n",
              " 'fowls',\n",
              " 'friendliest',\n",
              " 'friends',\n",
              " 'frightens',\n",
              " 'froid',\n",
              " 'frosts',\n",
              " 'fulfil',\n",
              " 'fulfilled',\n",
              " 'fullest',\n",
              " 'gained',\n",
              " 'gales',\n",
              " 'gardens',\n",
              " 'garrets',\n",
              " 'gates',\n",
              " 'gathered',\n",
              " 'generations',\n",
              " 'gentlemen',\n",
              " 'gigs',\n",
              " 'gilberts',\n",
              " 'girls',\n",
              " 'gives',\n",
              " 'glances',\n",
              " 'gloried',\n",
              " 'gloves',\n",
              " 'godby',\n",
              " 'goings',\n",
              " 'goodby',\n",
              " 'governed',\n",
              " 'gowns',\n",
              " 'graces',\n",
              " 'grandmothers',\n",
              " 'granted',\n",
              " 'greatest',\n",
              " 'grieves',\n",
              " 'grows',\n",
              " 'guardians',\n",
              " 'guessed',\n",
              " 'guests',\n",
              " 'guided',\n",
              " 'guineas',\n",
              " 'habits',\n",
              " 'hallooing',\n",
              " 'hands',\n",
              " 'handsomer',\n",
              " 'handsomest',\n",
              " 'hang',\n",
              " 'hanover',\n",
              " 'happened',\n",
              " 'happens',\n",
              " 'hardened',\n",
              " 'hardships',\n",
              " 'harley',\n",
              " 'has',\n",
              " 'hastened',\n",
              " 'hastening',\n",
              " 'hated',\n",
              " 'hates',\n",
              " 'hating',\n",
              " 'having',\n",
              " 'hazarded',\n",
              " 'hazarding',\n",
              " 'heads',\n",
              " 'heard',\n",
              " 'hears',\n",
              " 'heightened',\n",
              " 'heightening',\n",
              " 'heights',\n",
              " 'heirs',\n",
              " 'held',\n",
              " 'hens',\n",
              " 'henshawe',\n",
              " 'hesitated',\n",
              " 'hiding',\n",
              " 'hills',\n",
              " 'hinted',\n",
              " 'hints',\n",
              " 'hoarded',\n",
              " 'holborn',\n",
              " 'holburn',\n",
              " 'holds',\n",
              " 'holidays',\n",
              " 'homes',\n",
              " 'honeysuckles',\n",
              " 'honiton',\n",
              " 'honour',\n",
              " 'honourable',\n",
              " 'honourably',\n",
              " 'honoured',\n",
              " 'honours',\n",
              " 'hopes',\n",
              " 'hoping',\n",
              " 'horrors',\n",
              " 'horses',\n",
              " 'hours',\n",
              " 'houses',\n",
              " 'howsever',\n",
              " 'humbled',\n",
              " 'humiliations',\n",
              " 'humored',\n",
              " 'humoured',\n",
              " 'humouring',\n",
              " 'hunted',\n",
              " 'hunters',\n",
              " 'hunts',\n",
              " 'hurrying',\n",
              " 'husbands',\n",
              " 'huswifes',\n",
              " 'ideas',\n",
              " 'idled',\n",
              " 'idolized',\n",
              " 'ii',\n",
              " 'imaginations',\n",
              " 'imagined',\n",
              " 'imagining',\n",
              " 'imbibed',\n",
              " 'immoveable',\n",
              " 'imparted',\n",
              " 'imperfections',\n",
              " 'implied',\n",
              " 'implies',\n",
              " 'impoverished',\n",
              " 'impoverishing',\n",
              " 'improved',\n",
              " 'improvements',\n",
              " 'imputed',\n",
              " 'inclinations',\n",
              " 'inclined',\n",
              " 'inclosing',\n",
              " 'including',\n",
              " 'incommoded',\n",
              " 'inconveniences',\n",
              " 'increased',\n",
              " 'incurred',\n",
              " 'incurring',\n",
              " 'indulged',\n",
              " 'infants',\n",
              " 'inflicted',\n",
              " 'inflicting',\n",
              " 'influenced',\n",
              " 'inforce',\n",
              " 'inforced',\n",
              " 'informing',\n",
              " 'inhabitants',\n",
              " 'inhabiting',\n",
              " 'inheriting',\n",
              " 'injuries',\n",
              " 'inquired',\n",
              " 'inquiries',\n",
              " 'insinuations',\n",
              " 'insisted',\n",
              " 'installed',\n",
              " 'instigated',\n",
              " 'instructions',\n",
              " 'insulted',\n",
              " 'intends',\n",
              " 'intentions',\n",
              " 'intents',\n",
              " 'interests',\n",
              " 'interposed',\n",
              " 'interspersed',\n",
              " 'intervals',\n",
              " 'interviews',\n",
              " 'intimated',\n",
              " 'introduced',\n",
              " 'introducing',\n",
              " 'intruded',\n",
              " 'invented',\n",
              " 'inventing',\n",
              " 'invitations',\n",
              " 'invited',\n",
              " 'irritated',\n",
              " 'irritates',\n",
              " 'issued',\n",
              " 'jealousies',\n",
              " 'jenning',\n",
              " 'jennings',\n",
              " 'jewels',\n",
              " 'jilting',\n",
              " 'joined',\n",
              " 'joked',\n",
              " 'jokes',\n",
              " 'joking',\n",
              " 'joys',\n",
              " 'judged',\n",
              " 'judging',\n",
              " 'judgments',\n",
              " 'jumbled',\n",
              " 'justified',\n",
              " 'keeps',\n",
              " 'keys',\n",
              " 'kicked',\n",
              " 'kinder',\n",
              " 'kindest',\n",
              " 'kingham',\n",
              " 'kissed',\n",
              " 'kisses',\n",
              " 'knees',\n",
              " 'knives',\n",
              " 'knows',\n",
              " 'laboured',\n",
              " 'lamentations',\n",
              " 'lamps',\n",
              " 'lanes',\n",
              " 'languages',\n",
              " 'larger',\n",
              " 'largest',\n",
              " 'lasted',\n",
              " 'laughed',\n",
              " 'laughs',\n",
              " 'leagued',\n",
              " 'legacies',\n",
              " 'lengthened',\n",
              " 'lengths',\n",
              " 'lessened',\n",
              " 'lessening',\n",
              " 'letters',\n",
              " 'letting',\n",
              " 'lies',\n",
              " 'lifted',\n",
              " 'lightened',\n",
              " 'liked',\n",
              " 'likes',\n",
              " 'limbs',\n",
              " 'limits',\n",
              " 'lines',\n",
              " 'lingered',\n",
              " 'lingering',\n",
              " 'lips',\n",
              " 'listened',\n",
              " 'lives',\n",
              " 'livings',\n",
              " 'll',\n",
              " 'lodges',\n",
              " 'loitered',\n",
              " 'lombardy',\n",
              " 'london',\n",
              " 'longed',\n",
              " 'longest',\n",
              " 'longstaple',\n",
              " 'looked',\n",
              " 'looks',\n",
              " 'loved',\n",
              " 'lovers',\n",
              " 'loves',\n",
              " 'lowered',\n",
              " 'lurking',\n",
              " 'magna',\n",
              " 'maids',\n",
              " 'maintained',\n",
              " 'makes',\n",
              " 'mama',\n",
              " 'managed',\n",
              " 'marlborough',\n",
              " 'marriages',\n",
              " 'marries',\n",
              " 'matters',\n",
              " 'maxims',\n",
              " 'meadows',\n",
              " 'meals',\n",
              " 'means',\n",
              " 'meantime',\n",
              " 'measures',\n",
              " 'medicines',\n",
              " 'meditated',\n",
              " 'meditations',\n",
              " 'meetings',\n",
              " 'mentioned',\n",
              " 'mentioning',\n",
              " 'merest',\n",
              " 'merits',\n",
              " 'merrier',\n",
              " 'messages',\n",
              " 'middleton',\n",
              " 'middletons',\n",
              " 'militated',\n",
              " 'minds',\n",
              " 'minutes',\n",
              " 'misapplied',\n",
              " 'misinformed',\n",
              " 'missed',\n",
              " 'misses',\n",
              " 'mistakes',\n",
              " 'mixing',\n",
              " 'modestest',\n",
              " 'mohrs',\n",
              " 'moments',\n",
              " 'months',\n",
              " 'mosquitoes',\n",
              " 'mothers',\n",
              " 'motives',\n",
              " 'moved',\n",
              " 'murmurings',\n",
              " 'muttered',\n",
              " 'nabobs',\n",
              " 'named',\n",
              " 'names',\n",
              " 'natured',\n",
              " 'nearer',\n",
              " 'needed',\n",
              " 'neglected',\n",
              " 'neighbour',\n",
              " 'neighbourhood',\n",
              " 'neighbouring',\n",
              " 'neighbourly',\n",
              " 'neighbours',\n",
              " 'nerves',\n",
              " 'nests',\n",
              " 'nettles',\n",
              " 'newer',\n",
              " 'newspapers',\n",
              " 'nicest',\n",
              " 'nieces',\n",
              " 'nipped',\n",
              " 'nodded',\n",
              " 'nods',\n",
              " 'noisier',\n",
              " 'notes',\n",
              " 'noticed',\n",
              " 'noticing',\n",
              " 'notions',\n",
              " 'nt',\n",
              " 'nurses',\n",
              " 'obeyed',\n",
              " 'objected',\n",
              " 'objections',\n",
              " 'objects',\n",
              " 'obligations',\n",
              " 'observations',\n",
              " 'observed',\n",
              " 'obstacles',\n",
              " 'obstructed',\n",
              " 'obtained',\n",
              " 'obtaining',\n",
              " 'obviated',\n",
              " 'obviating',\n",
              " 'occasioned',\n",
              " 'occasions',\n",
              " 'occupations',\n",
              " 'occupied',\n",
              " 'occurred',\n",
              " 'oddest',\n",
              " 'offence',\n",
              " 'offences',\n",
              " 'offending',\n",
              " 'offered',\n",
              " 'offices',\n",
              " 'oftener',\n",
              " 'oftenest',\n",
              " 'oldest',\n",
              " 'olives',\n",
              " 'omitted',\n",
              " 'ones',\n",
              " 'opened',\n",
              " 'opinions',\n",
              " 'opportunities',\n",
              " 'ordained',\n",
              " 'orders',\n",
              " 'originated',\n",
              " 'ornamented',\n",
              " 'ornaments',\n",
              " 'others',\n",
              " 'outdone',\n",
              " ...]"
            ]
          },
          "metadata": {},
          "execution_count": 114
        }
      ]
    },
    {
      "cell_type": "code",
      "source": [
        "from nltk.corpus import stopwords"
      ],
      "metadata": {
        "id": "Ci6f8aUN5riG"
      },
      "execution_count": 115,
      "outputs": []
    },
    {
      "cell_type": "code",
      "source": [
        "nltk.download('stopwords')"
      ],
      "metadata": {
        "colab": {
          "base_uri": "https://localhost:8080/"
        },
        "id": "TU2rtk-x6MtZ",
        "outputId": "186001b0-a680-42d1-8d31-78a787bc908b"
      },
      "execution_count": 118,
      "outputs": [
        {
          "output_type": "stream",
          "name": "stdout",
          "text": [
            "[nltk_data] Downloading package stopwords to /root/nltk_data...\n",
            "[nltk_data]   Unzipping corpora/stopwords.zip.\n"
          ]
        },
        {
          "output_type": "execute_result",
          "data": {
            "text/plain": [
              "True"
            ]
          },
          "metadata": {},
          "execution_count": 118
        }
      ]
    },
    {
      "cell_type": "code",
      "source": [
        "stopwords.words('english')"
      ],
      "metadata": {
        "colab": {
          "base_uri": "https://localhost:8080/"
        },
        "id": "BMaOH3zi6FdC",
        "outputId": "a43859be-c4a6-41d6-e522-cc37429f25d4"
      },
      "execution_count": 119,
      "outputs": [
        {
          "output_type": "execute_result",
          "data": {
            "text/plain": [
              "['i',\n",
              " 'me',\n",
              " 'my',\n",
              " 'myself',\n",
              " 'we',\n",
              " 'our',\n",
              " 'ours',\n",
              " 'ourselves',\n",
              " 'you',\n",
              " \"you're\",\n",
              " \"you've\",\n",
              " \"you'll\",\n",
              " \"you'd\",\n",
              " 'your',\n",
              " 'yours',\n",
              " 'yourself',\n",
              " 'yourselves',\n",
              " 'he',\n",
              " 'him',\n",
              " 'his',\n",
              " 'himself',\n",
              " 'she',\n",
              " \"she's\",\n",
              " 'her',\n",
              " 'hers',\n",
              " 'herself',\n",
              " 'it',\n",
              " \"it's\",\n",
              " 'its',\n",
              " 'itself',\n",
              " 'they',\n",
              " 'them',\n",
              " 'their',\n",
              " 'theirs',\n",
              " 'themselves',\n",
              " 'what',\n",
              " 'which',\n",
              " 'who',\n",
              " 'whom',\n",
              " 'this',\n",
              " 'that',\n",
              " \"that'll\",\n",
              " 'these',\n",
              " 'those',\n",
              " 'am',\n",
              " 'is',\n",
              " 'are',\n",
              " 'was',\n",
              " 'were',\n",
              " 'be',\n",
              " 'been',\n",
              " 'being',\n",
              " 'have',\n",
              " 'has',\n",
              " 'had',\n",
              " 'having',\n",
              " 'do',\n",
              " 'does',\n",
              " 'did',\n",
              " 'doing',\n",
              " 'a',\n",
              " 'an',\n",
              " 'the',\n",
              " 'and',\n",
              " 'but',\n",
              " 'if',\n",
              " 'or',\n",
              " 'because',\n",
              " 'as',\n",
              " 'until',\n",
              " 'while',\n",
              " 'of',\n",
              " 'at',\n",
              " 'by',\n",
              " 'for',\n",
              " 'with',\n",
              " 'about',\n",
              " 'against',\n",
              " 'between',\n",
              " 'into',\n",
              " 'through',\n",
              " 'during',\n",
              " 'before',\n",
              " 'after',\n",
              " 'above',\n",
              " 'below',\n",
              " 'to',\n",
              " 'from',\n",
              " 'up',\n",
              " 'down',\n",
              " 'in',\n",
              " 'out',\n",
              " 'on',\n",
              " 'off',\n",
              " 'over',\n",
              " 'under',\n",
              " 'again',\n",
              " 'further',\n",
              " 'then',\n",
              " 'once',\n",
              " 'here',\n",
              " 'there',\n",
              " 'when',\n",
              " 'where',\n",
              " 'why',\n",
              " 'how',\n",
              " 'all',\n",
              " 'any',\n",
              " 'both',\n",
              " 'each',\n",
              " 'few',\n",
              " 'more',\n",
              " 'most',\n",
              " 'other',\n",
              " 'some',\n",
              " 'such',\n",
              " 'no',\n",
              " 'nor',\n",
              " 'not',\n",
              " 'only',\n",
              " 'own',\n",
              " 'same',\n",
              " 'so',\n",
              " 'than',\n",
              " 'too',\n",
              " 'very',\n",
              " 's',\n",
              " 't',\n",
              " 'can',\n",
              " 'will',\n",
              " 'just',\n",
              " 'don',\n",
              " \"don't\",\n",
              " 'should',\n",
              " \"should've\",\n",
              " 'now',\n",
              " 'd',\n",
              " 'll',\n",
              " 'm',\n",
              " 'o',\n",
              " 're',\n",
              " 've',\n",
              " 'y',\n",
              " 'ain',\n",
              " 'aren',\n",
              " \"aren't\",\n",
              " 'couldn',\n",
              " \"couldn't\",\n",
              " 'didn',\n",
              " \"didn't\",\n",
              " 'doesn',\n",
              " \"doesn't\",\n",
              " 'hadn',\n",
              " \"hadn't\",\n",
              " 'hasn',\n",
              " \"hasn't\",\n",
              " 'haven',\n",
              " \"haven't\",\n",
              " 'isn',\n",
              " \"isn't\",\n",
              " 'ma',\n",
              " 'mightn',\n",
              " \"mightn't\",\n",
              " 'mustn',\n",
              " \"mustn't\",\n",
              " 'needn',\n",
              " \"needn't\",\n",
              " 'shan',\n",
              " \"shan't\",\n",
              " 'shouldn',\n",
              " \"shouldn't\",\n",
              " 'wasn',\n",
              " \"wasn't\",\n",
              " 'weren',\n",
              " \"weren't\",\n",
              " 'won',\n",
              " \"won't\",\n",
              " 'wouldn',\n",
              " \"wouldn't\"]"
            ]
          },
          "metadata": {},
          "execution_count": 119
        }
      ]
    },
    {
      "cell_type": "code",
      "source": [
        "def content_fraction(text):\n",
        "  stopwords = nltk.corpus.stopwords.words('english')\n",
        "  content = [w for w in text if w.lower() not in stopwords]\n",
        "  return len(content) / len(text)"
      ],
      "metadata": {
        "id": "byOAAd9w6HeM"
      },
      "execution_count": 120,
      "outputs": []
    },
    {
      "cell_type": "code",
      "source": [
        "content_fraction(nltk.corpus.reuters.words())"
      ],
      "metadata": {
        "colab": {
          "base_uri": "https://localhost:8080/"
        },
        "id": "ihitoU056owH",
        "outputId": "23af07a4-d638-4313-a3ca-c699b6fe4ff7"
      },
      "execution_count": 122,
      "outputs": [
        {
          "output_type": "execute_result",
          "data": {
            "text/plain": [
              "0.735240435097661"
            ]
          },
          "metadata": {},
          "execution_count": 122
        }
      ]
    },
    {
      "cell_type": "code",
      "source": [
        "puzzle_letters = nltk.FreqDist('nutocyi')"
      ],
      "metadata": {
        "id": "fo_COzNh6tax"
      },
      "execution_count": 129,
      "outputs": []
    },
    {
      "cell_type": "code",
      "source": [
        "obligatory = 'o'"
      ],
      "metadata": {
        "id": "QCDBY3i57BZX"
      },
      "execution_count": 130,
      "outputs": []
    },
    {
      "cell_type": "code",
      "source": [
        "wordlist = nltk.corpus.words.words()\n",
        "[w for w in wordlist if(len(w) >= 5 and obligatory in w and nltk.FreqDist(w) <= puzzle_letters)]"
      ],
      "metadata": {
        "colab": {
          "base_uri": "https://localhost:8080/"
        },
        "id": "P5rSiVMr7FSb",
        "outputId": "97f47d47-5577-473d-ce0f-c38cb388511b"
      },
      "execution_count": 133,
      "outputs": [
        {
          "output_type": "execute_result",
          "data": {
            "text/plain": [
              "['coiny', 'count', 'county', 'cyton', 'nocuity', 'tonic', 'uncoy']"
            ]
          },
          "metadata": {},
          "execution_count": 133
        }
      ]
    },
    {
      "cell_type": "code",
      "source": [
        "nltk.download('swadesh')"
      ],
      "metadata": {
        "colab": {
          "base_uri": "https://localhost:8080/"
        },
        "id": "fjwcDvP17Z4N",
        "outputId": "914552ec-062f-483a-86b6-6e4847314464"
      },
      "execution_count": 134,
      "outputs": [
        {
          "output_type": "stream",
          "name": "stdout",
          "text": [
            "[nltk_data] Downloading package swadesh to /root/nltk_data...\n",
            "[nltk_data]   Unzipping corpora/swadesh.zip.\n"
          ]
        },
        {
          "output_type": "execute_result",
          "data": {
            "text/plain": [
              "True"
            ]
          },
          "metadata": {},
          "execution_count": 134
        }
      ]
    },
    {
      "cell_type": "code",
      "source": [
        "from nltk.corpus import swadesh"
      ],
      "metadata": {
        "id": "SsCAJ6lM_hIw"
      },
      "execution_count": 135,
      "outputs": []
    },
    {
      "cell_type": "code",
      "source": [
        "fr2en = swadesh.entries(['fr','en'])"
      ],
      "metadata": {
        "id": "WUlI0_-__kV_"
      },
      "execution_count": 136,
      "outputs": []
    },
    {
      "cell_type": "code",
      "source": [
        "translate = dict(fr2en)"
      ],
      "metadata": {
        "id": "zEVQ_CDz_pSJ"
      },
      "execution_count": 137,
      "outputs": []
    },
    {
      "cell_type": "code",
      "source": [
        "translate['jeter']"
      ],
      "metadata": {
        "colab": {
          "base_uri": "https://localhost:8080/",
          "height": 36
        },
        "id": "mnCZFRQO_t-E",
        "outputId": "bf71892f-d10e-4196-ba89-5c55028cae85"
      },
      "execution_count": 140,
      "outputs": [
        {
          "output_type": "execute_result",
          "data": {
            "text/plain": [
              "'throw'"
            ],
            "application/vnd.google.colaboratory.intrinsic+json": {
              "type": "string"
            }
          },
          "metadata": {},
          "execution_count": 140
        }
      ]
    },
    {
      "cell_type": "code",
      "source": [
        "nltk.download('wordnet')"
      ],
      "metadata": {
        "colab": {
          "base_uri": "https://localhost:8080/"
        },
        "id": "mxSip0mHAlAM",
        "outputId": "5b2a9392-40e5-474e-8c4c-38af89c7fe01"
      },
      "execution_count": 151,
      "outputs": [
        {
          "output_type": "stream",
          "name": "stdout",
          "text": [
            "[nltk_data] Downloading package wordnet to /root/nltk_data...\n",
            "[nltk_data]   Unzipping corpora/wordnet.zip.\n"
          ]
        },
        {
          "output_type": "execute_result",
          "data": {
            "text/plain": [
              "True"
            ]
          },
          "metadata": {},
          "execution_count": 151
        }
      ]
    },
    {
      "cell_type": "code",
      "source": [
        "from nltk.corpus import wordnet as wn"
      ],
      "metadata": {
        "id": "OQL4IvxyBGSQ"
      },
      "execution_count": 152,
      "outputs": []
    },
    {
      "cell_type": "code",
      "source": [
        "wn.synsets('motorcar')"
      ],
      "metadata": {
        "colab": {
          "base_uri": "https://localhost:8080/"
        },
        "id": "yipKfJTuBLoR",
        "outputId": "0c5bf3d2-b632-4a4d-ad21-e121bb52da55"
      },
      "execution_count": 153,
      "outputs": [
        {
          "output_type": "execute_result",
          "data": {
            "text/plain": [
              "[Synset('car.n.01')]"
            ]
          },
          "metadata": {},
          "execution_count": 153
        }
      ]
    },
    {
      "cell_type": "code",
      "source": [
        "wn.synset('car.n.01').lemma_names()"
      ],
      "metadata": {
        "colab": {
          "base_uri": "https://localhost:8080/"
        },
        "id": "y0DvRkClBQSy",
        "outputId": "fc8db538-fe46-42c3-b5a4-a89100e60e5c"
      },
      "execution_count": 157,
      "outputs": [
        {
          "output_type": "execute_result",
          "data": {
            "text/plain": [
              "['car', 'auto', 'automobile', 'machine', 'motorcar']"
            ]
          },
          "metadata": {},
          "execution_count": 157
        }
      ]
    },
    {
      "cell_type": "code",
      "source": [
        "wn.synset('car.n.01').definition()"
      ],
      "metadata": {
        "colab": {
          "base_uri": "https://localhost:8080/",
          "height": 36
        },
        "id": "S0kRcKP2BaSp",
        "outputId": "3c1072de-731e-4a57-84b4-dff4cd53c820"
      },
      "execution_count": 158,
      "outputs": [
        {
          "output_type": "execute_result",
          "data": {
            "text/plain": [
              "'a motor vehicle with four wheels; usually propelled by an internal combustion engine'"
            ],
            "application/vnd.google.colaboratory.intrinsic+json": {
              "type": "string"
            }
          },
          "metadata": {},
          "execution_count": 158
        }
      ]
    },
    {
      "cell_type": "code",
      "source": [
        "wn.synset('car.n.01').examples()"
      ],
      "metadata": {
        "colab": {
          "base_uri": "https://localhost:8080/"
        },
        "id": "-rlVr7BZBks-",
        "outputId": "0ae0eb5e-5603-4b2c-8861-ca50602e0626"
      },
      "execution_count": 159,
      "outputs": [
        {
          "output_type": "execute_result",
          "data": {
            "text/plain": [
              "['he needs a car to get to work']"
            ]
          },
          "metadata": {},
          "execution_count": 159
        }
      ]
    },
    {
      "cell_type": "code",
      "source": [
        "wn.synset('car.n.01').lemmas()"
      ],
      "metadata": {
        "colab": {
          "base_uri": "https://localhost:8080/"
        },
        "id": "bZgyx8EoBmpN",
        "outputId": "25c0cf3b-8cba-449a-f2c5-9f7f6a768a47"
      },
      "execution_count": 160,
      "outputs": [
        {
          "output_type": "execute_result",
          "data": {
            "text/plain": [
              "[Lemma('car.n.01.car'),\n",
              " Lemma('car.n.01.auto'),\n",
              " Lemma('car.n.01.automobile'),\n",
              " Lemma('car.n.01.machine'),\n",
              " Lemma('car.n.01.motorcar')]"
            ]
          },
          "metadata": {},
          "execution_count": 160
        }
      ]
    },
    {
      "cell_type": "code",
      "source": [
        "wn.lemma('car.n.01.auto').synset()"
      ],
      "metadata": {
        "colab": {
          "base_uri": "https://localhost:8080/"
        },
        "id": "g-0V8XIfBp1K",
        "outputId": "0491b81c-c93a-47fd-f2ac-f868703d1fbd"
      },
      "execution_count": 162,
      "outputs": [
        {
          "output_type": "execute_result",
          "data": {
            "text/plain": [
              "Synset('car.n.01')"
            ]
          },
          "metadata": {},
          "execution_count": 162
        }
      ]
    },
    {
      "cell_type": "code",
      "source": [
        "wn.synsets('car')"
      ],
      "metadata": {
        "colab": {
          "base_uri": "https://localhost:8080/"
        },
        "id": "b7hyObzxBy87",
        "outputId": "353ce62f-47f4-4810-a096-a17382b5961e"
      },
      "execution_count": 167,
      "outputs": [
        {
          "output_type": "execute_result",
          "data": {
            "text/plain": [
              "[Synset('car.n.01'),\n",
              " Synset('car.n.02'),\n",
              " Synset('car.n.03'),\n",
              " Synset('car.n.04'),\n",
              " Synset('cable_car.n.01')]"
            ]
          },
          "metadata": {},
          "execution_count": 167
        }
      ]
    },
    {
      "cell_type": "code",
      "source": [
        "for synset in wn.synsets('car'):\n",
        "  print(synset.lemma_names())"
      ],
      "metadata": {
        "colab": {
          "base_uri": "https://localhost:8080/"
        },
        "id": "UfImeelkB669",
        "outputId": "6ee79bcd-2585-4ca7-d9fd-cdd50352edbc"
      },
      "execution_count": 168,
      "outputs": [
        {
          "output_type": "stream",
          "name": "stdout",
          "text": [
            "['car', 'auto', 'automobile', 'machine', 'motorcar']\n",
            "['car', 'railcar', 'railway_car', 'railroad_car']\n",
            "['car', 'gondola']\n",
            "['car', 'elevator_car']\n",
            "['cable_car', 'car']\n"
          ]
        }
      ]
    },
    {
      "cell_type": "code",
      "source": [
        "wn.lemmas('car')"
      ],
      "metadata": {
        "colab": {
          "base_uri": "https://localhost:8080/"
        },
        "id": "iGZn_Dc5CNOu",
        "outputId": "52745ba5-2eb5-4e03-c3c2-e21402b5963e"
      },
      "execution_count": 169,
      "outputs": [
        {
          "output_type": "execute_result",
          "data": {
            "text/plain": [
              "[Lemma('car.n.01.car'),\n",
              " Lemma('car.n.02.car'),\n",
              " Lemma('car.n.03.car'),\n",
              " Lemma('car.n.04.car'),\n",
              " Lemma('cable_car.n.01.car')]"
            ]
          },
          "metadata": {},
          "execution_count": 169
        }
      ]
    },
    {
      "cell_type": "code",
      "source": [
        "motorcar = wn.synset('car.n.01')"
      ],
      "metadata": {
        "id": "CQkFE-khCVNF"
      },
      "execution_count": 171,
      "outputs": []
    },
    {
      "cell_type": "code",
      "source": [
        "types_of_motorcar = motorcar.hyponyms()"
      ],
      "metadata": {
        "id": "w6QBaooMCeCu"
      },
      "execution_count": 172,
      "outputs": []
    },
    {
      "cell_type": "code",
      "source": [
        "types_of_motorcar[0]"
      ],
      "metadata": {
        "colab": {
          "base_uri": "https://localhost:8080/"
        },
        "id": "aYXT2GafCjcu",
        "outputId": "2c1ad3cb-f79b-4a0c-cd2c-197424f250e8"
      },
      "execution_count": 173,
      "outputs": [
        {
          "output_type": "execute_result",
          "data": {
            "text/plain": [
              "Synset('ambulance.n.01')"
            ]
          },
          "metadata": {},
          "execution_count": 173
        }
      ]
    },
    {
      "cell_type": "code",
      "source": [
        "sorted(lemma.name() for synset in types_of_motorcar for lemma in synset.lemmas())"
      ],
      "metadata": {
        "colab": {
          "base_uri": "https://localhost:8080/"
        },
        "id": "YUPdNRY2Cms9",
        "outputId": "f3ecc08f-470a-46f6-daf3-1ab76a65b77f"
      },
      "execution_count": 174,
      "outputs": [
        {
          "output_type": "execute_result",
          "data": {
            "text/plain": [
              "['Model_T',\n",
              " 'S.U.V.',\n",
              " 'SUV',\n",
              " 'Stanley_Steamer',\n",
              " 'ambulance',\n",
              " 'beach_waggon',\n",
              " 'beach_wagon',\n",
              " 'bus',\n",
              " 'cab',\n",
              " 'compact',\n",
              " 'compact_car',\n",
              " 'convertible',\n",
              " 'coupe',\n",
              " 'cruiser',\n",
              " 'electric',\n",
              " 'electric_automobile',\n",
              " 'electric_car',\n",
              " 'estate_car',\n",
              " 'gas_guzzler',\n",
              " 'hack',\n",
              " 'hardtop',\n",
              " 'hatchback',\n",
              " 'heap',\n",
              " 'horseless_carriage',\n",
              " 'hot-rod',\n",
              " 'hot_rod',\n",
              " 'jalopy',\n",
              " 'jeep',\n",
              " 'landrover',\n",
              " 'limo',\n",
              " 'limousine',\n",
              " 'loaner',\n",
              " 'minicar',\n",
              " 'minivan',\n",
              " 'pace_car',\n",
              " 'patrol_car',\n",
              " 'phaeton',\n",
              " 'police_car',\n",
              " 'police_cruiser',\n",
              " 'prowl_car',\n",
              " 'race_car',\n",
              " 'racer',\n",
              " 'racing_car',\n",
              " 'roadster',\n",
              " 'runabout',\n",
              " 'saloon',\n",
              " 'secondhand_car',\n",
              " 'sedan',\n",
              " 'sport_car',\n",
              " 'sport_utility',\n",
              " 'sport_utility_vehicle',\n",
              " 'sports_car',\n",
              " 'squad_car',\n",
              " 'station_waggon',\n",
              " 'station_wagon',\n",
              " 'stock_car',\n",
              " 'subcompact',\n",
              " 'subcompact_car',\n",
              " 'taxi',\n",
              " 'taxicab',\n",
              " 'tourer',\n",
              " 'touring_car',\n",
              " 'two-seater',\n",
              " 'used-car',\n",
              " 'waggon',\n",
              " 'wagon']"
            ]
          },
          "metadata": {},
          "execution_count": 174
        }
      ]
    },
    {
      "cell_type": "code",
      "source": [
        "motorcar.hypernyms()"
      ],
      "metadata": {
        "colab": {
          "base_uri": "https://localhost:8080/"
        },
        "id": "YUrEeeF2CyTR",
        "outputId": "e6f55a97-0bd0-4d33-aabf-2264901e49f1"
      },
      "execution_count": 177,
      "outputs": [
        {
          "output_type": "execute_result",
          "data": {
            "text/plain": [
              "[Synset('motor_vehicle.n.01')]"
            ]
          },
          "metadata": {},
          "execution_count": 177
        }
      ]
    },
    {
      "cell_type": "code",
      "source": [
        "paths = motorcar.hypernym_paths()"
      ],
      "metadata": {
        "id": "sqGIAk7fC55S"
      },
      "execution_count": 178,
      "outputs": []
    },
    {
      "cell_type": "code",
      "source": [
        "len(paths)"
      ],
      "metadata": {
        "colab": {
          "base_uri": "https://localhost:8080/"
        },
        "id": "uz5AuKU1DMcb",
        "outputId": "e0630eb4-2b07-407d-e110-e18beba72181"
      },
      "execution_count": 179,
      "outputs": [
        {
          "output_type": "execute_result",
          "data": {
            "text/plain": [
              "2"
            ]
          },
          "metadata": {},
          "execution_count": 179
        }
      ]
    },
    {
      "cell_type": "code",
      "source": [
        "[synset.name() for synset in paths[0]]"
      ],
      "metadata": {
        "colab": {
          "base_uri": "https://localhost:8080/"
        },
        "id": "M3mBvcTyDNdV",
        "outputId": "bda0e858-2582-4f6f-b748-a2157c1b7cb6"
      },
      "execution_count": 180,
      "outputs": [
        {
          "output_type": "execute_result",
          "data": {
            "text/plain": [
              "['entity.n.01',\n",
              " 'physical_entity.n.01',\n",
              " 'object.n.01',\n",
              " 'whole.n.02',\n",
              " 'artifact.n.01',\n",
              " 'instrumentality.n.03',\n",
              " 'container.n.01',\n",
              " 'wheeled_vehicle.n.01',\n",
              " 'self-propelled_vehicle.n.01',\n",
              " 'motor_vehicle.n.01',\n",
              " 'car.n.01']"
            ]
          },
          "metadata": {},
          "execution_count": 180
        }
      ]
    },
    {
      "cell_type": "code",
      "source": [
        "motorcar.root_hypernyms()"
      ],
      "metadata": {
        "colab": {
          "base_uri": "https://localhost:8080/"
        },
        "id": "rJiw4wESDQII",
        "outputId": "625ac83e-5903-4c3b-fe2c-3a05ffca1708"
      },
      "execution_count": 181,
      "outputs": [
        {
          "output_type": "execute_result",
          "data": {
            "text/plain": [
              "[Synset('entity.n.01')]"
            ]
          },
          "metadata": {},
          "execution_count": 181
        }
      ]
    },
    {
      "cell_type": "code",
      "source": [
        "wn.synset('tree.n.01').part_meronyms()"
      ],
      "metadata": {
        "colab": {
          "base_uri": "https://localhost:8080/"
        },
        "id": "eXVddYt1Da_G",
        "outputId": "40eb2f82-df49-4842-8090-9df09a76a2e0"
      },
      "execution_count": 182,
      "outputs": [
        {
          "output_type": "execute_result",
          "data": {
            "text/plain": [
              "[Synset('burl.n.02'),\n",
              " Synset('crown.n.07'),\n",
              " Synset('limb.n.02'),\n",
              " Synset('stump.n.01'),\n",
              " Synset('trunk.n.01')]"
            ]
          },
          "metadata": {},
          "execution_count": 182
        }
      ]
    },
    {
      "cell_type": "code",
      "source": [
        "wn.synset('tree.n.01').substance_meronyms()"
      ],
      "metadata": {
        "colab": {
          "base_uri": "https://localhost:8080/"
        },
        "id": "K1CBB5U5Dnn9",
        "outputId": "70b394e3-a1ce-4c36-a045-61530dd3d205"
      },
      "execution_count": 183,
      "outputs": [
        {
          "output_type": "execute_result",
          "data": {
            "text/plain": [
              "[Synset('heartwood.n.01'), Synset('sapwood.n.01')]"
            ]
          },
          "metadata": {},
          "execution_count": 183
        }
      ]
    },
    {
      "cell_type": "code",
      "source": [
        "wn.synset('tree.n.01').member_holonyms()"
      ],
      "metadata": {
        "colab": {
          "base_uri": "https://localhost:8080/"
        },
        "id": "Y8uOnkbdDqFk",
        "outputId": "bf65e75f-6e92-49c3-b86e-5ec9fd7609da"
      },
      "execution_count": 184,
      "outputs": [
        {
          "output_type": "execute_result",
          "data": {
            "text/plain": [
              "[Synset('forest.n.01')]"
            ]
          },
          "metadata": {},
          "execution_count": 184
        }
      ]
    },
    {
      "cell_type": "code",
      "source": [
        "for synset in wn.synsets('mint', wn.NOUN):\n",
        "  print(synset.name() + ':', synset.definition())"
      ],
      "metadata": {
        "colab": {
          "base_uri": "https://localhost:8080/"
        },
        "id": "x4cOoVC8Dr8T",
        "outputId": "49b24b2b-a48e-4bef-b164-4b0fad5c0194"
      },
      "execution_count": 185,
      "outputs": [
        {
          "output_type": "stream",
          "name": "stdout",
          "text": [
            "batch.n.02: (often followed by `of') a large number or amount or extent\n",
            "mint.n.02: any north temperate plant of the genus Mentha with aromatic leaves and small mauve flowers\n",
            "mint.n.03: any member of the mint family of plants\n",
            "mint.n.04: the leaves of a mint plant used fresh or candied\n",
            "mint.n.05: a candy that is flavored with a mint oil\n",
            "mint.n.06: a plant where money is coined by authority of the government\n"
          ]
        }
      ]
    },
    {
      "cell_type": "code",
      "source": [
        "wn.synset('walk.v.01').entailments()"
      ],
      "metadata": {
        "colab": {
          "base_uri": "https://localhost:8080/"
        },
        "id": "VpKzUgVfDwf9",
        "outputId": "d24c0176-6fb0-4515-c1f6-efa50c5c6ffc"
      },
      "execution_count": 186,
      "outputs": [
        {
          "output_type": "execute_result",
          "data": {
            "text/plain": [
              "[Synset('step.v.01')]"
            ]
          },
          "metadata": {},
          "execution_count": 186
        }
      ]
    },
    {
      "cell_type": "code",
      "source": [
        "wn.synset('eat.v.01').entailments()"
      ],
      "metadata": {
        "colab": {
          "base_uri": "https://localhost:8080/"
        },
        "id": "0SXSjFqiD9Ot",
        "outputId": "45f77455-86a9-468f-955c-86bf8d1961ba"
      },
      "execution_count": 187,
      "outputs": [
        {
          "output_type": "execute_result",
          "data": {
            "text/plain": [
              "[Synset('chew.v.01'), Synset('swallow.v.01')]"
            ]
          },
          "metadata": {},
          "execution_count": 187
        }
      ]
    },
    {
      "cell_type": "code",
      "source": [
        "wn.synset('tease.v.03').entailments()"
      ],
      "metadata": {
        "colab": {
          "base_uri": "https://localhost:8080/"
        },
        "id": "YLII3GmID_sE",
        "outputId": "091989cb-7531-4c87-a092-838580e166d2"
      },
      "execution_count": 188,
      "outputs": [
        {
          "output_type": "execute_result",
          "data": {
            "text/plain": [
              "[Synset('arouse.v.07'), Synset('disappoint.v.01')]"
            ]
          },
          "metadata": {},
          "execution_count": 188
        }
      ]
    },
    {
      "cell_type": "code",
      "source": [
        "wn.lemma('supply.n.02.supply').antonyms()"
      ],
      "metadata": {
        "colab": {
          "base_uri": "https://localhost:8080/"
        },
        "id": "9piYVIHNECRL",
        "outputId": "ea6dd0a7-d436-4877-d0d3-3d9893180459"
      },
      "execution_count": 189,
      "outputs": [
        {
          "output_type": "execute_result",
          "data": {
            "text/plain": [
              "[Lemma('demand.n.02.demand')]"
            ]
          },
          "metadata": {},
          "execution_count": 189
        }
      ]
    },
    {
      "cell_type": "code",
      "source": [
        "wn.lemma('rush.v.01.rush').antonyms()"
      ],
      "metadata": {
        "colab": {
          "base_uri": "https://localhost:8080/"
        },
        "id": "l7LPwSuvEU0Z",
        "outputId": "ce19daf7-adb9-4468-d543-a1fe52a19f54"
      },
      "execution_count": 190,
      "outputs": [
        {
          "output_type": "execute_result",
          "data": {
            "text/plain": [
              "[Lemma('linger.v.04.linger')]"
            ]
          },
          "metadata": {},
          "execution_count": 190
        }
      ]
    },
    {
      "cell_type": "code",
      "source": [
        "wn.lemma('horizontal.a.01.horizontal').antonyms()"
      ],
      "metadata": {
        "colab": {
          "base_uri": "https://localhost:8080/"
        },
        "id": "A-zL2sIZEXwU",
        "outputId": "9060d32c-3e7f-4bed-9509-0a9e8fb8abe0"
      },
      "execution_count": 191,
      "outputs": [
        {
          "output_type": "execute_result",
          "data": {
            "text/plain": [
              "[Lemma('inclined.a.02.inclined'), Lemma('vertical.a.01.vertical')]"
            ]
          },
          "metadata": {},
          "execution_count": 191
        }
      ]
    },
    {
      "cell_type": "code",
      "source": [
        "wn.lemma('staccato.r.01.staccato').antonyms()"
      ],
      "metadata": {
        "colab": {
          "base_uri": "https://localhost:8080/"
        },
        "id": "qYRYtC4TEadd",
        "outputId": "cc2165f3-e063-460c-939b-a62ececc2887"
      },
      "execution_count": 192,
      "outputs": [
        {
          "output_type": "execute_result",
          "data": {
            "text/plain": [
              "[Lemma('legato.r.01.legato')]"
            ]
          },
          "metadata": {},
          "execution_count": 192
        }
      ]
    },
    {
      "cell_type": "code",
      "source": [
        "dir(wn.synset('harmony.n.02'))"
      ],
      "metadata": {
        "colab": {
          "base_uri": "https://localhost:8080/"
        },
        "id": "EdGFrm7kEc6U",
        "outputId": "6c0811ea-f701-4a3e-df6b-51f0d44d5f04"
      },
      "execution_count": 194,
      "outputs": [
        {
          "output_type": "execute_result",
          "data": {
            "text/plain": [
              "['__class__',\n",
              " '__delattr__',\n",
              " '__dict__',\n",
              " '__dir__',\n",
              " '__doc__',\n",
              " '__eq__',\n",
              " '__format__',\n",
              " '__ge__',\n",
              " '__getattribute__',\n",
              " '__gt__',\n",
              " '__hash__',\n",
              " '__init__',\n",
              " '__init_subclass__',\n",
              " '__le__',\n",
              " '__lt__',\n",
              " '__module__',\n",
              " '__ne__',\n",
              " '__new__',\n",
              " '__reduce__',\n",
              " '__reduce_ex__',\n",
              " '__repr__',\n",
              " '__setattr__',\n",
              " '__sizeof__',\n",
              " '__slots__',\n",
              " '__str__',\n",
              " '__subclasshook__',\n",
              " '__unicode__',\n",
              " '__weakref__',\n",
              " '_all_hypernyms',\n",
              " '_definition',\n",
              " '_examples',\n",
              " '_frame_ids',\n",
              " '_hypernyms',\n",
              " '_instance_hypernyms',\n",
              " '_iter_hypernym_lists',\n",
              " '_lemma_names',\n",
              " '_lemma_pointers',\n",
              " '_lemmas',\n",
              " '_lexname',\n",
              " '_max_depth',\n",
              " '_min_depth',\n",
              " '_name',\n",
              " '_needs_root',\n",
              " '_offset',\n",
              " '_pointers',\n",
              " '_pos',\n",
              " '_related',\n",
              " '_shortest_hypernym_paths',\n",
              " '_wordnet_corpus_reader',\n",
              " 'also_sees',\n",
              " 'attributes',\n",
              " 'causes',\n",
              " 'closure',\n",
              " 'common_hypernyms',\n",
              " 'definition',\n",
              " 'entailments',\n",
              " 'examples',\n",
              " 'frame_ids',\n",
              " 'hypernym_distances',\n",
              " 'hypernym_paths',\n",
              " 'hypernyms',\n",
              " 'hyponyms',\n",
              " 'instance_hypernyms',\n",
              " 'instance_hyponyms',\n",
              " 'jcn_similarity',\n",
              " 'lch_similarity',\n",
              " 'lemma_names',\n",
              " 'lemmas',\n",
              " 'lexname',\n",
              " 'lin_similarity',\n",
              " 'lowest_common_hypernyms',\n",
              " 'max_depth',\n",
              " 'member_holonyms',\n",
              " 'member_meronyms',\n",
              " 'min_depth',\n",
              " 'name',\n",
              " 'offset',\n",
              " 'part_holonyms',\n",
              " 'part_meronyms',\n",
              " 'path_similarity',\n",
              " 'pos',\n",
              " 'region_domains',\n",
              " 'res_similarity',\n",
              " 'root_hypernyms',\n",
              " 'shortest_path_distance',\n",
              " 'similar_tos',\n",
              " 'substance_holonyms',\n",
              " 'substance_meronyms',\n",
              " 'topic_domains',\n",
              " 'tree',\n",
              " 'unicode_repr',\n",
              " 'usage_domains',\n",
              " 'verb_groups',\n",
              " 'wup_similarity']"
            ]
          },
          "metadata": {},
          "execution_count": 194
        }
      ]
    },
    {
      "cell_type": "code",
      "source": [
        "right = wn.synset('right_whale.n.01')\n",
        "orca = wn.synset('orca.n.01')\n",
        "minke = wn.synset('minke_whale.n.01')\n",
        "tortoise = wn.synset('tortoise.n.01')\n",
        "novel = wn.synset('novel.n.01')\n",
        "right.lowest_common_hypernyms(minke)"
      ],
      "metadata": {
        "colab": {
          "base_uri": "https://localhost:8080/"
        },
        "id": "NZtfoBR5E0vD",
        "outputId": "d0b3cd8b-82f4-4d69-83f8-22b2603d5ac9"
      },
      "execution_count": 198,
      "outputs": [
        {
          "output_type": "execute_result",
          "data": {
            "text/plain": [
              "[Synset('baleen_whale.n.01')]"
            ]
          },
          "metadata": {},
          "execution_count": 198
        }
      ]
    },
    {
      "cell_type": "code",
      "source": [
        "right.lowest_common_hypernyms(orca)"
      ],
      "metadata": {
        "colab": {
          "base_uri": "https://localhost:8080/"
        },
        "id": "3w29xrQ2Ffkf",
        "outputId": "1da5f0f8-0a84-488e-a6ed-deeecb545009"
      },
      "execution_count": 199,
      "outputs": [
        {
          "output_type": "execute_result",
          "data": {
            "text/plain": [
              "[Synset('whale.n.02')]"
            ]
          },
          "metadata": {},
          "execution_count": 199
        }
      ]
    },
    {
      "cell_type": "code",
      "source": [
        "right.lowest_common_hypernyms(tortoise)"
      ],
      "metadata": {
        "colab": {
          "base_uri": "https://localhost:8080/"
        },
        "id": "i1PD2m-TFlYE",
        "outputId": "6c324f0c-32d3-4883-8f0a-aaa968ed69c4"
      },
      "execution_count": 200,
      "outputs": [
        {
          "output_type": "execute_result",
          "data": {
            "text/plain": [
              "[Synset('vertebrate.n.01')]"
            ]
          },
          "metadata": {},
          "execution_count": 200
        }
      ]
    },
    {
      "cell_type": "code",
      "source": [
        "right.lowest_common_hypernyms(novel)"
      ],
      "metadata": {
        "colab": {
          "base_uri": "https://localhost:8080/"
        },
        "id": "1O9YSAJlFqYs",
        "outputId": "ab48bde8-e4ae-492e-ed0b-b4f44ec9e389"
      },
      "execution_count": 201,
      "outputs": [
        {
          "output_type": "execute_result",
          "data": {
            "text/plain": [
              "[Synset('entity.n.01')]"
            ]
          },
          "metadata": {},
          "execution_count": 201
        }
      ]
    },
    {
      "cell_type": "code",
      "source": [
        "right.path_similarity(minke)"
      ],
      "metadata": {
        "colab": {
          "base_uri": "https://localhost:8080/"
        },
        "id": "AIy61coYFtC4",
        "outputId": "7a7a22ad-c1e3-43d5-bb63-11dc431c4b1a"
      },
      "execution_count": 202,
      "outputs": [
        {
          "output_type": "execute_result",
          "data": {
            "text/plain": [
              "0.25"
            ]
          },
          "metadata": {},
          "execution_count": 202
        }
      ]
    },
    {
      "cell_type": "code",
      "source": [
        "right.shortest_path_distance(minke)"
      ],
      "metadata": {
        "colab": {
          "base_uri": "https://localhost:8080/"
        },
        "id": "GMHIEMGfF1ep",
        "outputId": "ba7527b7-49fc-420b-843b-f4df935c0509"
      },
      "execution_count": 203,
      "outputs": [
        {
          "output_type": "execute_result",
          "data": {
            "text/plain": [
              "3"
            ]
          },
          "metadata": {},
          "execution_count": 203
        }
      ]
    },
    {
      "cell_type": "code",
      "source": [
        "right.min_depth()"
      ],
      "metadata": {
        "colab": {
          "base_uri": "https://localhost:8080/"
        },
        "id": "NVcmo3N-F4ON",
        "outputId": "9274c20b-6b30-4d1e-a184-e2b7dff14f7a"
      },
      "execution_count": 204,
      "outputs": [
        {
          "output_type": "execute_result",
          "data": {
            "text/plain": [
              "15"
            ]
          },
          "metadata": {},
          "execution_count": 204
        }
      ]
    },
    {
      "cell_type": "code",
      "source": [
        "minke.min_depth()"
      ],
      "metadata": {
        "colab": {
          "base_uri": "https://localhost:8080/"
        },
        "id": "mCDNP7lqF-Da",
        "outputId": "e21aaa08-4f72-434d-c547-aeadb9613594"
      },
      "execution_count": 205,
      "outputs": [
        {
          "output_type": "execute_result",
          "data": {
            "text/plain": [
              "16"
            ]
          },
          "metadata": {},
          "execution_count": 205
        }
      ]
    },
    {
      "cell_type": "code",
      "source": [
        ""
      ],
      "metadata": {
        "id": "i4nRV9nOGAAk"
      },
      "execution_count": null,
      "outputs": []
    }
  ]
}